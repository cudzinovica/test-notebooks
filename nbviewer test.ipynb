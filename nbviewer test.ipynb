{
 "cells": [
  {
   "cell_type": "code",
   "execution_count": 52,
   "metadata": {},
   "outputs": [
    {
     "data": {
      "text/html": [
       "<script>\n",
       "code_show=true; \n",
       "function code_toggle() {\n",
       " if (code_show){\n",
       " $('div.input').hide();\n",
       " } else {\n",
       " $('div.input').show();\n",
       " }\n",
       " code_show = !code_show\n",
       "} \n",
       "$( document ).ready(code_toggle);\n",
       "</script>\n",
       "<form action=\"javascript:code_toggle()\"><input type=\"submit\" value=\"Click here to toggle on/off the raw code.\"></form>"
      ],
      "text/plain": [
       "<IPython.core.display.HTML object>"
      ]
     },
     "execution_count": 52,
     "metadata": {},
     "output_type": "execute_result"
    }
   ],
   "source": [
    "from IPython.display import HTML\n",
    "\n",
    "HTML('''<script>\n",
    "code_show=true; \n",
    "function code_toggle() {\n",
    " if (code_show){\n",
    " $('div.input').hide();\n",
    " } else {\n",
    " $('div.input').show();\n",
    " }\n",
    " code_show = !code_show\n",
    "} \n",
    "$( document ).ready(code_toggle);\n",
    "</script>\n",
    "<form action=\"javascript:code_toggle()\"><input type=\"submit\" value=\"Click here to toggle on/off the raw code.\"></form>''')"
   ]
  },
  {
   "cell_type": "code",
   "execution_count": 53,
   "metadata": {},
   "outputs": [],
   "source": [
    "from ipywidgets import interact, interactive, fixed, interact_manual\n",
    "import ipywidgets as widgets"
   ]
  },
  {
   "cell_type": "code",
   "execution_count": 54,
   "metadata": {},
   "outputs": [
    {
     "data": {
      "application/vnd.jupyter.widget-view+json": {
       "model_id": "2e25fbb22f1648ad8987fdadaaec1957",
       "version_major": 2,
       "version_minor": 0
      },
      "text/html": [
       "<p>Failed to display Jupyter Widget of type <code>Text</code>.</p>\n",
       "<p>\n",
       "  If you're reading this message in the Jupyter Notebook or JupyterLab Notebook, it may mean\n",
       "  that the widgets JavaScript is still loading. If this message persists, it\n",
       "  likely means that the widgets JavaScript library is either not installed or\n",
       "  not enabled. See the <a href=\"https://ipywidgets.readthedocs.io/en/stable/user_install.html\">Jupyter\n",
       "  Widgets Documentation</a> for setup instructions.\n",
       "</p>\n",
       "<p>\n",
       "  If you're reading this message in another frontend (for example, a static\n",
       "  rendering on GitHub or <a href=\"https://nbviewer.jupyter.org/\">NBViewer</a>),\n",
       "  it may mean that your frontend doesn't currently support widgets.\n",
       "</p>\n"
      ],
      "text/plain": [
       "Text(value='')"
      ]
     },
     "metadata": {},
     "output_type": "display_data"
    }
   ],
   "source": [
    "outputText = widgets.Text()\n",
    "outputText"
   ]
  },
  {
   "cell_type": "code",
   "execution_count": 55,
   "metadata": {},
   "outputs": [
    {
     "data": {
      "application/vnd.jupyter.widget-view+json": {
       "model_id": "65321c0357474b88a4ccb2f3f6bc3d03",
       "version_major": 2,
       "version_minor": 0
      },
      "text/html": [
       "<p>Failed to display Jupyter Widget of type <code>Text</code>.</p>\n",
       "<p>\n",
       "  If you're reading this message in the Jupyter Notebook or JupyterLab Notebook, it may mean\n",
       "  that the widgets JavaScript is still loading. If this message persists, it\n",
       "  likely means that the widgets JavaScript library is either not installed or\n",
       "  not enabled. See the <a href=\"https://ipywidgets.readthedocs.io/en/stable/user_install.html\">Jupyter\n",
       "  Widgets Documentation</a> for setup instructions.\n",
       "</p>\n",
       "<p>\n",
       "  If you're reading this message in another frontend (for example, a static\n",
       "  rendering on GitHub or <a href=\"https://nbviewer.jupyter.org/\">NBViewer</a>),\n",
       "  it may mean that your frontend doesn't currently support widgets.\n",
       "</p>\n"
      ],
      "text/plain": [
       "Text(value='')"
      ]
     },
     "metadata": {},
     "output_type": "display_data"
    }
   ],
   "source": [
    "inputText = widgets.Text()\n",
    "\n",
    "def makeUpperCase(sender):\n",
    "    outputText.value = inputText.value.upper()\n",
    "    \n",
    "inputText.on_submit(makeUpperCase)\n",
    "inputText"
   ]
  },
  {
   "cell_type": "code",
   "execution_count": null,
   "metadata": {},
   "outputs": [],
   "source": []
  }
 ],
 "metadata": {
  "kernelspec": {
   "display_name": "Python 3",
   "language": "python",
   "name": "python3"
  },
  "language_info": {
   "codemirror_mode": {
    "name": "ipython",
    "version": 3
   },
   "file_extension": ".py",
   "mimetype": "text/x-python",
   "name": "python",
   "nbconvert_exporter": "python",
   "pygments_lexer": "ipython3",
   "version": "3.6.3"
  },
  "widgets": {
   "application/vnd.jupyter.widget-state+json": {
    "state": {
     "04c00a6f60cd4a18bd6e0f31f803ccbf": {
      "model_module": "@jupyter-widgets/base",
      "model_module_version": "1.0.0",
      "model_name": "LayoutModel",
      "state": {}
     },
     "05dfa3530d2b49cf8ffc86713e2e787f": {
      "model_module": "@jupyter-widgets/controls",
      "model_module_version": "1.0.0",
      "model_name": "DescriptionStyleModel",
      "state": {
       "description_width": ""
      }
     },
     "0785cdcc750c4398bac99a3a2edef8dc": {
      "model_module": "@jupyter-widgets/base",
      "model_module_version": "1.0.0",
      "model_name": "LayoutModel",
      "state": {}
     },
     "0a740dae07324eadbebca85ef455f0c6": {
      "model_module": "@jupyter-widgets/base",
      "model_module_version": "1.0.0",
      "model_name": "LayoutModel",
      "state": {}
     },
     "0cf862c8c34e407eb6cd05d364467283": {
      "model_module": "@jupyter-widgets/controls",
      "model_module_version": "1.0.0",
      "model_name": "IntSliderModel",
      "state": {
       "description": "p",
       "layout": "IPY_MODEL_8099af5513fd4c799857f3ab1fa8f7fc",
       "max": 15,
       "min": -5,
       "style": "IPY_MODEL_61c0c2dbfb244813a6276630e674fc21",
       "value": 1
      }
     },
     "0d74cc05bb6f43a8929c39f66cfe83c1": {
      "model_module": "@jupyter-widgets/controls",
      "model_module_version": "1.0.0",
      "model_name": "DescriptionStyleModel",
      "state": {
       "description_width": ""
      }
     },
     "1174d9d63ed445ac9538352b11c3f4cc": {
      "model_module": "@jupyter-widgets/controls",
      "model_module_version": "1.0.0",
      "model_name": "SliderStyleModel",
      "state": {
       "description_width": ""
      }
     },
     "11d92c28ef3c4eaa94142da74a2fb8da": {
      "model_module": "@jupyter-widgets/base",
      "model_module_version": "1.0.0",
      "model_name": "LayoutModel",
      "state": {}
     },
     "121fcc020a514e79a42fdd4b5acc8d30": {
      "model_module": "@jupyter-widgets/controls",
      "model_module_version": "1.0.0",
      "model_name": "FloatSliderModel",
      "state": {
       "description": "Current",
       "layout": "IPY_MODEL_f7f99c120cf74d50ad81564eba4164e4",
       "max": 10,
       "step": 0.01,
       "style": "IPY_MODEL_ca537aa9fa3f47f0be0275080b0e37bd",
       "value": 5
      }
     },
     "12838a97e95f48628b59f9030783a42f": {
      "model_module": "@jupyter-widgets/base",
      "model_module_version": "1.0.0",
      "model_name": "LayoutModel",
      "state": {}
     },
     "129b98688ca2435baa27a06aefb65d2d": {
      "model_module": "@jupyter-widgets/base",
      "model_module_version": "1.0.0",
      "model_name": "LayoutModel",
      "state": {}
     },
     "130336150c1f40c385bc59ea705541b7": {
      "model_module": "@jupyter-widgets/controls",
      "model_module_version": "1.0.0",
      "model_name": "IntSliderModel",
      "state": {
       "description": "x",
       "layout": "IPY_MODEL_1ffd3f9ab4fd40cab07dd28bedfb6e7d",
       "max": 30,
       "min": -10,
       "style": "IPY_MODEL_54203ebd8faa4b4fad65b2daacd2acbb",
       "value": -2
      }
     },
     "1402b913a0944722b8f4e6b88d84adaf": {
      "model_module": "@jupyter-widgets/controls",
      "model_module_version": "1.0.0",
      "model_name": "TextModel",
      "state": {
       "description": "Text",
       "layout": "IPY_MODEL_129b98688ca2435baa27a06aefb65d2d",
       "style": "IPY_MODEL_558e41b472d64ccf86b87a01da98cf0e",
       "value": "Type here!"
      }
     },
     "17ddfa7a8211436696f7cfc7c251730d": {
      "model_module": "@jupyter-widgets/base",
      "model_module_version": "1.0.0",
      "model_name": "LayoutModel",
      "state": {}
     },
     "1847b8eb5795401ca761af37de7dba5f": {
      "model_module": "@jupyter-widgets/output",
      "model_module_version": "1.0.0",
      "model_name": "OutputModel",
      "state": {
       "layout": "IPY_MODEL_4ffa2bf52c97417db89d3e5ca8a2e1df",
       "outputs": [
        {
         "data": {
          "text/plain": "(1, 20)"
         },
         "metadata": {},
         "output_type": "display_data"
        }
       ]
      }
     },
     "18cf970b6fff4e4da7f30da435cee2b3": {
      "model_module": "@jupyter-widgets/controls",
      "model_module_version": "1.0.0",
      "model_name": "HBoxModel",
      "state": {
       "layout": "IPY_MODEL_4a9db187c76044708c85c8628196e31e"
      }
     },
     "196d79eda71c42d1acbbea9e7ce46eb2": {
      "model_module": "@jupyter-widgets/controls",
      "model_module_version": "1.0.0",
      "model_name": "FloatSliderModel",
      "state": {
       "description": "f",
       "layout": "IPY_MODEL_5ce86ec18f9e474783bcb62ac1d5485c",
       "max": 10,
       "min": 1,
       "step": 0.1,
       "style": "IPY_MODEL_6ab60d96aa4544728089f8d3065714aa",
       "value": 5
      }
     },
     "1ca047e9106b4cf380f7eb4b12abac5b": {
      "model_module": "@jupyter-widgets/controls",
      "model_module_version": "1.0.0",
      "model_name": "TextModel",
      "state": {
       "layout": "IPY_MODEL_99ca857e407c4a8fa56c3fbf4c0adb28",
       "style": "IPY_MODEL_cb4e2504c8de47ad935fc2cc6057d59e",
       "value": "sah dude"
      }
     },
     "1cff741b586944edb3248322099935c1": {
      "model_module": "@jupyter-widgets/base",
      "model_module_version": "1.0.0",
      "model_name": "LayoutModel",
      "state": {}
     },
     "1e1d74103c1749979524fe465c7d80bc": {
      "model_module": "@jupyter-widgets/base",
      "model_module_version": "1.0.0",
      "model_name": "LayoutModel",
      "state": {}
     },
     "1ebba8e71bcf470c8781ec494d68f47e": {
      "model_module": "@jupyter-widgets/base",
      "model_module_version": "1.0.0",
      "model_name": "LayoutModel",
      "state": {}
     },
     "1fcea95c86af4546bf0741b254a108e5": {
      "model_module": "@jupyter-widgets/controls",
      "model_module_version": "1.0.0",
      "model_name": "IntSliderModel",
      "state": {
       "description": "x",
       "layout": "IPY_MODEL_c6a6b7cb3f0b429daeed03500195b5b0",
       "max": 30,
       "min": -10,
       "style": "IPY_MODEL_8ca2c59bd9b94a888bb011cea4633d3c",
       "value": 10
      }
     },
     "1ffd3f9ab4fd40cab07dd28bedfb6e7d": {
      "model_module": "@jupyter-widgets/base",
      "model_module_version": "1.0.0",
      "model_name": "LayoutModel",
      "state": {}
     },
     "22a28f694d5240ca9130e8cfd6b993db": {
      "model_module": "@jupyter-widgets/base",
      "model_module_version": "1.0.0",
      "model_name": "LayoutModel",
      "state": {}
     },
     "231bf12285db47eb9d92a7cc576fd8f4": {
      "model_module": "@jupyter-widgets/base",
      "model_module_version": "1.0.0",
      "model_name": "LayoutModel",
      "state": {}
     },
     "23994b759ab84e74ac043d09f0ed4d67": {
      "model_module": "@jupyter-widgets/controls",
      "model_module_version": "1.0.0",
      "model_name": "VBoxModel",
      "state": {
       "_dom_classes": [
        "widget-interact"
       ],
       "children": [
        "IPY_MODEL_6c34757a3fd445d2926172343d316e9c",
        "IPY_MODEL_a890cd21f0274f9f868217dd0f462062"
       ],
       "layout": "IPY_MODEL_70b0a52dc08d4ab99a8b6117941a1d38"
      }
     },
     "24e9f87134ff43c1918e9e3ff6caba6a": {
      "model_module": "@jupyter-widgets/controls",
      "model_module_version": "1.0.0",
      "model_name": "SliderStyleModel",
      "state": {
       "description_width": ""
      }
     },
     "25d74d9bc1654fed803a323fdc5c4dc3": {
      "model_module": "@jupyter-widgets/controls",
      "model_module_version": "1.0.0",
      "model_name": "IntSliderModel",
      "state": {
       "description": "q",
       "layout": "IPY_MODEL_1e1d74103c1749979524fe465c7d80bc",
       "max": 60,
       "min": -20,
       "style": "IPY_MODEL_52029d5a116149c093a2f844508ad119",
       "value": 20
      }
     },
     "25e0bcf9de0247fa8ff16dd107380563": {
      "model_module": "@jupyter-widgets/controls",
      "model_module_version": "1.0.0",
      "model_name": "ButtonStyleModel",
      "state": {}
     },
     "26c1f4e24c5b49f98dd5f86ecea3269b": {
      "model_module": "@jupyter-widgets/controls",
      "model_module_version": "1.0.0",
      "model_name": "FloatSliderModel",
      "state": {
       "continuous_update": false,
       "description": "Test:",
       "layout": "IPY_MODEL_394c47e9038648b19dd9f1566d6d84e4",
       "max": 10,
       "readout_format": ".1f",
       "step": 0.1,
       "style": "IPY_MODEL_aa02712e713440749ac004123d60317a",
       "value": 7.5
      }
     },
     "29bb417c666f4fc4b48fd4566dc37e15": {
      "model_module": "@jupyter-widgets/controls",
      "model_module_version": "1.0.0",
      "model_name": "IntSliderModel",
      "state": {
       "description": "x",
       "layout": "IPY_MODEL_22a28f694d5240ca9130e8cfd6b993db",
       "max": 30,
       "min": -10,
       "style": "IPY_MODEL_6eb6df2a33f14e668a9151cdcc2c63c7",
       "value": 30
      }
     },
     "2a831f91a7d94d26ae15ad0791a9f5f1": {
      "model_module": "@jupyter-widgets/controls",
      "model_module_version": "1.0.0",
      "model_name": "VBoxModel",
      "state": {
       "_dom_classes": [
        "widget-interact"
       ],
       "children": [
        "IPY_MODEL_9438c490f46a4a7ab8ea53cb411bded0",
        "IPY_MODEL_121fcc020a514e79a42fdd4b5acc8d30",
        "IPY_MODEL_9f9e7a82e8704f178a388b831f98b8a0",
        "IPY_MODEL_7ce1ad3ea322489db22dbe84a8860c5a",
        "IPY_MODEL_c2bc2afb931846a69c1c157c6c5b6235",
        "IPY_MODEL_c837f6c3ad474f078a8c6006935bb724"
       ],
       "layout": "IPY_MODEL_12838a97e95f48628b59f9030783a42f"
      }
     },
     "2bef4146838a40a0ad7b3c1406bc5966": {
      "model_module": "@jupyter-widgets/controls",
      "model_module_version": "1.0.0",
      "model_name": "TextModel",
      "state": {
       "layout": "IPY_MODEL_4abece3621144667bb5166ba8f0b7e57",
       "style": "IPY_MODEL_7c42f389abd44b6cb6cd2a8d7a47cd23",
       "value": "SAH DUDE"
      }
     },
     "2e2383a7949e4ec2a2f69b8aacc50bed": {
      "model_module": "@jupyter-widgets/controls",
      "model_module_version": "1.0.0",
      "model_name": "HBoxModel",
      "state": {
       "layout": "IPY_MODEL_6e4d45772c6140c09ec9408c0d0c6277"
      }
     },
     "2e25fbb22f1648ad8987fdadaaec1957": {
      "model_module": "@jupyter-widgets/controls",
      "model_module_version": "1.0.0",
      "model_name": "TextModel",
      "state": {
       "layout": "IPY_MODEL_3c8a707699454590a807109465cf474f",
       "style": "IPY_MODEL_bd962e026b354cd6ab548d450afcc7d4"
      }
     },
     "2fa6a59e49f74f2f8ef7ed434ae4b34b": {
      "model_module": "@jupyter-widgets/base",
      "model_module_version": "1.0.0",
      "model_name": "LayoutModel",
      "state": {}
     },
     "304bb27164e3424e834736abadfede0e": {
      "model_module": "@jupyter-widgets/base",
      "model_module_version": "1.0.0",
      "model_name": "LayoutModel",
      "state": {}
     },
     "3073634bcc4845ae978677b8056c7a7a": {
      "model_module": "@jupyter-widgets/base",
      "model_module_version": "1.0.0",
      "model_name": "LayoutModel",
      "state": {}
     },
     "32f53df9930d44958817aca085fb84b6": {
      "model_module": "@jupyter-widgets/controls",
      "model_module_version": "1.0.0",
      "model_name": "FloatSliderModel",
      "state": {
       "continuous_update": false,
       "description": "Test:",
       "layout": "IPY_MODEL_43a2a3f01db34ae6a8a1f573ed8d6f0c",
       "max": 10,
       "readout_format": ".1f",
       "step": 0.1,
       "style": "IPY_MODEL_b8447288cc414e63a4e06d3152204c73",
       "value": 7.5
      }
     },
     "339ad8b609c649d383da8a49740927c0": {
      "model_module": "@jupyter-widgets/controls",
      "model_module_version": "1.0.0",
      "model_name": "CheckboxModel",
      "state": {
       "description": "z",
       "disabled": false,
       "layout": "IPY_MODEL_81665aa1a7e44d5cbc36ed4a9f694510",
       "style": "IPY_MODEL_0d74cc05bb6f43a8929c39f66cfe83c1",
       "value": true
      }
     },
     "34aaf316929245b58e28c2959514a639": {
      "model_module": "@jupyter-widgets/base",
      "model_module_version": "1.0.0",
      "model_name": "LayoutModel",
      "state": {}
     },
     "35d9442a6a7b488bbbed8696b2539327": {
      "model_module": "@jupyter-widgets/output",
      "model_module_version": "1.0.0",
      "model_name": "OutputModel",
      "state": {
       "layout": "IPY_MODEL_cc351f909db64c50bf4ece3af41e1ac0",
       "outputs": [
        {
         "data": {
          "text/plain": "(5, 20)"
         },
         "metadata": {},
         "output_type": "display_data"
        }
       ]
      }
     },
     "36b9c0900e344861b56962f25b6279f6": {
      "model_module": "@jupyter-widgets/output",
      "model_module_version": "1.0.0",
      "model_name": "OutputModel",
      "state": {
       "layout": "IPY_MODEL_ca0ab6abea7e40369449b4caa62d11c6",
       "outputs": [
        {
         "ename": "TypeError",
         "evalue": "only length-1 arrays can be converted to Python scalars",
         "output_type": "error",
         "traceback": [
          "\u001b[0;31m---------------------------------------------------------------------------\u001b[0m",
          "\u001b[0;31mTypeError\u001b[0m                                 Traceback (most recent call last)",
          "\u001b[0;32m/anaconda3/lib/python3.6/site-packages/ipywidgets/widgets/interaction.py\u001b[0m in \u001b[0;36mupdate\u001b[0;34m(self, *args)\u001b[0m\n\u001b[1;32m    248\u001b[0m                     \u001b[0mvalue\u001b[0m \u001b[0;34m=\u001b[0m \u001b[0mwidget\u001b[0m\u001b[0;34m.\u001b[0m\u001b[0mget_interact_value\u001b[0m\u001b[0;34m(\u001b[0m\u001b[0;34m)\u001b[0m\u001b[0;34m\u001b[0m\u001b[0m\n\u001b[1;32m    249\u001b[0m                     \u001b[0mself\u001b[0m\u001b[0;34m.\u001b[0m\u001b[0mkwargs\u001b[0m\u001b[0;34m[\u001b[0m\u001b[0mwidget\u001b[0m\u001b[0;34m.\u001b[0m\u001b[0m_kwarg\u001b[0m\u001b[0;34m]\u001b[0m \u001b[0;34m=\u001b[0m \u001b[0mvalue\u001b[0m\u001b[0;34m\u001b[0m\u001b[0m\n\u001b[0;32m--> 250\u001b[0;31m                 \u001b[0mself\u001b[0m\u001b[0;34m.\u001b[0m\u001b[0mresult\u001b[0m \u001b[0;34m=\u001b[0m \u001b[0mself\u001b[0m\u001b[0;34m.\u001b[0m\u001b[0mf\u001b[0m\u001b[0;34m(\u001b[0m\u001b[0;34m**\u001b[0m\u001b[0mself\u001b[0m\u001b[0;34m.\u001b[0m\u001b[0mkwargs\u001b[0m\u001b[0;34m)\u001b[0m\u001b[0;34m\u001b[0m\u001b[0m\n\u001b[0m\u001b[1;32m    251\u001b[0m                 \u001b[0mshow_inline_matplotlib_plots\u001b[0m\u001b[0;34m(\u001b[0m\u001b[0;34m)\u001b[0m\u001b[0;34m\u001b[0m\u001b[0m\n\u001b[1;32m    252\u001b[0m                 \u001b[0;32mif\u001b[0m \u001b[0mself\u001b[0m\u001b[0;34m.\u001b[0m\u001b[0mauto_display\u001b[0m \u001b[0;32mand\u001b[0m \u001b[0mself\u001b[0m\u001b[0;34m.\u001b[0m\u001b[0mresult\u001b[0m \u001b[0;32mis\u001b[0m \u001b[0;32mnot\u001b[0m \u001b[0;32mNone\u001b[0m\u001b[0;34m:\u001b[0m\u001b[0;34m\u001b[0m\u001b[0m\n",
          "\u001b[0;32m<ipython-input-48-1219ad966e48>\u001b[0m in \u001b[0;36mpltsin\u001b[0;34m(f)\u001b[0m\n\u001b[1;32m      4\u001b[0m \u001b[0;34m\u001b[0m\u001b[0m\n\u001b[1;32m      5\u001b[0m \u001b[0;32mdef\u001b[0m \u001b[0mpltsin\u001b[0m\u001b[0;34m(\u001b[0m\u001b[0mf\u001b[0m\u001b[0;34m)\u001b[0m\u001b[0;34m:\u001b[0m\u001b[0;34m\u001b[0m\u001b[0m\n\u001b[0;32m----> 6\u001b[0;31m     \u001b[0mplt\u001b[0m\u001b[0;34m.\u001b[0m\u001b[0mplot\u001b[0m\u001b[0;34m(\u001b[0m\u001b[0mx\u001b[0m\u001b[0;34m,\u001b[0m\u001b[0msin\u001b[0m\u001b[0;34m(\u001b[0m\u001b[0;36m2\u001b[0m\u001b[0;34m*\u001b[0m\u001b[0mpi\u001b[0m\u001b[0;34m*\u001b[0m\u001b[0mt\u001b[0m\u001b[0;34m*\u001b[0m\u001b[0mf\u001b[0m\u001b[0;34m)\u001b[0m\u001b[0;34m)\u001b[0m\u001b[0;34m\u001b[0m\u001b[0m\n\u001b[0m\u001b[1;32m      7\u001b[0m     \u001b[0mplt\u001b[0m\u001b[0;34m.\u001b[0m\u001b[0mshow\u001b[0m\u001b[0;34m(\u001b[0m\u001b[0;34m)\u001b[0m\u001b[0;34m\u001b[0m\u001b[0m\n\u001b[1;32m      8\u001b[0m \u001b[0;34m\u001b[0m\u001b[0m\n",
          "\u001b[0;31mTypeError\u001b[0m: only length-1 arrays can be converted to Python scalars"
         ]
        }
       ]
      }
     },
     "36f4eb1c54e44354a263b0e0bceb25a3": {
      "model_module": "@jupyter-widgets/base",
      "model_module_version": "1.0.0",
      "model_name": "LayoutModel",
      "state": {}
     },
     "394c47e9038648b19dd9f1566d6d84e4": {
      "model_module": "@jupyter-widgets/base",
      "model_module_version": "1.0.0",
      "model_name": "LayoutModel",
      "state": {}
     },
     "39999c86b1374c42b97b598ca0edd306": {
      "model_module": "@jupyter-widgets/base",
      "model_module_version": "1.0.0",
      "model_name": "LayoutModel",
      "state": {}
     },
     "3adcba69eaad49f1be9bb06700af28fc": {
      "model_module": "@jupyter-widgets/controls",
      "model_module_version": "1.0.0",
      "model_name": "VBoxModel",
      "state": {
       "_dom_classes": [
        "widget-interact"
       ],
       "children": [
        "IPY_MODEL_5f300fa3a9084c59b47f8e00c55cce7c",
        "IPY_MODEL_dd6f7af3419d4376836bd545be19de40"
       ],
       "layout": "IPY_MODEL_d8429c0653b5442eb4162166f4597963"
      }
     },
     "3bceee0145e14390a44bea1bea2aecda": {
      "model_module": "@jupyter-widgets/base",
      "model_module_version": "1.0.0",
      "model_name": "LayoutModel",
      "state": {}
     },
     "3c54c0f9313945d1bc232da7083b32af": {
      "model_module": "@jupyter-widgets/controls",
      "model_module_version": "1.0.0",
      "model_name": "DescriptionStyleModel",
      "state": {
       "description_width": ""
      }
     },
     "3c8a707699454590a807109465cf474f": {
      "model_module": "@jupyter-widgets/base",
      "model_module_version": "1.0.0",
      "model_name": "LayoutModel",
      "state": {}
     },
     "3d0e8b444cb44048a0728f7ccf9e6154": {
      "model_module": "@jupyter-widgets/controls",
      "model_module_version": "1.0.0",
      "model_name": "VBoxModel",
      "state": {
       "_dom_classes": [
        "widget-interact"
       ],
       "children": [
        "IPY_MODEL_e853b7773f0b4d56a1137caaef2aa191",
        "IPY_MODEL_3e6343b6dfb440b1bd599aee020fe110",
        "IPY_MODEL_339ad8b609c649d383da8a49740927c0",
        "IPY_MODEL_1402b913a0944722b8f4e6b88d84adaf",
        "IPY_MODEL_9050250b2e9b447aa62441c9d0365122",
        "IPY_MODEL_aa2f99e0dbee46bda1d88c5af1aa2dc1"
       ],
       "layout": "IPY_MODEL_90d4d21015ba40ba8f8c4c981bbe14e3"
      }
     },
     "3e6343b6dfb440b1bd599aee020fe110": {
      "model_module": "@jupyter-widgets/controls",
      "model_module_version": "1.0.0",
      "model_name": "FloatSliderModel",
      "state": {
       "description": "Current",
       "layout": "IPY_MODEL_e1b93132719c4bef860f93e08637910b",
       "max": 10,
       "step": 0.01,
       "style": "IPY_MODEL_b444954dc0234d15aaa1b70d34b8d608",
       "value": 2.7
      }
     },
     "40463f14cfc844228bf02716b11724a0": {
      "model_module": "@jupyter-widgets/base",
      "model_module_version": "1.0.0",
      "model_name": "LayoutModel",
      "state": {}
     },
     "421d7e2c2bc145908b854b4e1b514f52": {
      "model_module": "@jupyter-widgets/base",
      "model_module_version": "1.0.0",
      "model_name": "LayoutModel",
      "state": {}
     },
     "431e7caa13ba4ebcade1efadac28aa6a": {
      "model_module": "@jupyter-widgets/controls",
      "model_module_version": "1.0.0",
      "model_name": "DescriptionStyleModel",
      "state": {
       "description_width": ""
      }
     },
     "43a2a3f01db34ae6a8a1f573ed8d6f0c": {
      "model_module": "@jupyter-widgets/base",
      "model_module_version": "1.0.0",
      "model_name": "LayoutModel",
      "state": {}
     },
     "440dfd66500447829d1f6b066d632f57": {
      "model_module": "@jupyter-widgets/controls",
      "model_module_version": "1.0.0",
      "model_name": "SliderStyleModel",
      "state": {
       "description_width": ""
      }
     },
     "442bd64d33f8456eb5336f0c63e32ed5": {
      "model_module": "@jupyter-widgets/base",
      "model_module_version": "1.0.0",
      "model_name": "LayoutModel",
      "state": {}
     },
     "444fa70cac7749a5bb53bf9314071ba6": {
      "model_module": "@jupyter-widgets/base",
      "model_module_version": "1.0.0",
      "model_name": "LayoutModel",
      "state": {}
     },
     "44a3356d65fb45509984302c62a03300": {
      "model_module": "@jupyter-widgets/controls",
      "model_module_version": "1.0.0",
      "model_name": "SliderStyleModel",
      "state": {
       "description_width": ""
      }
     },
     "44eca7e579b847ddadd9803aef731cbd": {
      "model_module": "@jupyter-widgets/controls",
      "model_module_version": "1.0.0",
      "model_name": "DescriptionStyleModel",
      "state": {
       "description_width": ""
      }
     },
     "4530ea0867fa4af1b3901b8336f11699": {
      "model_module": "@jupyter-widgets/controls",
      "model_module_version": "1.0.0",
      "model_name": "IntSliderModel",
      "state": {
       "continuous_update": false,
       "description": "Test:",
       "layout": "IPY_MODEL_0a740dae07324eadbebca85ef455f0c6",
       "max": 10,
       "style": "IPY_MODEL_68ef5082cd134546b8d676de9a1d7528",
       "value": 7
      }
     },
     "4824714557d74898882579b4ccb11bc5": {
      "model_module": "@jupyter-widgets/controls",
      "model_module_version": "1.0.0",
      "model_name": "SliderStyleModel",
      "state": {
       "description_width": ""
      }
     },
     "4843395f8ab949568336a796df40c31b": {
      "model_module": "@jupyter-widgets/base",
      "model_module_version": "1.0.0",
      "model_name": "LayoutModel",
      "state": {}
     },
     "487a73234d2a4352a5943dd90d9ff4f9": {
      "model_module": "@jupyter-widgets/controls",
      "model_module_version": "1.0.0",
      "model_name": "SliderStyleModel",
      "state": {
       "description_width": ""
      }
     },
     "4884b93da1854a6fb6c8a1df3fe4e085": {
      "model_module": "@jupyter-widgets/base",
      "model_module_version": "1.0.0",
      "model_name": "LayoutModel",
      "state": {}
     },
     "489fe5814a634fe9ba77c6c899ee1841": {
      "model_module": "@jupyter-widgets/base",
      "model_module_version": "1.0.0",
      "model_name": "LayoutModel",
      "state": {}
     },
     "49896c57958a463aab57c7dc8260abcc": {
      "model_module": "@jupyter-widgets/base",
      "model_module_version": "1.0.0",
      "model_name": "LayoutModel",
      "state": {}
     },
     "4a9db187c76044708c85c8628196e31e": {
      "model_module": "@jupyter-widgets/base",
      "model_module_version": "1.0.0",
      "model_name": "LayoutModel",
      "state": {}
     },
     "4abece3621144667bb5166ba8f0b7e57": {
      "model_module": "@jupyter-widgets/base",
      "model_module_version": "1.0.0",
      "model_name": "LayoutModel",
      "state": {}
     },
     "4b762c2f724245e39c65671e1e56cc7b": {
      "model_module": "@jupyter-widgets/base",
      "model_module_version": "1.0.0",
      "model_name": "LayoutModel",
      "state": {}
     },
     "4be70a2e39ff4116a4bcb335321b5da7": {
      "model_module": "@jupyter-widgets/controls",
      "model_module_version": "1.0.0",
      "model_name": "IntSliderModel",
      "state": {
       "continuous_update": false,
       "description": "Tbest:",
       "layout": "IPY_MODEL_40463f14cfc844228bf02716b11724a0",
       "max": 10,
       "style": "IPY_MODEL_7e158d6c70dc45959f34dc10771dec58",
       "value": 7
      }
     },
     "4ce8a659c81c4989a3b138c41863155a": {
      "model_module": "@jupyter-widgets/controls",
      "model_module_version": "1.0.0",
      "model_name": "TextModel",
      "state": {
       "description": "Domain to ping",
       "layout": "IPY_MODEL_8513ad7d79134dcf973260a1ac578780",
       "style": "IPY_MODEL_ab859a5641084dac88224780ab6773bb"
      }
     },
     "4d4f8f9050c247a290c90a57bd2e6785": {
      "model_module": "@jupyter-widgets/base",
      "model_module_version": "1.0.0",
      "model_name": "LayoutModel",
      "state": {}
     },
     "4db5c6cd80194c569fa126726db60fc8": {
      "model_module": "@jupyter-widgets/base",
      "model_module_version": "1.0.0",
      "model_name": "LayoutModel",
      "state": {}
     },
     "4dcac787819849709d738ffc788ce768": {
      "model_module": "@jupyter-widgets/base",
      "model_module_version": "1.0.0",
      "model_name": "LayoutModel",
      "state": {}
     },
     "4fa8d82b33ff44a6a0929544cfd35bb3": {
      "model_module": "@jupyter-widgets/controls",
      "model_module_version": "1.0.0",
      "model_name": "SliderStyleModel",
      "state": {
       "description_width": ""
      }
     },
     "4ffa2bf52c97417db89d3e5ca8a2e1df": {
      "model_module": "@jupyter-widgets/base",
      "model_module_version": "1.0.0",
      "model_name": "LayoutModel",
      "state": {}
     },
     "5133a71e8b2041628a12a0c5ce4e87f0": {
      "model_module": "@jupyter-widgets/base",
      "model_module_version": "1.0.0",
      "model_name": "LayoutModel",
      "state": {}
     },
     "515b579f5fbd48e7a35af929b08b629d": {
      "model_module": "@jupyter-widgets/base",
      "model_module_version": "1.0.0",
      "model_name": "LayoutModel",
      "state": {}
     },
     "518f0718764440ec9ebb4e06e63d9119": {
      "model_module": "@jupyter-widgets/controls",
      "model_module_version": "1.0.0",
      "model_name": "SliderStyleModel",
      "state": {
       "description_width": ""
      }
     },
     "52029d5a116149c093a2f844508ad119": {
      "model_module": "@jupyter-widgets/controls",
      "model_module_version": "1.0.0",
      "model_name": "SliderStyleModel",
      "state": {
       "description_width": ""
      }
     },
     "526ce3479eae4e5d8cdfabda4331a146": {
      "model_module": "@jupyter-widgets/controls",
      "model_module_version": "1.0.0",
      "model_name": "ButtonStyleModel",
      "state": {}
     },
     "528e0e52dc6744379737787973fd712c": {
      "model_module": "@jupyter-widgets/base",
      "model_module_version": "1.0.0",
      "model_name": "LayoutModel",
      "state": {}
     },
     "528e1d27d02d414fafd8b3f8e15e5452": {
      "model_module": "@jupyter-widgets/controls",
      "model_module_version": "1.0.0",
      "model_name": "IntSliderModel",
      "state": {
       "continuous_update": false,
       "description": "Tbest:",
       "layout": "IPY_MODEL_f417e261c248439aade3e7478e0b80f2",
       "max": 10,
       "style": "IPY_MODEL_24e9f87134ff43c1918e9e3ff6caba6a",
       "value": 7
      }
     },
     "53bb7be1bffe4b848d652f1c62289f7e": {
      "model_module": "@jupyter-widgets/base",
      "model_module_version": "1.0.0",
      "model_name": "LayoutModel",
      "state": {}
     },
     "54203ebd8faa4b4fad65b2daacd2acbb": {
      "model_module": "@jupyter-widgets/controls",
      "model_module_version": "1.0.0",
      "model_name": "SliderStyleModel",
      "state": {
       "description_width": ""
      }
     },
     "55294591f06a43c986d7187a3d7234c2": {
      "model_module": "@jupyter-widgets/controls",
      "model_module_version": "1.0.0",
      "model_name": "SliderStyleModel",
      "state": {
       "description_width": ""
      }
     },
     "558e41b472d64ccf86b87a01da98cf0e": {
      "model_module": "@jupyter-widgets/controls",
      "model_module_version": "1.0.0",
      "model_name": "DescriptionStyleModel",
      "state": {
       "description_width": ""
      }
     },
     "56954ce1659741a08b3eea810f62d4b2": {
      "model_module": "@jupyter-widgets/base",
      "model_module_version": "1.0.0",
      "model_name": "LayoutModel",
      "state": {}
     },
     "56e715f6a3a24868806a60a3f2a2c70e": {
      "model_module": "@jupyter-widgets/controls",
      "model_module_version": "1.0.0",
      "model_name": "FloatSliderModel",
      "state": {
       "description": "f",
       "layout": "IPY_MODEL_5b2e9c0f7e574aacac4b678a4bab47d8",
       "max": 10,
       "min": 1,
       "step": 0.1,
       "style": "IPY_MODEL_518f0718764440ec9ebb4e06e63d9119",
       "value": 5
      }
     },
     "57c399fb48314be59f581b01ec196eda": {
      "model_module": "@jupyter-widgets/controls",
      "model_module_version": "1.0.0",
      "model_name": "IntSliderModel",
      "state": {
       "description": "x",
       "layout": "IPY_MODEL_515b579f5fbd48e7a35af929b08b629d",
       "max": 30,
       "min": -10,
       "style": "IPY_MODEL_4824714557d74898882579b4ccb11bc5",
       "value": 10
      }
     },
     "585153b691ea45f197ed0c2b55c9673d": {
      "model_module": "@jupyter-widgets/base",
      "model_module_version": "1.0.0",
      "model_name": "LayoutModel",
      "state": {}
     },
     "5861c45ee33e4a1590049a919145efdb": {
      "model_module": "@jupyter-widgets/base",
      "model_module_version": "1.0.0",
      "model_name": "LayoutModel",
      "state": {}
     },
     "5885d0e6e78f45f181fe70523516b71e": {
      "model_module": "@jupyter-widgets/controls",
      "model_module_version": "1.0.0",
      "model_name": "IntSliderModel",
      "state": {
       "description": "p",
       "layout": "IPY_MODEL_80508b8709a040d8b4cd350959553523",
       "max": 15,
       "min": -5,
       "style": "IPY_MODEL_5d95bde11cc543749892f7b72c840066",
       "value": 5
      }
     },
     "5ab8ade1d55b44d8881ab1297b27e478": {
      "model_module": "@jupyter-widgets/controls",
      "model_module_version": "1.0.0",
      "model_name": "VBoxModel",
      "state": {
       "_dom_classes": [
        "widget-interact"
       ],
       "children": [
        "IPY_MODEL_1fcea95c86af4546bf0741b254a108e5",
        "IPY_MODEL_d01441ae040c41148c7e55bb2022d061"
       ],
       "layout": "IPY_MODEL_2fa6a59e49f74f2f8ef7ed434ae4b34b"
      }
     },
     "5b2e9c0f7e574aacac4b678a4bab47d8": {
      "model_module": "@jupyter-widgets/base",
      "model_module_version": "1.0.0",
      "model_name": "LayoutModel",
      "state": {}
     },
     "5b8ee31b5204462abfd20f3ffd1160b9": {
      "model_module": "@jupyter-widgets/base",
      "model_module_version": "1.0.0",
      "model_name": "LayoutModel",
      "state": {}
     },
     "5c6439660b2049ad8a4a8050e1e067ef": {
      "model_module": "@jupyter-widgets/controls",
      "model_module_version": "1.0.0",
      "model_name": "DescriptionStyleModel",
      "state": {
       "description_width": ""
      }
     },
     "5ce86ec18f9e474783bcb62ac1d5485c": {
      "model_module": "@jupyter-widgets/base",
      "model_module_version": "1.0.0",
      "model_name": "LayoutModel",
      "state": {}
     },
     "5d924d7ef07e4ed49c6e267eea3859a1": {
      "model_module": "@jupyter-widgets/controls",
      "model_module_version": "1.0.0",
      "model_name": "SliderStyleModel",
      "state": {
       "description_width": ""
      }
     },
     "5d95bde11cc543749892f7b72c840066": {
      "model_module": "@jupyter-widgets/controls",
      "model_module_version": "1.0.0",
      "model_name": "SliderStyleModel",
      "state": {
       "description_width": ""
      }
     },
     "5f300fa3a9084c59b47f8e00c55cce7c": {
      "model_module": "@jupyter-widgets/controls",
      "model_module_version": "1.0.0",
      "model_name": "IntSliderModel",
      "state": {
       "description": "x",
       "layout": "IPY_MODEL_783082fda81c475a966d2d38a7027b1f",
       "max": 30,
       "min": -10,
       "style": "IPY_MODEL_f5f14ff5e9d14a728da64ee731b3269e",
       "value": 10
      }
     },
     "5f6bd12da3b34f61991bf445407335c2": {
      "model_module": "@jupyter-widgets/controls",
      "model_module_version": "1.0.0",
      "model_name": "SliderStyleModel",
      "state": {
       "description_width": ""
      }
     },
     "5ffd27536e534a6f950f57945dee7f66": {
      "model_module": "@jupyter-widgets/controls",
      "model_module_version": "1.0.0",
      "model_name": "VBoxModel",
      "state": {
       "_dom_classes": [
        "widget-interact"
       ],
       "children": [
        "IPY_MODEL_95665ad6450646d285efc4b2192d63b4",
        "IPY_MODEL_35d9442a6a7b488bbbed8696b2539327"
       ],
       "layout": "IPY_MODEL_b0749f43b22b4e94b0c7836322f72208"
      }
     },
     "61c0c2dbfb244813a6276630e674fc21": {
      "model_module": "@jupyter-widgets/controls",
      "model_module_version": "1.0.0",
      "model_name": "SliderStyleModel",
      "state": {
       "description_width": ""
      }
     },
     "628f902c48b04d75a471e06f6b9440ad": {
      "model_module": "@jupyter-widgets/controls",
      "model_module_version": "1.0.0",
      "model_name": "IntSliderModel",
      "state": {
       "continuous_update": false,
       "description": "Tbest:",
       "layout": "IPY_MODEL_ce323cc34d42488bae4cdd025105c6f9",
       "max": 10,
       "style": "IPY_MODEL_440dfd66500447829d1f6b066d632f57",
       "value": 7
      }
     },
     "65321c0357474b88a4ccb2f3f6bc3d03": {
      "model_module": "@jupyter-widgets/controls",
      "model_module_version": "1.0.0",
      "model_name": "TextModel",
      "state": {
       "layout": "IPY_MODEL_dda806b2a76e42139685a437b8ac1236",
       "style": "IPY_MODEL_05dfa3530d2b49cf8ffc86713e2e787f"
      }
     },
     "66ae5e75021e40fd9c23baaba665b1d9": {
      "model_module": "@jupyter-widgets/base",
      "model_module_version": "1.0.0",
      "model_name": "LayoutModel",
      "state": {}
     },
     "66d38b7072204893adbbce5197c5337d": {
      "model_module": "@jupyter-widgets/controls",
      "model_module_version": "1.0.0",
      "model_name": "DescriptionStyleModel",
      "state": {
       "description_width": ""
      }
     },
     "677500297aa842738ce2ea20abc9c7af": {
      "model_module": "@jupyter-widgets/base",
      "model_module_version": "1.0.0",
      "model_name": "LayoutModel",
      "state": {}
     },
     "68ef5082cd134546b8d676de9a1d7528": {
      "model_module": "@jupyter-widgets/controls",
      "model_module_version": "1.0.0",
      "model_name": "SliderStyleModel",
      "state": {
       "description_width": ""
      }
     },
     "6ab60d96aa4544728089f8d3065714aa": {
      "model_module": "@jupyter-widgets/controls",
      "model_module_version": "1.0.0",
      "model_name": "SliderStyleModel",
      "state": {
       "description_width": ""
      }
     },
     "6b6708be6f624153a241b9369abcd65a": {
      "model_module": "@jupyter-widgets/base",
      "model_module_version": "1.0.0",
      "model_name": "LayoutModel",
      "state": {}
     },
     "6bd5578dd227490883d4437ae846ab05": {
      "model_module": "@jupyter-widgets/controls",
      "model_module_version": "1.0.0",
      "model_name": "VBoxModel",
      "state": {
       "_dom_classes": [
        "widget-interact"
       ],
       "children": [
        "IPY_MODEL_196d79eda71c42d1acbbea9e7ce46eb2",
        "IPY_MODEL_36b9c0900e344861b56962f25b6279f6"
       ],
       "layout": "IPY_MODEL_39999c86b1374c42b97b598ca0edd306"
      }
     },
     "6c34757a3fd445d2926172343d316e9c": {
      "model_module": "@jupyter-widgets/controls",
      "model_module_version": "1.0.0",
      "model_name": "IntSliderModel",
      "state": {
       "description": "p",
       "layout": "IPY_MODEL_1ebba8e71bcf470c8781ec494d68f47e",
       "max": 15,
       "min": -5,
       "style": "IPY_MODEL_bc64e7eb040b401892a020a67d57f27c",
       "value": 5
      }
     },
     "6ce940b832444869a2e08cb54b77961a": {
      "model_module": "@jupyter-widgets/controls",
      "model_module_version": "1.0.0",
      "model_name": "IntSliderModel",
      "state": {
       "description": "x",
       "layout": "IPY_MODEL_585153b691ea45f197ed0c2b55c9673d",
       "max": 30,
       "min": -10,
       "style": "IPY_MODEL_93b8e53ce66a40c19894193ebde68c39",
       "value": 10
      }
     },
     "6e4d45772c6140c09ec9408c0d0c6277": {
      "model_module": "@jupyter-widgets/base",
      "model_module_version": "1.0.0",
      "model_name": "LayoutModel",
      "state": {}
     },
     "6e705b90fb6f4813b118202eb365b0cc": {
      "model_module": "@jupyter-widgets/controls",
      "model_module_version": "1.0.0",
      "model_name": "IntSliderModel",
      "state": {
       "description": "p",
       "layout": "IPY_MODEL_c6efa60bd3a44c709e804d9e36b29bcf",
       "max": 15,
       "min": -5,
       "style": "IPY_MODEL_5f6bd12da3b34f61991bf445407335c2",
       "value": 5
      }
     },
     "6eb6df2a33f14e668a9151cdcc2c63c7": {
      "model_module": "@jupyter-widgets/controls",
      "model_module_version": "1.0.0",
      "model_name": "SliderStyleModel",
      "state": {
       "description_width": ""
      }
     },
     "6ed23dca822849d2b90d331314e0d2f3": {
      "model_module": "@jupyter-widgets/controls",
      "model_module_version": "1.0.0",
      "model_name": "SliderStyleModel",
      "state": {
       "description_width": ""
      }
     },
     "6ee694125fbd4e769e51a9183b6050b5": {
      "model_module": "@jupyter-widgets/controls",
      "model_module_version": "1.0.0",
      "model_name": "SliderStyleModel",
      "state": {
       "description_width": ""
      }
     },
     "70b0a52dc08d4ab99a8b6117941a1d38": {
      "model_module": "@jupyter-widgets/base",
      "model_module_version": "1.0.0",
      "model_name": "LayoutModel",
      "state": {}
     },
     "730dd3e641d14f849a34f3d40152782f": {
      "model_module": "@jupyter-widgets/controls",
      "model_module_version": "1.0.0",
      "model_name": "VBoxModel",
      "state": {
       "_dom_classes": [
        "widget-interact"
       ],
       "children": [
        "IPY_MODEL_da9271e13ae240cda73f29f363cf7950",
        "IPY_MODEL_83aab116bd62417eb8de9774b7360f61"
       ],
       "layout": "IPY_MODEL_5133a71e8b2041628a12a0c5ce4e87f0"
      }
     },
     "733d219a3bc145b1b29ca6ae183ef126": {
      "model_module": "@jupyter-widgets/controls",
      "model_module_version": "1.0.0",
      "model_name": "SliderStyleModel",
      "state": {
       "description_width": ""
      }
     },
     "7481cce4d65e4685a2e654f0b5510cb8": {
      "model_module": "@jupyter-widgets/base",
      "model_module_version": "1.0.0",
      "model_name": "LayoutModel",
      "state": {}
     },
     "74a9231af6e5420f89c1e8ce3a3dd0c1": {
      "model_module": "@jupyter-widgets/base",
      "model_module_version": "1.0.0",
      "model_name": "LayoutModel",
      "state": {}
     },
     "750720b3fffa4e5aa96f7af12ec040b2": {
      "model_module": "@jupyter-widgets/base",
      "model_module_version": "1.0.0",
      "model_name": "LayoutModel",
      "state": {}
     },
     "753975d7931e45499c89c5484d89333a": {
      "model_module": "@jupyter-widgets/output",
      "model_module_version": "1.0.0",
      "model_name": "OutputModel",
      "state": {
       "layout": "IPY_MODEL_82b0778f944f48cba51888a720a7cb72",
       "outputs": [
        {
         "data": {
          "text/plain": "(5, 20)"
         },
         "metadata": {},
         "output_type": "display_data"
        }
       ]
      }
     },
     "75d4d65b4c4845d3abae3429ff232885": {
      "model_module": "@jupyter-widgets/controls",
      "model_module_version": "1.0.0",
      "model_name": "SliderStyleModel",
      "state": {
       "description_width": ""
      }
     },
     "783082fda81c475a966d2d38a7027b1f": {
      "model_module": "@jupyter-widgets/base",
      "model_module_version": "1.0.0",
      "model_name": "LayoutModel",
      "state": {}
     },
     "7893958b868347ea973c6edf008ca72a": {
      "model_module": "@jupyter-widgets/controls",
      "model_module_version": "1.0.0",
      "model_name": "VBoxModel",
      "state": {
       "_dom_classes": [
        "widget-interact"
       ],
       "children": [
        "IPY_MODEL_6e705b90fb6f4813b118202eb365b0cc",
        "IPY_MODEL_ff135baa288d4bb39138bcbc46969415"
       ],
       "layout": "IPY_MODEL_4dcac787819849709d738ffc788ce768"
      }
     },
     "7c31b7ea5d62491e8c52cab019df9306": {
      "model_module": "@jupyter-widgets/base",
      "model_module_version": "1.0.0",
      "model_name": "LayoutModel",
      "state": {}
     },
     "7c42f389abd44b6cb6cd2a8d7a47cd23": {
      "model_module": "@jupyter-widgets/controls",
      "model_module_version": "1.0.0",
      "model_name": "DescriptionStyleModel",
      "state": {
       "description_width": ""
      }
     },
     "7cdaa790477546ca92caa9a5877a8634": {
      "model_module": "@jupyter-widgets/output",
      "model_module_version": "1.0.0",
      "model_name": "OutputModel",
      "state": {
       "layout": "IPY_MODEL_9fda9686b769433e944be7f663b35699",
       "outputs": [
        {
         "data": {
          "text/plain": "6"
         },
         "metadata": {},
         "output_type": "display_data"
        }
       ]
      }
     },
     "7ce1ad3ea322489db22dbe84a8860c5a": {
      "model_module": "@jupyter-widgets/controls",
      "model_module_version": "1.0.0",
      "model_name": "TextModel",
      "state": {
       "description": "Text",
       "layout": "IPY_MODEL_11d92c28ef3c4eaa94142da74a2fb8da",
       "style": "IPY_MODEL_5c6439660b2049ad8a4a8050e1e067ef",
       "value": "Type here!"
      }
     },
     "7e158d6c70dc45959f34dc10771dec58": {
      "model_module": "@jupyter-widgets/controls",
      "model_module_version": "1.0.0",
      "model_name": "SliderStyleModel",
      "state": {
       "description_width": ""
      }
     },
     "7e6778e890a34170b387d6be2c0bc870": {
      "model_module": "@jupyter-widgets/base",
      "model_module_version": "1.0.0",
      "model_name": "LayoutModel",
      "state": {}
     },
     "80508b8709a040d8b4cd350959553523": {
      "model_module": "@jupyter-widgets/base",
      "model_module_version": "1.0.0",
      "model_name": "LayoutModel",
      "state": {}
     },
     "8099af5513fd4c799857f3ab1fa8f7fc": {
      "model_module": "@jupyter-widgets/base",
      "model_module_version": "1.0.0",
      "model_name": "LayoutModel",
      "state": {}
     },
     "81665aa1a7e44d5cbc36ed4a9f694510": {
      "model_module": "@jupyter-widgets/base",
      "model_module_version": "1.0.0",
      "model_name": "LayoutModel",
      "state": {}
     },
     "82b0778f944f48cba51888a720a7cb72": {
      "model_module": "@jupyter-widgets/base",
      "model_module_version": "1.0.0",
      "model_name": "LayoutModel",
      "state": {}
     },
     "83aab116bd62417eb8de9774b7360f61": {
      "model_module": "@jupyter-widgets/output",
      "model_module_version": "1.0.0",
      "model_name": "OutputModel",
      "state": {
       "layout": "IPY_MODEL_444fa70cac7749a5bb53bf9314071ba6",
       "outputs": [
        {
         "data": {
          "text/plain": "4"
         },
         "metadata": {},
         "output_type": "display_data"
        }
       ]
      }
     },
     "8513ad7d79134dcf973260a1ac578780": {
      "model_module": "@jupyter-widgets/base",
      "model_module_version": "1.0.0",
      "model_name": "LayoutModel",
      "state": {}
     },
     "8583de35f00e4219b31651fae5065607": {
      "model_module": "@jupyter-widgets/controls",
      "model_module_version": "1.0.0",
      "model_name": "SliderStyleModel",
      "state": {
       "description_width": ""
      }
     },
     "87c72cb7b42048f5866b5768dfda29e2": {
      "model_module": "@jupyter-widgets/base",
      "model_module_version": "1.0.0",
      "model_name": "LayoutModel",
      "state": {}
     },
     "8ca2c59bd9b94a888bb011cea4633d3c": {
      "model_module": "@jupyter-widgets/controls",
      "model_module_version": "1.0.0",
      "model_name": "SliderStyleModel",
      "state": {
       "description_width": ""
      }
     },
     "8ca48e8fffd34b5d80f997ffd13a91b4": {
      "model_module": "@jupyter-widgets/controls",
      "model_module_version": "1.0.0",
      "model_name": "SliderStyleModel",
      "state": {
       "description_width": ""
      }
     },
     "8d18a8bcaa5145679e03aef267b2948d": {
      "model_module": "@jupyter-widgets/base",
      "model_module_version": "1.0.0",
      "model_name": "LayoutModel",
      "state": {}
     },
     "8fc2d8691ab047c6a39dd1ef40cad80c": {
      "model_module": "@jupyter-widgets/controls",
      "model_module_version": "1.0.0",
      "model_name": "ButtonModel",
      "state": {
       "description": "Update the graph",
       "layout": "IPY_MODEL_5b8ee31b5204462abfd20f3ffd1160b9",
       "style": "IPY_MODEL_b7bd94cd0d6a48f1a0301565e3cc06d3"
      }
     },
     "9050250b2e9b447aa62441c9d0365122": {
      "model_module": "@jupyter-widgets/controls",
      "model_module_version": "1.0.0",
      "model_name": "FloatSliderModel",
      "state": {
       "description": "Float (a)",
       "layout": "IPY_MODEL_87c72cb7b42048f5866b5768dfda29e2",
       "max": 10,
       "min": -10,
       "step": 0.1,
       "style": "IPY_MODEL_adc55442be7545c386719b6e99afc2c6",
       "value": 5
      }
     },
     "90752cae41ed44e8a773bb8df3371102": {
      "model_module": "@jupyter-widgets/base",
      "model_module_version": "1.0.0",
      "model_name": "LayoutModel",
      "state": {}
     },
     "90d4d21015ba40ba8f8c4c981bbe14e3": {
      "model_module": "@jupyter-widgets/base",
      "model_module_version": "1.0.0",
      "model_name": "LayoutModel",
      "state": {}
     },
     "92097e12ee5f4748baaed14acced795e": {
      "model_module": "@jupyter-widgets/controls",
      "model_module_version": "1.0.0",
      "model_name": "ButtonModel",
      "state": {
       "description": "Update the graph",
       "layout": "IPY_MODEL_d033a470c1d249ba91d17622d905077e",
       "style": "IPY_MODEL_be0828ce682e493a846c43d031308f77"
      }
     },
     "9224f5c0c3384f829572a05ee0449629": {
      "model_module": "@jupyter-widgets/controls",
      "model_module_version": "1.0.0",
      "model_name": "VBoxModel",
      "state": {
       "_dom_classes": [
        "widget-interact"
       ],
       "children": [
        "IPY_MODEL_130336150c1f40c385bc59ea705541b7",
        "IPY_MODEL_f2d102fa57894c6b98ec7c068d274cff"
       ],
       "layout": "IPY_MODEL_9d857d8c442f400ba2c72bee88048884"
      }
     },
     "93a23592d1634adf85fb17e8cf11ee77": {
      "model_module": "@jupyter-widgets/controls",
      "model_module_version": "1.0.0",
      "model_name": "ButtonModel",
      "state": {
       "description": "Update the graph",
       "layout": "IPY_MODEL_94323b804e344e6eae8aa908ba3641b9",
       "style": "IPY_MODEL_526ce3479eae4e5d8cdfabda4331a146"
      }
     },
     "93b8e53ce66a40c19894193ebde68c39": {
      "model_module": "@jupyter-widgets/controls",
      "model_module_version": "1.0.0",
      "model_name": "SliderStyleModel",
      "state": {
       "description_width": ""
      }
     },
     "94323b804e344e6eae8aa908ba3641b9": {
      "model_module": "@jupyter-widgets/base",
      "model_module_version": "1.0.0",
      "model_name": "LayoutModel",
      "state": {}
     },
     "9438c490f46a4a7ab8ea53cb411bded0": {
      "model_module": "@jupyter-widgets/controls",
      "model_module_version": "1.0.0",
      "model_name": "IntSliderModel",
      "state": {
       "description": "Temp",
       "layout": "IPY_MODEL_6b6708be6f624153a241b9369abcd65a",
       "max": 10,
       "style": "IPY_MODEL_f10da1e5cd5346a78f9a7c86b941d227",
       "value": 5
      }
     },
     "95665ad6450646d285efc4b2192d63b4": {
      "model_module": "@jupyter-widgets/controls",
      "model_module_version": "1.0.0",
      "model_name": "IntSliderModel",
      "state": {
       "description": "p",
       "layout": "IPY_MODEL_7481cce4d65e4685a2e654f0b5510cb8",
       "max": 15,
       "min": -5,
       "style": "IPY_MODEL_8ca48e8fffd34b5d80f997ffd13a91b4",
       "value": 5
      }
     },
     "99ca857e407c4a8fa56c3fbf4c0adb28": {
      "model_module": "@jupyter-widgets/base",
      "model_module_version": "1.0.0",
      "model_name": "LayoutModel",
      "state": {}
     },
     "9d857d8c442f400ba2c72bee88048884": {
      "model_module": "@jupyter-widgets/base",
      "model_module_version": "1.0.0",
      "model_name": "LayoutModel",
      "state": {}
     },
     "9e6889ec733f434fb400220164417a90": {
      "model_module": "@jupyter-widgets/base",
      "model_module_version": "1.0.0",
      "model_name": "LayoutModel",
      "state": {}
     },
     "9f3e2feeab9b4c88945a2df403ada0c4": {
      "model_module": "@jupyter-widgets/controls",
      "model_module_version": "1.0.0",
      "model_name": "IntSliderModel",
      "state": {
       "description": "p",
       "layout": "IPY_MODEL_4db5c6cd80194c569fa126726db60fc8",
       "max": 15,
       "min": -5,
       "style": "IPY_MODEL_ab7ae9775af840b990429542ec8e9670",
       "value": 5
      }
     },
     "9f9e7a82e8704f178a388b831f98b8a0": {
      "model_module": "@jupyter-widgets/controls",
      "model_module_version": "1.0.0",
      "model_name": "CheckboxModel",
      "state": {
       "description": "z",
       "disabled": false,
       "layout": "IPY_MODEL_66ae5e75021e40fd9c23baaba665b1d9",
       "style": "IPY_MODEL_3c54c0f9313945d1bc232da7083b32af",
       "value": true
      }
     },
     "9fda9686b769433e944be7f663b35699": {
      "model_module": "@jupyter-widgets/base",
      "model_module_version": "1.0.0",
      "model_name": "LayoutModel",
      "state": {}
     },
     "a1fcfb4dae5e43419f7f40d0811d3266": {
      "model_module": "@jupyter-widgets/controls",
      "model_module_version": "1.0.0",
      "model_name": "TextModel",
      "state": {
       "description": "Domain to ping",
       "layout": "IPY_MODEL_36f4eb1c54e44354a263b0e0bceb25a3",
       "style": "IPY_MODEL_44eca7e579b847ddadd9803aef731cbd"
      }
     },
     "a25f524ca627459fa16362325aa3977e": {
      "model_module": "@jupyter-widgets/output",
      "model_module_version": "1.0.0",
      "model_name": "OutputModel",
      "state": {
       "layout": "IPY_MODEL_dc7a95f639604cc0bb64010fc173beac",
       "outputs": [
        {
         "data": {
          "text/plain": "(5, 20)"
         },
         "metadata": {},
         "output_type": "display_data"
        }
       ]
      }
     },
     "a2c0366201e44ada9748642238383629": {
      "model_module": "@jupyter-widgets/controls",
      "model_module_version": "1.0.0",
      "model_name": "VBoxModel",
      "state": {
       "_dom_classes": [
        "widget-interact"
       ],
       "children": [
        "IPY_MODEL_0cf862c8c34e407eb6cd05d364467283",
        "IPY_MODEL_1847b8eb5795401ca761af37de7dba5f"
       ],
       "layout": "IPY_MODEL_5861c45ee33e4a1590049a919145efdb"
      }
     },
     "a59c707f83284b4da4b3a43c8b39e3d0": {
      "model_module": "@jupyter-widgets/controls",
      "model_module_version": "1.0.0",
      "model_name": "IntSliderModel",
      "state": {
       "description": "p",
       "layout": "IPY_MODEL_b25e0420344b45c7bc0d92620318f1f3",
       "max": 15,
       "min": -5,
       "style": "IPY_MODEL_acbcf62211b94b1ca8000121ff79a343",
       "value": 5
      }
     },
     "a5d4bef7097a45b1a8fee8ed8f5bad2a": {
      "model_module": "@jupyter-widgets/controls",
      "model_module_version": "1.0.0",
      "model_name": "VBoxModel",
      "state": {
       "_dom_classes": [
        "widget-interact"
       ],
       "children": [
        "IPY_MODEL_56e715f6a3a24868806a60a3f2a2c70e",
        "IPY_MODEL_cd71e19c51fa4a00a3ba828ff0ab2beb"
       ],
       "layout": "IPY_MODEL_0785cdcc750c4398bac99a3a2edef8dc"
      }
     },
     "a6292081c22d483784c6cbe21e840dce": {
      "model_module": "@jupyter-widgets/controls",
      "model_module_version": "1.0.0",
      "model_name": "IntSliderModel",
      "state": {
       "continuous_update": false,
       "description": "Tbest:",
       "layout": "IPY_MODEL_d9b8b461f0c1455e9c1aef7797ff53a0",
       "max": 10,
       "style": "IPY_MODEL_4fa8d82b33ff44a6a0929544cfd35bb3",
       "value": 7
      }
     },
     "a890cd21f0274f9f868217dd0f462062": {
      "model_module": "@jupyter-widgets/output",
      "model_module_version": "1.0.0",
      "model_name": "OutputModel",
      "state": {
       "layout": "IPY_MODEL_17ddfa7a8211436696f7cfc7c251730d",
       "outputs": [
        {
         "data": {
          "text/plain": "(5, 200)"
         },
         "metadata": {},
         "output_type": "display_data"
        }
       ]
      }
     },
     "aa02712e713440749ac004123d60317a": {
      "model_module": "@jupyter-widgets/controls",
      "model_module_version": "1.0.0",
      "model_name": "SliderStyleModel",
      "state": {
       "description_width": ""
      }
     },
     "aa2f99e0dbee46bda1d88c5af1aa2dc1": {
      "model_module": "@jupyter-widgets/output",
      "model_module_version": "1.0.0",
      "model_name": "OutputModel",
      "state": {
       "layout": "IPY_MODEL_304bb27164e3424e834736abadfede0e",
       "outputs": [
        {
         "data": {
          "text/html": "<h3>Arguments:</h3><table>\n<tr><td>Temp</td><td>5</td></tr>\n<tr><td>Current</td><td>2.7</td></tr>\n<tr><td>z</td><td>True</td></tr>\n<tr><td>Text</td><td>Type here!</td></tr>\n<tr><td>a</td><td>5.0</td></tr>\n</table>",
          "text/plain": "<IPython.core.display.HTML object>"
         },
         "metadata": {},
         "output_type": "display_data"
        }
       ]
      }
     },
     "aab1ccbeb65c4339923a682db958800b": {
      "model_module": "@jupyter-widgets/controls",
      "model_module_version": "1.0.0",
      "model_name": "HBoxModel",
      "state": {
       "layout": "IPY_MODEL_8d18a8bcaa5145679e03aef267b2948d"
      }
     },
     "ab7ae9775af840b990429542ec8e9670": {
      "model_module": "@jupyter-widgets/controls",
      "model_module_version": "1.0.0",
      "model_name": "SliderStyleModel",
      "state": {
       "description_width": ""
      }
     },
     "ab859a5641084dac88224780ab6773bb": {
      "model_module": "@jupyter-widgets/controls",
      "model_module_version": "1.0.0",
      "model_name": "DescriptionStyleModel",
      "state": {
       "description_width": ""
      }
     },
     "acbcf62211b94b1ca8000121ff79a343": {
      "model_module": "@jupyter-widgets/controls",
      "model_module_version": "1.0.0",
      "model_name": "SliderStyleModel",
      "state": {
       "description_width": ""
      }
     },
     "adc55442be7545c386719b6e99afc2c6": {
      "model_module": "@jupyter-widgets/controls",
      "model_module_version": "1.0.0",
      "model_name": "SliderStyleModel",
      "state": {
       "description_width": ""
      }
     },
     "af02cdcb7c3749dc8ab2f6a3721e0e86": {
      "model_module": "@jupyter-widgets/base",
      "model_module_version": "1.0.0",
      "model_name": "LayoutModel",
      "state": {}
     },
     "affd37886bc84734b5b3a7f2d7d8be24": {
      "model_module": "@jupyter-widgets/base",
      "model_module_version": "1.0.0",
      "model_name": "LayoutModel",
      "state": {}
     },
     "b033ee8d9336471682291a35c760dffb": {
      "model_module": "@jupyter-widgets/base",
      "model_module_version": "1.0.0",
      "model_name": "LayoutModel",
      "state": {}
     },
     "b0749f43b22b4e94b0c7836322f72208": {
      "model_module": "@jupyter-widgets/base",
      "model_module_version": "1.0.0",
      "model_name": "LayoutModel",
      "state": {}
     },
     "b25e0420344b45c7bc0d92620318f1f3": {
      "model_module": "@jupyter-widgets/base",
      "model_module_version": "1.0.0",
      "model_name": "LayoutModel",
      "state": {}
     },
     "b438ddb49ae147ebb5bbc0e8fda3ccf1": {
      "model_module": "@jupyter-widgets/base",
      "model_module_version": "1.0.0",
      "model_name": "LayoutModel",
      "state": {}
     },
     "b444954dc0234d15aaa1b70d34b8d608": {
      "model_module": "@jupyter-widgets/controls",
      "model_module_version": "1.0.0",
      "model_name": "SliderStyleModel",
      "state": {
       "description_width": ""
      }
     },
     "b48b48ba033f4bb694ed0c9c5b7e6ec0": {
      "model_module": "@jupyter-widgets/controls",
      "model_module_version": "1.0.0",
      "model_name": "ButtonModel",
      "state": {
       "description": "Update the graph",
       "layout": "IPY_MODEL_b438ddb49ae147ebb5bbc0e8fda3ccf1",
       "style": "IPY_MODEL_25e0bcf9de0247fa8ff16dd107380563"
      }
     },
     "b6e75607375c4361b838b9d40342f90f": {
      "model_module": "@jupyter-widgets/controls",
      "model_module_version": "1.0.0",
      "model_name": "FloatSliderModel",
      "state": {
       "continuous_update": false,
       "description": "Test:",
       "layout": "IPY_MODEL_4d4f8f9050c247a290c90a57bd2e6785",
       "max": 10,
       "readout_format": ".1f",
       "step": 0.1,
       "style": "IPY_MODEL_6ee694125fbd4e769e51a9183b6050b5",
       "value": 7.5
      }
     },
     "b7bd94cd0d6a48f1a0301565e3cc06d3": {
      "model_module": "@jupyter-widgets/controls",
      "model_module_version": "1.0.0",
      "model_name": "ButtonStyleModel",
      "state": {}
     },
     "b8447288cc414e63a4e06d3152204c73": {
      "model_module": "@jupyter-widgets/controls",
      "model_module_version": "1.0.0",
      "model_name": "SliderStyleModel",
      "state": {
       "description_width": ""
      }
     },
     "b99d1ee92deb412bb250f9f6f6a491e3": {
      "model_module": "@jupyter-widgets/base",
      "model_module_version": "1.0.0",
      "model_name": "LayoutModel",
      "state": {}
     },
     "bb8cc6e8faaf41a48dce9e1f334cbb9b": {
      "model_module": "@jupyter-widgets/output",
      "model_module_version": "1.0.0",
      "model_name": "OutputModel",
      "state": {
       "layout": "IPY_MODEL_e540620efb144b7e8b9683d281a5ec2a",
       "outputs": [
        {
         "data": {
          "text/plain": "30"
         },
         "metadata": {},
         "output_type": "display_data"
        }
       ]
      }
     },
     "bc64e7eb040b401892a020a67d57f27c": {
      "model_module": "@jupyter-widgets/controls",
      "model_module_version": "1.0.0",
      "model_name": "SliderStyleModel",
      "state": {
       "description_width": ""
      }
     },
     "bd962e026b354cd6ab548d450afcc7d4": {
      "model_module": "@jupyter-widgets/controls",
      "model_module_version": "1.0.0",
      "model_name": "DescriptionStyleModel",
      "state": {
       "description_width": ""
      }
     },
     "be0828ce682e493a846c43d031308f77": {
      "model_module": "@jupyter-widgets/controls",
      "model_module_version": "1.0.0",
      "model_name": "ButtonStyleModel",
      "state": {}
     },
     "be249165745447a4bef9ce4cda0f9bf6": {
      "model_module": "@jupyter-widgets/output",
      "model_module_version": "1.0.0",
      "model_name": "OutputModel",
      "state": {
       "layout": "IPY_MODEL_7e6778e890a34170b387d6be2c0bc870",
       "outputs": [
        {
         "data": {
          "text/plain": "10"
         },
         "metadata": {},
         "output_type": "display_data"
        }
       ]
      }
     },
     "c05f1e7478854e0d98f07ee20427084a": {
      "model_module": "@jupyter-widgets/controls",
      "model_module_version": "1.0.0",
      "model_name": "FloatSliderModel",
      "state": {
       "continuous_update": false,
       "description": "Test:",
       "layout": "IPY_MODEL_affd37886bc84734b5b3a7f2d7d8be24",
       "max": 10,
       "readout_format": ".1f",
       "step": 0.1,
       "style": "IPY_MODEL_6ed23dca822849d2b90d331314e0d2f3",
       "value": 7.5
      }
     },
     "c1be44adac534fbf911539b7fdefd686": {
      "model_module": "@jupyter-widgets/controls",
      "model_module_version": "1.0.0",
      "model_name": "VBoxModel",
      "state": {
       "_dom_classes": [
        "widget-interact"
       ],
       "children": [
        "IPY_MODEL_29bb417c666f4fc4b48fd4566dc37e15",
        "IPY_MODEL_bb8cc6e8faaf41a48dce9e1f334cbb9b"
       ],
       "layout": "IPY_MODEL_f8afcc2293f34c8881ae934629cac79f"
      }
     },
     "c2bc2afb931846a69c1c157c6c5b6235": {
      "model_module": "@jupyter-widgets/controls",
      "model_module_version": "1.0.0",
      "model_name": "FloatSliderModel",
      "state": {
       "description": "Float (a)",
       "layout": "IPY_MODEL_750720b3fffa4e5aa96f7af12ec040b2",
       "max": 10,
       "min": -10,
       "step": 0.1,
       "style": "IPY_MODEL_e6f2b1080f36479a88a730aa57a8fd7b",
       "value": 5
      }
     },
     "c46a5c64b7894903b2cccc5dbd2603ff": {
      "model_module": "@jupyter-widgets/base",
      "model_module_version": "1.0.0",
      "model_name": "LayoutModel",
      "state": {}
     },
     "c6a6b7cb3f0b429daeed03500195b5b0": {
      "model_module": "@jupyter-widgets/base",
      "model_module_version": "1.0.0",
      "model_name": "LayoutModel",
      "state": {}
     },
     "c6db90ce818b4d5eb5dcf8072b26eb33": {
      "model_module": "@jupyter-widgets/controls",
      "model_module_version": "1.0.0",
      "model_name": "VBoxModel",
      "state": {
       "_dom_classes": [
        "widget-interact"
       ],
       "children": [
        "IPY_MODEL_6ce940b832444869a2e08cb54b77961a",
        "IPY_MODEL_be249165745447a4bef9ce4cda0f9bf6"
       ],
       "layout": "IPY_MODEL_b99d1ee92deb412bb250f9f6f6a491e3"
      }
     },
     "c6efa60bd3a44c709e804d9e36b29bcf": {
      "model_module": "@jupyter-widgets/base",
      "model_module_version": "1.0.0",
      "model_name": "LayoutModel",
      "state": {}
     },
     "c7f9144e29e2454cb14cf28efbd749d1": {
      "model_module": "@jupyter-widgets/base",
      "model_module_version": "1.0.0",
      "model_name": "LayoutModel",
      "state": {}
     },
     "c813e40bb2d5478e8322af7f32c7730f": {
      "model_module": "@jupyter-widgets/controls",
      "model_module_version": "1.0.0",
      "model_name": "IntSliderModel",
      "state": {
       "continuous_update": false,
       "description": "Tbest:",
       "layout": "IPY_MODEL_56954ce1659741a08b3eea810f62d4b2",
       "max": 10,
       "style": "IPY_MODEL_75d4d65b4c4845d3abae3429ff232885",
       "value": 7
      }
     },
     "c837f6c3ad474f078a8c6006935bb724": {
      "model_module": "@jupyter-widgets/output",
      "model_module_version": "1.0.0",
      "model_name": "OutputModel",
      "state": {
       "layout": "IPY_MODEL_421d7e2c2bc145908b854b4e1b514f52",
       "outputs": [
        {
         "data": {
          "text/html": "<h3>Arguments:</h3><table>\n<tr><td>Temp</td><td>5</td></tr>\n<tr><td>Current</td><td>5.0</td></tr>\n<tr><td>z</td><td>True</td></tr>\n<tr><td>Text</td><td>Type here!</td></tr>\n<tr><td>a</td><td>5.0</td></tr>\n</table>",
          "text/plain": "<IPython.core.display.HTML object>"
         },
         "metadata": {},
         "output_type": "display_data"
        }
       ]
      }
     },
     "c8e76d3bf1c9494b8c86c5b657d0cc58": {
      "model_module": "@jupyter-widgets/controls",
      "model_module_version": "1.0.0",
      "model_name": "HBoxModel",
      "state": {
       "layout": "IPY_MODEL_3073634bcc4845ae978677b8056c7a7a"
      }
     },
     "c8f7707912aa4fae8ab7ba660b706392": {
      "model_module": "@jupyter-widgets/controls",
      "model_module_version": "1.0.0",
      "model_name": "VBoxModel",
      "state": {
       "_dom_classes": [
        "widget-interact"
       ],
       "children": [
        "IPY_MODEL_57c399fb48314be59f581b01ec196eda",
        "IPY_MODEL_d8912a31a4f7401ebe1f033be6388708"
       ],
       "layout": "IPY_MODEL_442bd64d33f8456eb5336f0c63e32ed5"
      }
     },
     "ca0ab6abea7e40369449b4caa62d11c6": {
      "model_module": "@jupyter-widgets/base",
      "model_module_version": "1.0.0",
      "model_name": "LayoutModel",
      "state": {}
     },
     "ca537aa9fa3f47f0be0275080b0e37bd": {
      "model_module": "@jupyter-widgets/controls",
      "model_module_version": "1.0.0",
      "model_name": "SliderStyleModel",
      "state": {
       "description_width": ""
      }
     },
     "cb4e2504c8de47ad935fc2cc6057d59e": {
      "model_module": "@jupyter-widgets/controls",
      "model_module_version": "1.0.0",
      "model_name": "DescriptionStyleModel",
      "state": {
       "description_width": ""
      }
     },
     "cbb953f9b23141e38d0c8b64bc130e58": {
      "model_module": "@jupyter-widgets/controls",
      "model_module_version": "1.0.0",
      "model_name": "IntSliderModel",
      "state": {
       "continuous_update": false,
       "description": "Test:",
       "layout": "IPY_MODEL_53bb7be1bffe4b848d652f1c62289f7e",
       "max": 10,
       "style": "IPY_MODEL_44a3356d65fb45509984302c62a03300",
       "value": 3
      }
     },
     "cbeae71588254f2a93ab155fa0a2fdb5": {
      "model_module": "@jupyter-widgets/controls",
      "model_module_version": "1.0.0",
      "model_name": "TextModel",
      "state": {
       "description": "Domain to ping",
       "layout": "IPY_MODEL_af02cdcb7c3749dc8ab2f6a3721e0e86",
       "style": "IPY_MODEL_66d38b7072204893adbbce5197c5337d"
      }
     },
     "cc351f909db64c50bf4ece3af41e1ac0": {
      "model_module": "@jupyter-widgets/base",
      "model_module_version": "1.0.0",
      "model_name": "LayoutModel",
      "state": {}
     },
     "cd71e19c51fa4a00a3ba828ff0ab2beb": {
      "model_module": "@jupyter-widgets/output",
      "model_module_version": "1.0.0",
      "model_name": "OutputModel",
      "state": {
       "layout": "IPY_MODEL_74a9231af6e5420f89c1e8ce3a3dd0c1",
       "outputs": [
        {
         "ename": "NameError",
         "evalue": "name 'sin' is not defined",
         "output_type": "error",
         "traceback": [
          "\u001b[0;31m---------------------------------------------------------------------------\u001b[0m",
          "\u001b[0;31mNameError\u001b[0m                                 Traceback (most recent call last)",
          "\u001b[0;32m/anaconda3/lib/python3.6/site-packages/ipywidgets/widgets/interaction.py\u001b[0m in \u001b[0;36mupdate\u001b[0;34m(self, *args)\u001b[0m\n\u001b[1;32m    248\u001b[0m                     \u001b[0mvalue\u001b[0m \u001b[0;34m=\u001b[0m \u001b[0mwidget\u001b[0m\u001b[0;34m.\u001b[0m\u001b[0mget_interact_value\u001b[0m\u001b[0;34m(\u001b[0m\u001b[0;34m)\u001b[0m\u001b[0;34m\u001b[0m\u001b[0m\n\u001b[1;32m    249\u001b[0m                     \u001b[0mself\u001b[0m\u001b[0;34m.\u001b[0m\u001b[0mkwargs\u001b[0m\u001b[0;34m[\u001b[0m\u001b[0mwidget\u001b[0m\u001b[0;34m.\u001b[0m\u001b[0m_kwarg\u001b[0m\u001b[0;34m]\u001b[0m \u001b[0;34m=\u001b[0m \u001b[0mvalue\u001b[0m\u001b[0;34m\u001b[0m\u001b[0m\n\u001b[0;32m--> 250\u001b[0;31m                 \u001b[0mself\u001b[0m\u001b[0;34m.\u001b[0m\u001b[0mresult\u001b[0m \u001b[0;34m=\u001b[0m \u001b[0mself\u001b[0m\u001b[0;34m.\u001b[0m\u001b[0mf\u001b[0m\u001b[0;34m(\u001b[0m\u001b[0;34m**\u001b[0m\u001b[0mself\u001b[0m\u001b[0;34m.\u001b[0m\u001b[0mkwargs\u001b[0m\u001b[0;34m)\u001b[0m\u001b[0;34m\u001b[0m\u001b[0m\n\u001b[0m\u001b[1;32m    251\u001b[0m                 \u001b[0mshow_inline_matplotlib_plots\u001b[0m\u001b[0;34m(\u001b[0m\u001b[0;34m)\u001b[0m\u001b[0;34m\u001b[0m\u001b[0m\n\u001b[1;32m    252\u001b[0m                 \u001b[0;32mif\u001b[0m \u001b[0mself\u001b[0m\u001b[0;34m.\u001b[0m\u001b[0mauto_display\u001b[0m \u001b[0;32mand\u001b[0m \u001b[0mself\u001b[0m\u001b[0;34m.\u001b[0m\u001b[0mresult\u001b[0m \u001b[0;32mis\u001b[0m \u001b[0;32mnot\u001b[0m \u001b[0;32mNone\u001b[0m\u001b[0;34m:\u001b[0m\u001b[0;34m\u001b[0m\u001b[0m\n",
          "\u001b[0;32m<ipython-input-47-7b28e9f7157b>\u001b[0m in \u001b[0;36mpltsin\u001b[0;34m(f)\u001b[0m\n\u001b[1;32m      3\u001b[0m \u001b[0;34m\u001b[0m\u001b[0m\n\u001b[1;32m      4\u001b[0m \u001b[0;32mdef\u001b[0m \u001b[0mpltsin\u001b[0m\u001b[0;34m(\u001b[0m\u001b[0mf\u001b[0m\u001b[0;34m)\u001b[0m\u001b[0;34m:\u001b[0m\u001b[0;34m\u001b[0m\u001b[0m\n\u001b[0;32m----> 5\u001b[0;31m     \u001b[0mplt\u001b[0m\u001b[0;34m.\u001b[0m\u001b[0mplot\u001b[0m\u001b[0;34m(\u001b[0m\u001b[0mx\u001b[0m\u001b[0;34m,\u001b[0m\u001b[0msin\u001b[0m\u001b[0;34m(\u001b[0m\u001b[0;36m2\u001b[0m\u001b[0;34m*\u001b[0m\u001b[0mpi\u001b[0m\u001b[0;34m*\u001b[0m\u001b[0mt\u001b[0m\u001b[0;34m*\u001b[0m\u001b[0mf\u001b[0m\u001b[0;34m)\u001b[0m\u001b[0;34m)\u001b[0m\u001b[0;34m\u001b[0m\u001b[0m\n\u001b[0m\u001b[1;32m      6\u001b[0m     \u001b[0mplt\u001b[0m\u001b[0;34m.\u001b[0m\u001b[0mshow\u001b[0m\u001b[0;34m(\u001b[0m\u001b[0;34m)\u001b[0m\u001b[0;34m\u001b[0m\u001b[0m\n\u001b[1;32m      7\u001b[0m \u001b[0;34m\u001b[0m\u001b[0m\n",
          "\u001b[0;31mNameError\u001b[0m: name 'sin' is not defined"
         ]
        }
       ]
      }
     },
     "cdc0506fab454d87a4674f9f8c96bc1d": {
      "model_module": "@jupyter-widgets/controls",
      "model_module_version": "1.0.0",
      "model_name": "VBoxModel",
      "state": {
       "_dom_classes": [
        "widget-interact"
       ],
       "children": [
        "IPY_MODEL_a59c707f83284b4da4b3a43c8b39e3d0",
        "IPY_MODEL_25d74d9bc1654fed803a323fdc5c4dc3",
        "IPY_MODEL_a25f524ca627459fa16362325aa3977e"
       ],
       "layout": "IPY_MODEL_04c00a6f60cd4a18bd6e0f31f803ccbf"
      }
     },
     "ce323cc34d42488bae4cdd025105c6f9": {
      "model_module": "@jupyter-widgets/base",
      "model_module_version": "1.0.0",
      "model_name": "LayoutModel",
      "state": {}
     },
     "cf243836e52f42f79faf3665509f646f": {
      "model_module": "@jupyter-widgets/output",
      "model_module_version": "1.0.0",
      "model_name": "OutputModel",
      "state": {
       "layout": "IPY_MODEL_fc28401da5af48d8bc52d1706b54171e",
       "outputs": [
        {
         "data": {
          "text/plain": "(5, 200)"
         },
         "metadata": {},
         "output_type": "display_data"
        }
       ]
      }
     },
     "d01441ae040c41148c7e55bb2022d061": {
      "model_module": "@jupyter-widgets/output",
      "model_module_version": "1.0.0",
      "model_name": "OutputModel",
      "state": {
       "layout": "IPY_MODEL_4b762c2f724245e39c65671e1e56cc7b",
       "outputs": [
        {
         "data": {
          "text/plain": "10"
         },
         "metadata": {},
         "output_type": "display_data"
        }
       ]
      }
     },
     "d033a470c1d249ba91d17622d905077e": {
      "model_module": "@jupyter-widgets/base",
      "model_module_version": "1.0.0",
      "model_name": "LayoutModel",
      "state": {}
     },
     "d59d283ee4fa4f95867b1cc5a22a1a45": {
      "model_module": "@jupyter-widgets/base",
      "model_module_version": "1.0.0",
      "model_name": "LayoutModel",
      "state": {}
     },
     "d6bd67f7d1ff401cad6b5327a9ed2eac": {
      "model_module": "@jupyter-widgets/controls",
      "model_module_version": "1.0.0",
      "model_name": "VBoxModel",
      "state": {
       "_dom_classes": [
        "widget-interact"
       ],
       "children": [
        "IPY_MODEL_e8dccc23645b4f5797ba3b09a4dd3060",
        "IPY_MODEL_f8c831421d994405b63067859c5c0173"
       ],
       "layout": "IPY_MODEL_90752cae41ed44e8a773bb8df3371102"
      }
     },
     "d8429c0653b5442eb4162166f4597963": {
      "model_module": "@jupyter-widgets/base",
      "model_module_version": "1.0.0",
      "model_name": "LayoutModel",
      "state": {}
     },
     "d8912a31a4f7401ebe1f033be6388708": {
      "model_module": "@jupyter-widgets/output",
      "model_module_version": "1.0.0",
      "model_name": "OutputModel",
      "state": {
       "layout": "IPY_MODEL_489fe5814a634fe9ba77c6c899ee1841",
       "outputs": [
        {
         "data": {
          "text/plain": "10"
         },
         "metadata": {},
         "output_type": "display_data"
        }
       ]
      }
     },
     "d9b8b461f0c1455e9c1aef7797ff53a0": {
      "model_module": "@jupyter-widgets/base",
      "model_module_version": "1.0.0",
      "model_name": "LayoutModel",
      "state": {}
     },
     "da9271e13ae240cda73f29f363cf7950": {
      "model_module": "@jupyter-widgets/controls",
      "model_module_version": "1.0.0",
      "model_name": "IntSliderModel",
      "state": {
       "continuous_update": false,
       "description": "Tbest:",
       "layout": "IPY_MODEL_7c31b7ea5d62491e8c52cab019df9306",
       "max": 10,
       "style": "IPY_MODEL_487a73234d2a4352a5943dd90d9ff4f9",
       "value": 4
      }
     },
     "dae9c0e24edc4ea596397b93968899ab": {
      "model_module": "@jupyter-widgets/controls",
      "model_module_version": "1.0.0",
      "model_name": "VBoxModel",
      "state": {
       "_dom_classes": [
        "widget-interact"
       ],
       "children": [
        "IPY_MODEL_e085287e33394476ab53b2bfcbbb7856",
        "IPY_MODEL_7cdaa790477546ca92caa9a5877a8634"
       ],
       "layout": "IPY_MODEL_c7f9144e29e2454cb14cf28efbd749d1"
      }
     },
     "dc7a95f639604cc0bb64010fc173beac": {
      "model_module": "@jupyter-widgets/base",
      "model_module_version": "1.0.0",
      "model_name": "LayoutModel",
      "state": {}
     },
     "dd6f7af3419d4376836bd545be19de40": {
      "model_module": "@jupyter-widgets/output",
      "model_module_version": "1.0.0",
      "model_name": "OutputModel",
      "state": {
       "layout": "IPY_MODEL_49896c57958a463aab57c7dc8260abcc",
       "outputs": [
        {
         "data": {
          "text/plain": "10"
         },
         "metadata": {},
         "output_type": "display_data"
        }
       ]
      }
     },
     "dda806b2a76e42139685a437b8ac1236": {
      "model_module": "@jupyter-widgets/base",
      "model_module_version": "1.0.0",
      "model_name": "LayoutModel",
      "state": {}
     },
     "de121ea704bc46cca54d864f8a0d62e4": {
      "model_module": "@jupyter-widgets/controls",
      "model_module_version": "1.0.0",
      "model_name": "TextModel",
      "state": {
       "description": "Domain to ping",
       "layout": "IPY_MODEL_231bf12285db47eb9d92a7cc576fd8f4",
       "style": "IPY_MODEL_431e7caa13ba4ebcade1efadac28aa6a",
       "value": "bing.com"
      }
     },
     "e085287e33394476ab53b2bfcbbb7856": {
      "model_module": "@jupyter-widgets/controls",
      "model_module_version": "1.0.0",
      "model_name": "IntSliderModel",
      "state": {
       "description": "x",
       "layout": "IPY_MODEL_3bceee0145e14390a44bea1bea2aecda",
       "max": 30,
       "min": -10,
       "style": "IPY_MODEL_5d924d7ef07e4ed49c6e267eea3859a1",
       "value": 6
      }
     },
     "e1b93132719c4bef860f93e08637910b": {
      "model_module": "@jupyter-widgets/base",
      "model_module_version": "1.0.0",
      "model_name": "LayoutModel",
      "state": {}
     },
     "e38329d63d3040b0a68c2eb0f3015fb6": {
      "model_module": "@jupyter-widgets/controls",
      "model_module_version": "1.0.0",
      "model_name": "VBoxModel",
      "state": {
       "_dom_classes": [
        "widget-interact"
       ],
       "children": [
        "IPY_MODEL_5885d0e6e78f45f181fe70523516b71e",
        "IPY_MODEL_753975d7931e45499c89c5484d89333a"
       ],
       "layout": "IPY_MODEL_9e6889ec733f434fb400220164417a90"
      }
     },
     "e540620efb144b7e8b9683d281a5ec2a": {
      "model_module": "@jupyter-widgets/base",
      "model_module_version": "1.0.0",
      "model_name": "LayoutModel",
      "state": {}
     },
     "e6f2b1080f36479a88a730aa57a8fd7b": {
      "model_module": "@jupyter-widgets/controls",
      "model_module_version": "1.0.0",
      "model_name": "SliderStyleModel",
      "state": {
       "description_width": ""
      }
     },
     "e6fa213661f5457cac2e259b1723b572": {
      "model_module": "@jupyter-widgets/controls",
      "model_module_version": "1.0.0",
      "model_name": "VBoxModel",
      "state": {
       "_dom_classes": [
        "widget-interact"
       ],
       "layout": "IPY_MODEL_1cff741b586944edb3248322099935c1"
      }
     },
     "e853b7773f0b4d56a1137caaef2aa191": {
      "model_module": "@jupyter-widgets/controls",
      "model_module_version": "1.0.0",
      "model_name": "IntSliderModel",
      "state": {
       "description": "Temp",
       "layout": "IPY_MODEL_b033ee8d9336471682291a35c760dffb",
       "max": 10,
       "style": "IPY_MODEL_733d219a3bc145b1b29ca6ae183ef126",
       "value": 5
      }
     },
     "e8dccc23645b4f5797ba3b09a4dd3060": {
      "model_module": "@jupyter-widgets/controls",
      "model_module_version": "1.0.0",
      "model_name": "IntSliderModel",
      "state": {
       "continuous_update": false,
       "description": "Tbest:",
       "layout": "IPY_MODEL_d59d283ee4fa4f95867b1cc5a22a1a45",
       "max": 10,
       "style": "IPY_MODEL_1174d9d63ed445ac9538352b11c3f4cc",
       "value": 7
      }
     },
     "e91f2484e2fe4ca49b1e57a57b482e58": {
      "model_module": "@jupyter-widgets/controls",
      "model_module_version": "1.0.0",
      "model_name": "VBoxModel",
      "state": {
       "_dom_classes": [
        "widget-interact"
       ],
       "children": [
        "IPY_MODEL_9f3e2feeab9b4c88945a2df403ada0c4",
        "IPY_MODEL_cf243836e52f42f79faf3665509f646f"
       ],
       "layout": "IPY_MODEL_4843395f8ab949568336a796df40c31b"
      }
     },
     "ed4a8f335db34ae8b1f13f6408c37ff8": {
      "model_module": "@jupyter-widgets/controls",
      "model_module_version": "1.0.0",
      "model_name": "IntSliderModel",
      "state": {
       "continuous_update": false,
       "description": "Test:",
       "layout": "IPY_MODEL_677500297aa842738ce2ea20abc9c7af",
       "max": 10,
       "style": "IPY_MODEL_8583de35f00e4219b31651fae5065607",
       "value": 7
      }
     },
     "f10da1e5cd5346a78f9a7c86b941d227": {
      "model_module": "@jupyter-widgets/controls",
      "model_module_version": "1.0.0",
      "model_name": "SliderStyleModel",
      "state": {
       "description_width": ""
      }
     },
     "f2d102fa57894c6b98ec7c068d274cff": {
      "model_module": "@jupyter-widgets/output",
      "model_module_version": "1.0.0",
      "model_name": "OutputModel",
      "state": {
       "layout": "IPY_MODEL_4884b93da1854a6fb6c8a1df3fe4e085",
       "outputs": [
        {
         "data": {
          "text/plain": "-2"
         },
         "metadata": {},
         "output_type": "display_data"
        }
       ]
      }
     },
     "f417e261c248439aade3e7478e0b80f2": {
      "model_module": "@jupyter-widgets/base",
      "model_module_version": "1.0.0",
      "model_name": "LayoutModel",
      "state": {}
     },
     "f5f14ff5e9d14a728da64ee731b3269e": {
      "model_module": "@jupyter-widgets/controls",
      "model_module_version": "1.0.0",
      "model_name": "SliderStyleModel",
      "state": {
       "description_width": ""
      }
     },
     "f6ac5a4ba9444d1b81e178975238d50f": {
      "model_module": "@jupyter-widgets/controls",
      "model_module_version": "1.0.0",
      "model_name": "FloatSliderModel",
      "state": {
       "continuous_update": false,
       "description": "Test:",
       "layout": "IPY_MODEL_c46a5c64b7894903b2cccc5dbd2603ff",
       "max": 10,
       "readout_format": ".1f",
       "step": 0.1,
       "style": "IPY_MODEL_55294591f06a43c986d7187a3d7234c2",
       "value": 7.5
      }
     },
     "f7f99c120cf74d50ad81564eba4164e4": {
      "model_module": "@jupyter-widgets/base",
      "model_module_version": "1.0.0",
      "model_name": "LayoutModel",
      "state": {}
     },
     "f8afcc2293f34c8881ae934629cac79f": {
      "model_module": "@jupyter-widgets/base",
      "model_module_version": "1.0.0",
      "model_name": "LayoutModel",
      "state": {}
     },
     "f8c831421d994405b63067859c5c0173": {
      "model_module": "@jupyter-widgets/output",
      "model_module_version": "1.0.0",
      "model_name": "OutputModel",
      "state": {
       "layout": "IPY_MODEL_528e0e52dc6744379737787973fd712c",
       "outputs": [
        {
         "data": {
          "text/plain": "7"
         },
         "metadata": {},
         "output_type": "display_data"
        }
       ]
      }
     },
     "fc28401da5af48d8bc52d1706b54171e": {
      "model_module": "@jupyter-widgets/base",
      "model_module_version": "1.0.0",
      "model_name": "LayoutModel",
      "state": {}
     },
     "ff135baa288d4bb39138bcbc46969415": {
      "model_module": "@jupyter-widgets/output",
      "model_module_version": "1.0.0",
      "model_name": "OutputModel",
      "state": {
       "layout": "IPY_MODEL_34aaf316929245b58e28c2959514a639",
       "outputs": [
        {
         "data": {
          "text/plain": "(5, 20)"
         },
         "metadata": {},
         "output_type": "display_data"
        }
       ]
      }
     }
    },
    "version_major": 2,
    "version_minor": 0
   }
  }
 },
 "nbformat": 4,
 "nbformat_minor": 2
}
