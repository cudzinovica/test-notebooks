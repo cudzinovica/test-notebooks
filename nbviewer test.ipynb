{
 "cells": [
  {
   "cell_type": "code",
   "execution_count": null,
   "metadata": {},
   "outputs": [],
   "source": [
    "from IPython.display import HTML\n",
    "\n",
    "HTML('''<script>\n",
    "code_show=true; \n",
    "function code_toggle() {\n",
    " if (code_show){\n",
    " $('div.input').hide();\n",
    " } else {\n",
    " $('div.input').show();\n",
    " }\n",
    " code_show = !code_show\n",
    "} \n",
    "$( document ).ready(code_toggle);\n",
    "</script>\n",
    "<form action=\"javascript:code_toggle()\"><input type=\"submit\" value=\"Click here to toggle on/off the raw code.\"></form>''')"
   ]
  },
  {
   "cell_type": "code",
   "execution_count": null,
   "metadata": {},
   "outputs": [],
   "source": [
    "from __future__ import print_function\n",
    "from ipywidgets import interact, interactive, fixed, interact_manual\n",
    "import ipywidgets as widgets"
   ]
  },
  {
   "cell_type": "code",
   "execution_count": null,
   "metadata": {},
   "outputs": [],
   "source": [
    "widgets.IntSlider(\n",
    "    value=7,\n",
    "    min=0,\n",
    "    max=10,\n",
    "    step=1,\n",
    "    description='Tbest:',\n",
    "    disabled=False,\n",
    "    continuous_update=False,\n",
    "    orientation='horizontal',\n",
    "    readout=True,\n",
    "    readout_format='d'\n",
    ")"
   ]
  },
  {
   "cell_type": "code",
   "execution_count": null,
   "metadata": {},
   "outputs": [],
   "source": [
    "widgets.FloatSlider(\n",
    "    value=7.5,\n",
    "    min=0,\n",
    "    max=10.0,\n",
    "    step=0.1,\n",
    "    description='Test:',\n",
    "    disabled=False,\n",
    "    continuous_update=False,\n",
    "    orientation='horizontal',\n",
    "    readout=True,\n",
    "    readout_format='.1f',\n",
    ")"
   ]
  },
  {
   "cell_type": "code",
   "execution_count": null,
   "metadata": {},
   "outputs": [],
   "source": []
  }
 ],
 "metadata": {
  "kernelspec": {
   "display_name": "Python 3",
   "language": "python",
   "name": "python3"
  },
  "language_info": {
   "codemirror_mode": {
    "name": "ipython",
    "version": 3
   },
   "file_extension": ".py",
   "mimetype": "text/x-python",
   "name": "python",
   "nbconvert_exporter": "python",
   "pygments_lexer": "ipython3",
   "version": "3.6.3"
  },
  "widgets": {
   "application/vnd.jupyter.widget-state+json": {
    "state": {
     "0a740dae07324eadbebca85ef455f0c6": {
      "model_module": "@jupyter-widgets/base",
      "model_module_version": "1.0.0",
      "model_name": "LayoutModel",
      "state": {}
     },
     "0d74cc05bb6f43a8929c39f66cfe83c1": {
      "model_module": "@jupyter-widgets/controls",
      "model_module_version": "1.0.0",
      "model_name": "DescriptionStyleModel",
      "state": {
       "description_width": ""
      }
     },
     "11d92c28ef3c4eaa94142da74a2fb8da": {
      "model_module": "@jupyter-widgets/base",
      "model_module_version": "1.0.0",
      "model_name": "LayoutModel",
      "state": {}
     },
     "121fcc020a514e79a42fdd4b5acc8d30": {
      "model_module": "@jupyter-widgets/controls",
      "model_module_version": "1.0.0",
      "model_name": "FloatSliderModel",
      "state": {
       "description": "Current",
       "layout": "IPY_MODEL_f7f99c120cf74d50ad81564eba4164e4",
       "max": 10,
       "step": 0.01,
       "style": "IPY_MODEL_ca537aa9fa3f47f0be0275080b0e37bd",
       "value": 5
      }
     },
     "12838a97e95f48628b59f9030783a42f": {
      "model_module": "@jupyter-widgets/base",
      "model_module_version": "1.0.0",
      "model_name": "LayoutModel",
      "state": {}
     },
     "129b98688ca2435baa27a06aefb65d2d": {
      "model_module": "@jupyter-widgets/base",
      "model_module_version": "1.0.0",
      "model_name": "LayoutModel",
      "state": {}
     },
     "1402b913a0944722b8f4e6b88d84adaf": {
      "model_module": "@jupyter-widgets/controls",
      "model_module_version": "1.0.0",
      "model_name": "TextModel",
      "state": {
       "description": "Text",
       "layout": "IPY_MODEL_129b98688ca2435baa27a06aefb65d2d",
       "style": "IPY_MODEL_558e41b472d64ccf86b87a01da98cf0e",
       "value": "Type here!"
      }
     },
     "24e9f87134ff43c1918e9e3ff6caba6a": {
      "model_module": "@jupyter-widgets/controls",
      "model_module_version": "1.0.0",
      "model_name": "SliderStyleModel",
      "state": {
       "description_width": ""
      }
     },
     "2a831f91a7d94d26ae15ad0791a9f5f1": {
      "model_module": "@jupyter-widgets/controls",
      "model_module_version": "1.0.0",
      "model_name": "VBoxModel",
      "state": {
       "_dom_classes": [
        "widget-interact"
       ],
       "children": [
        "IPY_MODEL_9438c490f46a4a7ab8ea53cb411bded0",
        "IPY_MODEL_121fcc020a514e79a42fdd4b5acc8d30",
        "IPY_MODEL_9f9e7a82e8704f178a388b831f98b8a0",
        "IPY_MODEL_7ce1ad3ea322489db22dbe84a8860c5a",
        "IPY_MODEL_c2bc2afb931846a69c1c157c6c5b6235",
        "IPY_MODEL_c837f6c3ad474f078a8c6006935bb724"
       ],
       "layout": "IPY_MODEL_12838a97e95f48628b59f9030783a42f"
      }
     },
     "304bb27164e3424e834736abadfede0e": {
      "model_module": "@jupyter-widgets/base",
      "model_module_version": "1.0.0",
      "model_name": "LayoutModel",
      "state": {}
     },
     "32f53df9930d44958817aca085fb84b6": {
      "model_module": "@jupyter-widgets/controls",
      "model_module_version": "1.0.0",
      "model_name": "FloatSliderModel",
      "state": {
       "continuous_update": false,
       "description": "Test:",
       "layout": "IPY_MODEL_43a2a3f01db34ae6a8a1f573ed8d6f0c",
       "max": 10,
       "readout_format": ".1f",
       "step": 0.1,
       "style": "IPY_MODEL_b8447288cc414e63a4e06d3152204c73",
       "value": 7.5
      }
     },
     "339ad8b609c649d383da8a49740927c0": {
      "model_module": "@jupyter-widgets/controls",
      "model_module_version": "1.0.0",
      "model_name": "CheckboxModel",
      "state": {
       "description": "z",
       "disabled": false,
       "layout": "IPY_MODEL_81665aa1a7e44d5cbc36ed4a9f694510",
       "style": "IPY_MODEL_0d74cc05bb6f43a8929c39f66cfe83c1",
       "value": true
      }
     },
     "3c54c0f9313945d1bc232da7083b32af": {
      "model_module": "@jupyter-widgets/controls",
      "model_module_version": "1.0.0",
      "model_name": "DescriptionStyleModel",
      "state": {
       "description_width": ""
      }
     },
     "3d0e8b444cb44048a0728f7ccf9e6154": {
      "model_module": "@jupyter-widgets/controls",
      "model_module_version": "1.0.0",
      "model_name": "VBoxModel",
      "state": {
       "_dom_classes": [
        "widget-interact"
       ],
       "children": [
        "IPY_MODEL_e853b7773f0b4d56a1137caaef2aa191",
        "IPY_MODEL_3e6343b6dfb440b1bd599aee020fe110",
        "IPY_MODEL_339ad8b609c649d383da8a49740927c0",
        "IPY_MODEL_1402b913a0944722b8f4e6b88d84adaf",
        "IPY_MODEL_9050250b2e9b447aa62441c9d0365122",
        "IPY_MODEL_aa2f99e0dbee46bda1d88c5af1aa2dc1"
       ],
       "layout": "IPY_MODEL_90d4d21015ba40ba8f8c4c981bbe14e3"
      }
     },
     "3e6343b6dfb440b1bd599aee020fe110": {
      "model_module": "@jupyter-widgets/controls",
      "model_module_version": "1.0.0",
      "model_name": "FloatSliderModel",
      "state": {
       "description": "Current",
       "layout": "IPY_MODEL_e1b93132719c4bef860f93e08637910b",
       "max": 10,
       "step": 0.01,
       "style": "IPY_MODEL_b444954dc0234d15aaa1b70d34b8d608",
       "value": 2.7
      }
     },
     "40463f14cfc844228bf02716b11724a0": {
      "model_module": "@jupyter-widgets/base",
      "model_module_version": "1.0.0",
      "model_name": "LayoutModel",
      "state": {}
     },
     "421d7e2c2bc145908b854b4e1b514f52": {
      "model_module": "@jupyter-widgets/base",
      "model_module_version": "1.0.0",
      "model_name": "LayoutModel",
      "state": {}
     },
     "43a2a3f01db34ae6a8a1f573ed8d6f0c": {
      "model_module": "@jupyter-widgets/base",
      "model_module_version": "1.0.0",
      "model_name": "LayoutModel",
      "state": {}
     },
     "44a3356d65fb45509984302c62a03300": {
      "model_module": "@jupyter-widgets/controls",
      "model_module_version": "1.0.0",
      "model_name": "SliderStyleModel",
      "state": {
       "description_width": ""
      }
     },
     "4530ea0867fa4af1b3901b8336f11699": {
      "model_module": "@jupyter-widgets/controls",
      "model_module_version": "1.0.0",
      "model_name": "IntSliderModel",
      "state": {
       "continuous_update": false,
       "description": "Test:",
       "layout": "IPY_MODEL_0a740dae07324eadbebca85ef455f0c6",
       "max": 10,
       "style": "IPY_MODEL_68ef5082cd134546b8d676de9a1d7528",
       "value": 7
      }
     },
     "4be70a2e39ff4116a4bcb335321b5da7": {
      "model_module": "@jupyter-widgets/controls",
      "model_module_version": "1.0.0",
      "model_name": "IntSliderModel",
      "state": {
       "continuous_update": false,
       "description": "Tbest:",
       "layout": "IPY_MODEL_40463f14cfc844228bf02716b11724a0",
       "max": 10,
       "style": "IPY_MODEL_7e158d6c70dc45959f34dc10771dec58",
       "value": 7
      }
     },
     "4d4f8f9050c247a290c90a57bd2e6785": {
      "model_module": "@jupyter-widgets/base",
      "model_module_version": "1.0.0",
      "model_name": "LayoutModel",
      "state": {}
     },
     "4fa8d82b33ff44a6a0929544cfd35bb3": {
      "model_module": "@jupyter-widgets/controls",
      "model_module_version": "1.0.0",
      "model_name": "SliderStyleModel",
      "state": {
       "description_width": ""
      }
     },
     "528e1d27d02d414fafd8b3f8e15e5452": {
      "model_module": "@jupyter-widgets/controls",
      "model_module_version": "1.0.0",
      "model_name": "IntSliderModel",
      "state": {
       "continuous_update": false,
       "description": "Tbest:",
       "layout": "IPY_MODEL_f417e261c248439aade3e7478e0b80f2",
       "max": 10,
       "style": "IPY_MODEL_24e9f87134ff43c1918e9e3ff6caba6a",
       "value": 7
      }
     },
     "53bb7be1bffe4b848d652f1c62289f7e": {
      "model_module": "@jupyter-widgets/base",
      "model_module_version": "1.0.0",
      "model_name": "LayoutModel",
      "state": {}
     },
     "55294591f06a43c986d7187a3d7234c2": {
      "model_module": "@jupyter-widgets/controls",
      "model_module_version": "1.0.0",
      "model_name": "SliderStyleModel",
      "state": {
       "description_width": ""
      }
     },
     "558e41b472d64ccf86b87a01da98cf0e": {
      "model_module": "@jupyter-widgets/controls",
      "model_module_version": "1.0.0",
      "model_name": "DescriptionStyleModel",
      "state": {
       "description_width": ""
      }
     },
     "5c6439660b2049ad8a4a8050e1e067ef": {
      "model_module": "@jupyter-widgets/controls",
      "model_module_version": "1.0.0",
      "model_name": "DescriptionStyleModel",
      "state": {
       "description_width": ""
      }
     },
     "66ae5e75021e40fd9c23baaba665b1d9": {
      "model_module": "@jupyter-widgets/base",
      "model_module_version": "1.0.0",
      "model_name": "LayoutModel",
      "state": {}
     },
     "677500297aa842738ce2ea20abc9c7af": {
      "model_module": "@jupyter-widgets/base",
      "model_module_version": "1.0.0",
      "model_name": "LayoutModel",
      "state": {}
     },
     "68ef5082cd134546b8d676de9a1d7528": {
      "model_module": "@jupyter-widgets/controls",
      "model_module_version": "1.0.0",
      "model_name": "SliderStyleModel",
      "state": {
       "description_width": ""
      }
     },
     "6b6708be6f624153a241b9369abcd65a": {
      "model_module": "@jupyter-widgets/base",
      "model_module_version": "1.0.0",
      "model_name": "LayoutModel",
      "state": {}
     },
     "6ee694125fbd4e769e51a9183b6050b5": {
      "model_module": "@jupyter-widgets/controls",
      "model_module_version": "1.0.0",
      "model_name": "SliderStyleModel",
      "state": {
       "description_width": ""
      }
     },
     "733d219a3bc145b1b29ca6ae183ef126": {
      "model_module": "@jupyter-widgets/controls",
      "model_module_version": "1.0.0",
      "model_name": "SliderStyleModel",
      "state": {
       "description_width": ""
      }
     },
     "750720b3fffa4e5aa96f7af12ec040b2": {
      "model_module": "@jupyter-widgets/base",
      "model_module_version": "1.0.0",
      "model_name": "LayoutModel",
      "state": {}
     },
     "7ce1ad3ea322489db22dbe84a8860c5a": {
      "model_module": "@jupyter-widgets/controls",
      "model_module_version": "1.0.0",
      "model_name": "TextModel",
      "state": {
       "description": "Text",
       "layout": "IPY_MODEL_11d92c28ef3c4eaa94142da74a2fb8da",
       "style": "IPY_MODEL_5c6439660b2049ad8a4a8050e1e067ef",
       "value": "Type here!"
      }
     },
     "7e158d6c70dc45959f34dc10771dec58": {
      "model_module": "@jupyter-widgets/controls",
      "model_module_version": "1.0.0",
      "model_name": "SliderStyleModel",
      "state": {
       "description_width": ""
      }
     },
     "81665aa1a7e44d5cbc36ed4a9f694510": {
      "model_module": "@jupyter-widgets/base",
      "model_module_version": "1.0.0",
      "model_name": "LayoutModel",
      "state": {}
     },
     "8583de35f00e4219b31651fae5065607": {
      "model_module": "@jupyter-widgets/controls",
      "model_module_version": "1.0.0",
      "model_name": "SliderStyleModel",
      "state": {
       "description_width": ""
      }
     },
     "87c72cb7b42048f5866b5768dfda29e2": {
      "model_module": "@jupyter-widgets/base",
      "model_module_version": "1.0.0",
      "model_name": "LayoutModel",
      "state": {}
     },
     "9050250b2e9b447aa62441c9d0365122": {
      "model_module": "@jupyter-widgets/controls",
      "model_module_version": "1.0.0",
      "model_name": "FloatSliderModel",
      "state": {
       "description": "Float (a)",
       "layout": "IPY_MODEL_87c72cb7b42048f5866b5768dfda29e2",
       "max": 10,
       "min": -10,
       "step": 0.1,
       "style": "IPY_MODEL_adc55442be7545c386719b6e99afc2c6",
       "value": 5
      }
     },
     "90d4d21015ba40ba8f8c4c981bbe14e3": {
      "model_module": "@jupyter-widgets/base",
      "model_module_version": "1.0.0",
      "model_name": "LayoutModel",
      "state": {}
     },
     "9438c490f46a4a7ab8ea53cb411bded0": {
      "model_module": "@jupyter-widgets/controls",
      "model_module_version": "1.0.0",
      "model_name": "IntSliderModel",
      "state": {
       "description": "Temp",
       "layout": "IPY_MODEL_6b6708be6f624153a241b9369abcd65a",
       "max": 10,
       "style": "IPY_MODEL_f10da1e5cd5346a78f9a7c86b941d227",
       "value": 5
      }
     },
     "9f9e7a82e8704f178a388b831f98b8a0": {
      "model_module": "@jupyter-widgets/controls",
      "model_module_version": "1.0.0",
      "model_name": "CheckboxModel",
      "state": {
       "description": "z",
       "disabled": false,
       "layout": "IPY_MODEL_66ae5e75021e40fd9c23baaba665b1d9",
       "style": "IPY_MODEL_3c54c0f9313945d1bc232da7083b32af",
       "value": true
      }
     },
     "a6292081c22d483784c6cbe21e840dce": {
      "model_module": "@jupyter-widgets/controls",
      "model_module_version": "1.0.0",
      "model_name": "IntSliderModel",
      "state": {
       "continuous_update": false,
       "description": "Tbest:",
       "layout": "IPY_MODEL_d9b8b461f0c1455e9c1aef7797ff53a0",
       "max": 10,
       "style": "IPY_MODEL_4fa8d82b33ff44a6a0929544cfd35bb3",
       "value": 7
      }
     },
     "aa2f99e0dbee46bda1d88c5af1aa2dc1": {
      "model_module": "@jupyter-widgets/output",
      "model_module_version": "1.0.0",
      "model_name": "OutputModel",
      "state": {
       "layout": "IPY_MODEL_304bb27164e3424e834736abadfede0e",
       "outputs": [
        {
         "data": {
          "text/html": "<h3>Arguments:</h3><table>\n<tr><td>Temp</td><td>5</td></tr>\n<tr><td>Current</td><td>2.7</td></tr>\n<tr><td>z</td><td>True</td></tr>\n<tr><td>Text</td><td>Type here!</td></tr>\n<tr><td>a</td><td>5.0</td></tr>\n</table>",
          "text/plain": "<IPython.core.display.HTML object>"
         },
         "metadata": {},
         "output_type": "display_data"
        }
       ]
      }
     },
     "adc55442be7545c386719b6e99afc2c6": {
      "model_module": "@jupyter-widgets/controls",
      "model_module_version": "1.0.0",
      "model_name": "SliderStyleModel",
      "state": {
       "description_width": ""
      }
     },
     "b033ee8d9336471682291a35c760dffb": {
      "model_module": "@jupyter-widgets/base",
      "model_module_version": "1.0.0",
      "model_name": "LayoutModel",
      "state": {}
     },
     "b444954dc0234d15aaa1b70d34b8d608": {
      "model_module": "@jupyter-widgets/controls",
      "model_module_version": "1.0.0",
      "model_name": "SliderStyleModel",
      "state": {
       "description_width": ""
      }
     },
     "b6e75607375c4361b838b9d40342f90f": {
      "model_module": "@jupyter-widgets/controls",
      "model_module_version": "1.0.0",
      "model_name": "FloatSliderModel",
      "state": {
       "continuous_update": false,
       "description": "Test:",
       "layout": "IPY_MODEL_4d4f8f9050c247a290c90a57bd2e6785",
       "max": 10,
       "readout_format": ".1f",
       "step": 0.1,
       "style": "IPY_MODEL_6ee694125fbd4e769e51a9183b6050b5",
       "value": 7.5
      }
     },
     "b8447288cc414e63a4e06d3152204c73": {
      "model_module": "@jupyter-widgets/controls",
      "model_module_version": "1.0.0",
      "model_name": "SliderStyleModel",
      "state": {
       "description_width": ""
      }
     },
     "c2bc2afb931846a69c1c157c6c5b6235": {
      "model_module": "@jupyter-widgets/controls",
      "model_module_version": "1.0.0",
      "model_name": "FloatSliderModel",
      "state": {
       "description": "Float (a)",
       "layout": "IPY_MODEL_750720b3fffa4e5aa96f7af12ec040b2",
       "max": 10,
       "min": -10,
       "step": 0.1,
       "style": "IPY_MODEL_e6f2b1080f36479a88a730aa57a8fd7b",
       "value": 5
      }
     },
     "c46a5c64b7894903b2cccc5dbd2603ff": {
      "model_module": "@jupyter-widgets/base",
      "model_module_version": "1.0.0",
      "model_name": "LayoutModel",
      "state": {}
     },
     "c837f6c3ad474f078a8c6006935bb724": {
      "model_module": "@jupyter-widgets/output",
      "model_module_version": "1.0.0",
      "model_name": "OutputModel",
      "state": {
       "layout": "IPY_MODEL_421d7e2c2bc145908b854b4e1b514f52",
       "outputs": [
        {
         "data": {
          "text/html": "<h3>Arguments:</h3><table>\n<tr><td>Temp</td><td>5</td></tr>\n<tr><td>Current</td><td>5.0</td></tr>\n<tr><td>z</td><td>True</td></tr>\n<tr><td>Text</td><td>Type here!</td></tr>\n<tr><td>a</td><td>5.0</td></tr>\n</table>",
          "text/plain": "<IPython.core.display.HTML object>"
         },
         "metadata": {},
         "output_type": "display_data"
        }
       ]
      }
     },
     "ca537aa9fa3f47f0be0275080b0e37bd": {
      "model_module": "@jupyter-widgets/controls",
      "model_module_version": "1.0.0",
      "model_name": "SliderStyleModel",
      "state": {
       "description_width": ""
      }
     },
     "cbb953f9b23141e38d0c8b64bc130e58": {
      "model_module": "@jupyter-widgets/controls",
      "model_module_version": "1.0.0",
      "model_name": "IntSliderModel",
      "state": {
       "continuous_update": false,
       "description": "Test:",
       "layout": "IPY_MODEL_53bb7be1bffe4b848d652f1c62289f7e",
       "max": 10,
       "style": "IPY_MODEL_44a3356d65fb45509984302c62a03300",
       "value": 3
      }
     },
     "d9b8b461f0c1455e9c1aef7797ff53a0": {
      "model_module": "@jupyter-widgets/base",
      "model_module_version": "1.0.0",
      "model_name": "LayoutModel",
      "state": {}
     },
     "e1b93132719c4bef860f93e08637910b": {
      "model_module": "@jupyter-widgets/base",
      "model_module_version": "1.0.0",
      "model_name": "LayoutModel",
      "state": {}
     },
     "e6f2b1080f36479a88a730aa57a8fd7b": {
      "model_module": "@jupyter-widgets/controls",
      "model_module_version": "1.0.0",
      "model_name": "SliderStyleModel",
      "state": {
       "description_width": ""
      }
     },
     "e853b7773f0b4d56a1137caaef2aa191": {
      "model_module": "@jupyter-widgets/controls",
      "model_module_version": "1.0.0",
      "model_name": "IntSliderModel",
      "state": {
       "description": "Temp",
       "layout": "IPY_MODEL_b033ee8d9336471682291a35c760dffb",
       "max": 10,
       "style": "IPY_MODEL_733d219a3bc145b1b29ca6ae183ef126",
       "value": 5
      }
     },
     "ed4a8f335db34ae8b1f13f6408c37ff8": {
      "model_module": "@jupyter-widgets/controls",
      "model_module_version": "1.0.0",
      "model_name": "IntSliderModel",
      "state": {
       "continuous_update": false,
       "description": "Test:",
       "layout": "IPY_MODEL_677500297aa842738ce2ea20abc9c7af",
       "max": 10,
       "style": "IPY_MODEL_8583de35f00e4219b31651fae5065607",
       "value": 7
      }
     },
     "f10da1e5cd5346a78f9a7c86b941d227": {
      "model_module": "@jupyter-widgets/controls",
      "model_module_version": "1.0.0",
      "model_name": "SliderStyleModel",
      "state": {
       "description_width": ""
      }
     },
     "f417e261c248439aade3e7478e0b80f2": {
      "model_module": "@jupyter-widgets/base",
      "model_module_version": "1.0.0",
      "model_name": "LayoutModel",
      "state": {}
     },
     "f6ac5a4ba9444d1b81e178975238d50f": {
      "model_module": "@jupyter-widgets/controls",
      "model_module_version": "1.0.0",
      "model_name": "FloatSliderModel",
      "state": {
       "continuous_update": false,
       "description": "Test:",
       "layout": "IPY_MODEL_c46a5c64b7894903b2cccc5dbd2603ff",
       "max": 10,
       "readout_format": ".1f",
       "step": 0.1,
       "style": "IPY_MODEL_55294591f06a43c986d7187a3d7234c2",
       "value": 7.5
      }
     },
     "f7f99c120cf74d50ad81564eba4164e4": {
      "model_module": "@jupyter-widgets/base",
      "model_module_version": "1.0.0",
      "model_name": "LayoutModel",
      "state": {}
     }
    },
    "version_major": 2,
    "version_minor": 0
   }
  }
 },
 "nbformat": 4,
 "nbformat_minor": 2
}
