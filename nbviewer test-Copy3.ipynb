{
 "cells": [
  {
   "cell_type": "code",
   "execution_count": 1,
   "metadata": {},
   "outputs": [],
   "source": [
    "from IPython.display import display\n",
    "from ipywidgets import interact, interactive, fixed, interact_manual\n",
    "import ipywidgets as widgets"
   ]
  },
  {
   "cell_type": "code",
   "execution_count": 2,
   "metadata": {},
   "outputs": [
    {
     "data": {
      "application/vnd.jupyter.widget-view+json": {
       "model_id": "f05ca5f65ba74f01a2e8826b31e7578b",
       "version_major": 2,
       "version_minor": 0
      },
      "text/html": [
       "<p>Failed to display Jupyter Widget of type <code>interactive</code>.</p>\n",
       "<p>\n",
       "  If you're reading this message in the Jupyter Notebook or JupyterLab Notebook, it may mean\n",
       "  that the widgets JavaScript is still loading. If this message persists, it\n",
       "  likely means that the widgets JavaScript library is either not installed or\n",
       "  not enabled. See the <a href=\"https://ipywidgets.readthedocs.io/en/stable/user_install.html\">Jupyter\n",
       "  Widgets Documentation</a> for setup instructions.\n",
       "</p>\n",
       "<p>\n",
       "  If you're reading this message in another frontend (for example, a static\n",
       "  rendering on GitHub or <a href=\"https://nbviewer.jupyter.org/\">NBViewer</a>),\n",
       "  it may mean that your frontend doesn't currently support widgets.\n",
       "</p>\n"
      ],
      "text/plain": [
       "interactive(children=(Select(description='country', options=('USA', 'Russia'), value='USA'), Output()), _dom_classes=('widget-interact',))"
      ]
     },
     "metadata": {},
     "output_type": "display_data"
    },
    {
     "data": {
      "application/vnd.jupyter.widget-view+json": {
       "model_id": "991f7fda3a2644e8b5ed34f1673faace",
       "version_major": 2,
       "version_minor": 0
      },
      "text/html": [
       "<p>Failed to display Jupyter Widget of type <code>interactive</code>.</p>\n",
       "<p>\n",
       "  If you're reading this message in the Jupyter Notebook or JupyterLab Notebook, it may mean\n",
       "  that the widgets JavaScript is still loading. If this message persists, it\n",
       "  likely means that the widgets JavaScript library is either not installed or\n",
       "  not enabled. See the <a href=\"https://ipywidgets.readthedocs.io/en/stable/user_install.html\">Jupyter\n",
       "  Widgets Documentation</a> for setup instructions.\n",
       "</p>\n",
       "<p>\n",
       "  If you're reading this message in another frontend (for example, a static\n",
       "  rendering on GitHub or <a href=\"https://nbviewer.jupyter.org/\">NBViewer</a>),\n",
       "  it may mean that your frontend doesn't currently support widgets.\n",
       "</p>\n"
      ],
      "text/plain": [
       "interactive(children=(Select(description='city', options=('CHI', 'NYC'), value='CHI'), Output()), _dom_classes=('widget-interact',))"
      ]
     },
     "metadata": {},
     "output_type": "display_data"
    }
   ],
   "source": [
    "geo={'USA':['CHI','NYC'],'Russia':['MOW','LED']}\n",
    "\n",
    "def print_city(city):\n",
    "    print (city)\n",
    "\n",
    "def select_city(country):\n",
    "    cityW.options = geo[country]\n",
    "\n",
    "\n",
    "scW = widgets.Select(options=geo.keys())\n",
    "init = scW.value\n",
    "cityW = widgets.Select(options=geo[init])\n",
    "j = widgets.interactive(print_city, city=cityW)\n",
    "i = widgets.interactive(select_city, country=scW)\n",
    "display(i)\n",
    "display(j)\n"
   ]
  },
  {
   "cell_type": "code",
   "execution_count": 3,
   "metadata": {},
   "outputs": [],
   "source": [
    "import traitlets"
   ]
  },
  {
   "cell_type": "code",
   "execution_count": 4,
   "metadata": {},
   "outputs": [
    {
     "data": {
      "application/vnd.jupyter.widget-view+json": {
       "model_id": "c05aa4d159ed486885e5d0654bb9ff05",
       "version_major": 2,
       "version_minor": 0
      },
      "text/html": [
       "<p>Failed to display Jupyter Widget of type <code>Label</code>.</p>\n",
       "<p>\n",
       "  If you're reading this message in the Jupyter Notebook or JupyterLab Notebook, it may mean\n",
       "  that the widgets JavaScript is still loading. If this message persists, it\n",
       "  likely means that the widgets JavaScript library is either not installed or\n",
       "  not enabled. See the <a href=\"https://ipywidgets.readthedocs.io/en/stable/user_install.html\">Jupyter\n",
       "  Widgets Documentation</a> for setup instructions.\n",
       "</p>\n",
       "<p>\n",
       "  If you're reading this message in another frontend (for example, a static\n",
       "  rendering on GitHub or <a href=\"https://nbviewer.jupyter.org/\">NBViewer</a>),\n",
       "  it may mean that your frontend doesn't currently support widgets.\n",
       "</p>\n"
      ],
      "text/plain": [
       "Label(value='The values of slider1 and slider2 are synchronized')"
      ]
     },
     "metadata": {},
     "output_type": "display_data"
    },
    {
     "data": {
      "application/vnd.jupyter.widget-view+json": {
       "model_id": "d618bd8f06a347e4aebc37f13a70f196",
       "version_major": 2,
       "version_minor": 0
      },
      "text/html": [
       "<p>Failed to display Jupyter Widget of type <code>IntSlider</code>.</p>\n",
       "<p>\n",
       "  If you're reading this message in the Jupyter Notebook or JupyterLab Notebook, it may mean\n",
       "  that the widgets JavaScript is still loading. If this message persists, it\n",
       "  likely means that the widgets JavaScript library is either not installed or\n",
       "  not enabled. See the <a href=\"https://ipywidgets.readthedocs.io/en/stable/user_install.html\">Jupyter\n",
       "  Widgets Documentation</a> for setup instructions.\n",
       "</p>\n",
       "<p>\n",
       "  If you're reading this message in another frontend (for example, a static\n",
       "  rendering on GitHub or <a href=\"https://nbviewer.jupyter.org/\">NBViewer</a>),\n",
       "  it may mean that your frontend doesn't currently support widgets.\n",
       "</p>\n"
      ],
      "text/plain": [
       "IntSlider(value=0, description='Slider 1')"
      ]
     },
     "metadata": {},
     "output_type": "display_data"
    },
    {
     "data": {
      "application/vnd.jupyter.widget-view+json": {
       "model_id": "514b6f1c70bc4bebb291b0bad64fd068",
       "version_major": 2,
       "version_minor": 0
      },
      "text/html": [
       "<p>Failed to display Jupyter Widget of type <code>IntSlider</code>.</p>\n",
       "<p>\n",
       "  If you're reading this message in the Jupyter Notebook or JupyterLab Notebook, it may mean\n",
       "  that the widgets JavaScript is still loading. If this message persists, it\n",
       "  likely means that the widgets JavaScript library is either not installed or\n",
       "  not enabled. See the <a href=\"https://ipywidgets.readthedocs.io/en/stable/user_install.html\">Jupyter\n",
       "  Widgets Documentation</a> for setup instructions.\n",
       "</p>\n",
       "<p>\n",
       "  If you're reading this message in another frontend (for example, a static\n",
       "  rendering on GitHub or <a href=\"https://nbviewer.jupyter.org/\">NBViewer</a>),\n",
       "  it may mean that your frontend doesn't currently support widgets.\n",
       "</p>\n"
      ],
      "text/plain": [
       "IntSlider(value=0, description='Slider 2')"
      ]
     },
     "metadata": {},
     "output_type": "display_data"
    }
   ],
   "source": [
    "caption = widgets.Label(value='The values of slider1 and slider2 are synchronized')\n",
    "sliders1, slider2 = widgets.IntSlider(description='Slider 1'),\\\n",
    "                    widgets.IntSlider(description='Slider 2')\n",
    "l = traitlets.link((sliders1, 'value'), (slider2, 'value'))\n",
    "display(caption, sliders1, slider2)"
   ]
  },
  {
   "cell_type": "code",
   "execution_count": 5,
   "metadata": {
    "scrolled": false
   },
   "outputs": [
    {
     "data": {
      "application/vnd.jupyter.widget-view+json": {
       "model_id": "5fcafd8867254ced9ee4c59466396e0a",
       "version_major": 2,
       "version_minor": 0
      },
      "text/html": [
       "<p>Failed to display Jupyter Widget of type <code>interactive</code>.</p>\n",
       "<p>\n",
       "  If you're reading this message in the Jupyter Notebook or JupyterLab Notebook, it may mean\n",
       "  that the widgets JavaScript is still loading. If this message persists, it\n",
       "  likely means that the widgets JavaScript library is either not installed or\n",
       "  not enabled. See the <a href=\"https://ipywidgets.readthedocs.io/en/stable/user_install.html\">Jupyter\n",
       "  Widgets Documentation</a> for setup instructions.\n",
       "</p>\n",
       "<p>\n",
       "  If you're reading this message in another frontend (for example, a static\n",
       "  rendering on GitHub or <a href=\"https://nbviewer.jupyter.org/\">NBViewer</a>),\n",
       "  it may mean that your frontend doesn't currently support widgets.\n",
       "</p>\n"
      ],
      "text/plain": [
       "interactive(children=(IntSlider(value=0, description='Range 1'), Output()), _dom_classes=('widget-interact',))"
      ]
     },
     "metadata": {},
     "output_type": "display_data"
    },
    {
     "ename": "NameError",
     "evalue": "name 'range1' is not defined",
     "output_type": "error",
     "traceback": [
      "\u001b[0;31m---------------------------------------------------------------------------\u001b[0m",
      "\u001b[0;31mNameError\u001b[0m                                 Traceback (most recent call last)",
      "\u001b[0;32m<ipython-input-5-670eda05e647>\u001b[0m in \u001b[0;36m<module>\u001b[0;34m()\u001b[0m\n\u001b[1;32m      5\u001b[0m \u001b[0minteract\u001b[0m\u001b[0;34m(\u001b[0m\u001b[0mf\u001b[0m\u001b[0;34m,\u001b[0m\u001b[0mrange1\u001b[0m\u001b[0;34m=\u001b[0m \u001b[0mwidgets\u001b[0m\u001b[0;34m.\u001b[0m\u001b[0mIntSlider\u001b[0m\u001b[0;34m(\u001b[0m\u001b[0mdescription\u001b[0m\u001b[0;34m=\u001b[0m\u001b[0;34m'Range 1'\u001b[0m\u001b[0;34m)\u001b[0m\u001b[0;34m)\u001b[0m\u001b[0;34m\u001b[0m\u001b[0m\n\u001b[1;32m      6\u001b[0m \u001b[0mrange2\u001b[0m \u001b[0;34m=\u001b[0m \u001b[0mwidgets\u001b[0m\u001b[0;34m.\u001b[0m\u001b[0mIntSlider\u001b[0m\u001b[0;34m(\u001b[0m\u001b[0mdescription\u001b[0m\u001b[0;34m=\u001b[0m\u001b[0;34m'Range 2'\u001b[0m\u001b[0;34m)\u001b[0m\u001b[0;34m\u001b[0m\u001b[0m\n\u001b[0;32m----> 7\u001b[0;31m \u001b[0ml\u001b[0m \u001b[0;34m=\u001b[0m \u001b[0mwidgets\u001b[0m\u001b[0;34m.\u001b[0m\u001b[0mjslink\u001b[0m\u001b[0;34m(\u001b[0m\u001b[0;34m(\u001b[0m\u001b[0mrange1\u001b[0m\u001b[0;34m,\u001b[0m \u001b[0;34m'value'\u001b[0m\u001b[0;34m)\u001b[0m\u001b[0;34m,\u001b[0m \u001b[0;34m(\u001b[0m\u001b[0mrange2\u001b[0m\u001b[0;34m,\u001b[0m \u001b[0;34m'value'\u001b[0m\u001b[0;34m)\u001b[0m\u001b[0;34m)\u001b[0m\u001b[0;34m\u001b[0m\u001b[0m\n\u001b[0m\u001b[1;32m      8\u001b[0m \u001b[0mdisplay\u001b[0m\u001b[0;34m(\u001b[0m\u001b[0mcaption\u001b[0m\u001b[0;34m,\u001b[0m \u001b[0mrange1\u001b[0m\u001b[0;34m,\u001b[0m \u001b[0mrange2\u001b[0m\u001b[0;34m)\u001b[0m\u001b[0;34m\u001b[0m\u001b[0m\n",
      "\u001b[0;31mNameError\u001b[0m: name 'range1' is not defined"
     ]
    }
   ],
   "source": [
    "def f(range1):\n",
    "    return range1\n",
    "\n",
    "caption = widgets.Label(value='The values of range1 and range2 are synchronized')\n",
    "interact(f,range1= widgets.IntSlider(description='Range 1'))\n",
    "range2 = widgets.IntSlider(description='Range 2')\n",
    "l = widgets.jslink((range1, 'value'), (range2, 'value'))\n",
    "display(caption, range1, range2)"
   ]
  },
  {
   "cell_type": "code",
   "execution_count": null,
   "metadata": {},
   "outputs": [],
   "source": [
    "from ipywidgets import Layout, Button, Box, FloatText, Textarea, Dropdown, Label, IntSlider\n",
    "\n",
    "form_item_layout = Layout(\n",
    "    display='flex',\n",
    "    flex_flow='row',\n",
    "    justify_content='space-between'\n",
    ")\n",
    "\n",
    "form_items = [\n",
    "    Box([Label(value='Age of the captain'), IntSlider(min=40, max=60)], layout=form_item_layout),\n",
    "    Box([Label(value='Egg style'),\n",
    "         Dropdown(options=['Scrambled', 'Sunny side up', 'Over easy'])], layout=form_item_layout),\n",
    "    Box([Label(value='Ship size'),\n",
    "         FloatText()], layout=form_item_layout),\n",
    "    Box([Label(value='Information'),\n",
    "         Textarea()], layout=form_item_layout)\n",
    "]\n",
    "\n",
    "form = Box(form_items, layout=Layout(\n",
    "    display='flex',\n",
    "    flex_flow='column',\n",
    "    border='solid 2px',\n",
    "    align_items='stretch',\n",
    "    width='50%'\n",
    "))\n",
    "form"
   ]
  },
  {
   "cell_type": "code",
   "execution_count": null,
   "metadata": {},
   "outputs": [],
   "source": [
    "import plotly.plotly as py\n",
    "from plotly.graph_objs import *\n",
    "\n",
    "data = [Bar(x=df.School,\n",
    "            y=df.Gap)]\n",
    "\n",
    "py.iplot(data, filename='jupyter/basic_bar')"
   ]
  },
  {
   "cell_type": "code",
   "execution_count": null,
   "metadata": {},
   "outputs": [],
   "source": []
  }
 ],
 "metadata": {
  "kernelspec": {
   "display_name": "Python 3",
   "language": "python",
   "name": "python3"
  },
  "language_info": {
   "codemirror_mode": {
    "name": "ipython",
    "version": 3
   },
   "file_extension": ".py",
   "mimetype": "text/x-python",
   "name": "python",
   "nbconvert_exporter": "python",
   "pygments_lexer": "ipython3",
   "version": "3.6.3"
  },
  "widgets": {
   "application/vnd.jupyter.widget-state+json": {
    "state": {
     "002f20d97b2b4b00958b181f33e8bd6d": {
      "model_module": "@jupyter-widgets/controls",
      "model_module_version": "1.0.0",
      "model_name": "DescriptionStyleModel",
      "state": {
       "description_width": ""
      }
     },
     "0054543064074665b6f85d0c5888a7d2": {
      "model_module": "@jupyter-widgets/controls",
      "model_module_version": "1.0.0",
      "model_name": "VBoxModel",
      "state": {
       "_dom_classes": [
        "widget-interact"
       ],
       "layout": "IPY_MODEL_ce39c39829454385a2269e0cf6b50836"
      }
     },
     "00eedd2389284a4f969bf6b24aa0e22f": {
      "model_module": "@jupyter-widgets/controls",
      "model_module_version": "1.0.0",
      "model_name": "SelectModel",
      "state": {
       "_options_labels": [
        "USA",
        "Russia"
       ],
       "description": "country",
       "index": 0,
       "layout": "IPY_MODEL_0be6cc714de44ca18045715eec5236e3",
       "style": "IPY_MODEL_be1c188be60d4060b434eb071d7b9c00"
      }
     },
     "02aed655931d4797a528290bf1f41093": {
      "model_module": "@jupyter-widgets/base",
      "model_module_version": "1.0.0",
      "model_name": "LayoutModel",
      "state": {}
     },
     "0363d2efb136414fbcc4be980832ab8a": {
      "model_module": "@jupyter-widgets/controls",
      "model_module_version": "1.0.0",
      "model_name": "DescriptionStyleModel",
      "state": {
       "description_width": ""
      }
     },
     "043badebc2864a4a928ea05e0d66c53c": {
      "model_module": "@jupyter-widgets/controls",
      "model_module_version": "1.0.0",
      "model_name": "IntSliderModel",
      "state": {
       "description": "Range 2",
       "layout": "IPY_MODEL_65988e3946714b5bb095997838dc47d3",
       "style": "IPY_MODEL_e2e7d70607d5447bbb6f9a6befcf1c1d",
       "value": 25
      }
     },
     "04c00a6f60cd4a18bd6e0f31f803ccbf": {
      "model_module": "@jupyter-widgets/base",
      "model_module_version": "1.0.0",
      "model_name": "LayoutModel",
      "state": {}
     },
     "05dfa3530d2b49cf8ffc86713e2e787f": {
      "model_module": "@jupyter-widgets/controls",
      "model_module_version": "1.0.0",
      "model_name": "DescriptionStyleModel",
      "state": {
       "description_width": ""
      }
     },
     "0624fc8f923644cbadccd2fb85e7eb78": {
      "model_module": "@jupyter-widgets/base",
      "model_module_version": "1.0.0",
      "model_name": "LayoutModel",
      "state": {}
     },
     "065be0a59a3f4cb1817ba4def2dc0696": {
      "model_module": "@jupyter-widgets/controls",
      "model_module_version": "1.0.0",
      "model_name": "DropdownModel",
      "state": {
       "_options_labels": [
        "Scrambled",
        "Sunny side up",
        "Over easy"
       ],
       "index": 1,
       "layout": "IPY_MODEL_4711346c7e4b453c87d8e554d8258c60",
       "style": "IPY_MODEL_8506af5b89364c2881632cac29301a7e"
      }
     },
     "06cdaadfb1d44fdb92fa71940c184502": {
      "model_module": "@jupyter-widgets/controls",
      "model_module_version": "1.0.0",
      "model_name": "FloatTextModel",
      "state": {
       "layout": "IPY_MODEL_e258f2ca474048acb4a3eae4e08c777b",
       "step": null,
       "style": "IPY_MODEL_c2f4e42f7fea412bb66af852d045f8ec"
      }
     },
     "0785cdcc750c4398bac99a3a2edef8dc": {
      "model_module": "@jupyter-widgets/base",
      "model_module_version": "1.0.0",
      "model_name": "LayoutModel",
      "state": {}
     },
     "07d4d6c4a7ad4f43b21272d8b1690452": {
      "model_module": "@jupyter-widgets/controls",
      "model_module_version": "1.0.0",
      "model_name": "SelectModel",
      "state": {
       "_options_labels": [
        "USA",
        "Russia"
       ],
       "description": "country",
       "index": 0,
       "layout": "IPY_MODEL_faa1d076c34d49f09da6786c430be15d",
       "style": "IPY_MODEL_d56f881e3fcd422485f1bc99e83fd85b"
      }
     },
     "07f646598dfa40708008ef7b4f3de891": {
      "model_module": "@jupyter-widgets/controls",
      "model_module_version": "1.0.0",
      "model_name": "LabelModel",
      "state": {
       "layout": "IPY_MODEL_e069bdcfa4bd4ae89f871d5760c3b7d3",
       "style": "IPY_MODEL_34050f8cad1c4c55909eb87084d163a5",
       "value": "The values of range1 and range2 are synchronized"
      }
     },
     "08570eec98ee4424afd8e1f85cef3b20": {
      "model_module": "@jupyter-widgets/base",
      "model_module_version": "1.0.0",
      "model_name": "LayoutModel",
      "state": {}
     },
     "08acff3529274c5bb58f7ea456884c2a": {
      "model_module": "@jupyter-widgets/controls",
      "model_module_version": "1.0.0",
      "model_name": "VBoxModel",
      "state": {
       "_dom_classes": [
        "widget-interact"
       ],
       "children": [
        "IPY_MODEL_deb4fa3a9bd249058b4799055d0d74d8",
        "IPY_MODEL_b5d2beecd08d4190bd88674472e44bb7",
        "IPY_MODEL_7266ff44fec641688b4226d740b7503d"
       ],
       "layout": "IPY_MODEL_199c4f98dd904453ba694918655329e3"
      }
     },
     "09629733ceda49649fdbc2e38ef376ce": {
      "model_module": "@jupyter-widgets/controls",
      "model_module_version": "1.0.0",
      "model_name": "VBoxModel",
      "state": {
       "_dom_classes": [
        "widget-interact"
       ],
       "children": [
        "IPY_MODEL_f373371813e34595a3793c8d7bc8b813",
        "IPY_MODEL_1c0fd3c84ed6471c9e58a8c9247b415c"
       ],
       "layout": "IPY_MODEL_a51a61bb22114ab6ae0b7ca7308d9ce6"
      }
     },
     "0a740dae07324eadbebca85ef455f0c6": {
      "model_module": "@jupyter-widgets/base",
      "model_module_version": "1.0.0",
      "model_name": "LayoutModel",
      "state": {}
     },
     "0be6cc714de44ca18045715eec5236e3": {
      "model_module": "@jupyter-widgets/base",
      "model_module_version": "1.0.0",
      "model_name": "LayoutModel",
      "state": {}
     },
     "0c5328cb171c49aba4b54bb88f480887": {
      "model_module": "@jupyter-widgets/base",
      "model_module_version": "1.0.0",
      "model_name": "LayoutModel",
      "state": {}
     },
     "0cd1179cbaee41eeb23205fa1f1b21fa": {
      "model_module": "@jupyter-widgets/controls",
      "model_module_version": "1.0.0",
      "model_name": "LinkModel",
      "state": {
       "source": [
        "IPY_MODEL_7de40737bd8b41289bb01e9db13ac887",
        "value"
       ],
       "target": [
        "IPY_MODEL_c7ff581f6d884277ad11f22403be4695",
        "value"
       ]
      }
     },
     "0cf862c8c34e407eb6cd05d364467283": {
      "model_module": "@jupyter-widgets/controls",
      "model_module_version": "1.0.0",
      "model_name": "IntSliderModel",
      "state": {
       "description": "p",
       "layout": "IPY_MODEL_8099af5513fd4c799857f3ab1fa8f7fc",
       "max": 15,
       "min": -5,
       "style": "IPY_MODEL_61c0c2dbfb244813a6276630e674fc21",
       "value": 1
      }
     },
     "0d184fa91c6041c59e5c5eb93f58d872": {
      "model_module": "@jupyter-widgets/controls",
      "model_module_version": "1.0.0",
      "model_name": "DescriptionStyleModel",
      "state": {
       "description_width": ""
      }
     },
     "0d1e5415086c46079e9116315492712d": {
      "model_module": "@jupyter-widgets/controls",
      "model_module_version": "1.0.0",
      "model_name": "DescriptionStyleModel",
      "state": {
       "description_width": ""
      }
     },
     "0d450778aa1244b692a6efc03e7bbbf7": {
      "model_module": "@jupyter-widgets/base",
      "model_module_version": "1.0.0",
      "model_name": "LayoutModel",
      "state": {}
     },
     "0d74cc05bb6f43a8929c39f66cfe83c1": {
      "model_module": "@jupyter-widgets/controls",
      "model_module_version": "1.0.0",
      "model_name": "DescriptionStyleModel",
      "state": {
       "description_width": ""
      }
     },
     "0e8387c28d924846961dbd82e6ac36a0": {
      "model_module": "@jupyter-widgets/base",
      "model_module_version": "1.0.0",
      "model_name": "LayoutModel",
      "state": {}
     },
     "0e93d7373f6143dfaf1fd96611f14efd": {
      "model_module": "@jupyter-widgets/base",
      "model_module_version": "1.0.0",
      "model_name": "LayoutModel",
      "state": {}
     },
     "0ec81694ddbb4fcda6feff37b53e28d2": {
      "model_module": "@jupyter-widgets/controls",
      "model_module_version": "1.0.0",
      "model_name": "VBoxModel",
      "state": {
       "_dom_classes": [
        "widget-interact"
       ],
       "children": [
        "IPY_MODEL_847e9aaa73ff4e65842a29dfcc33f2cf",
        "IPY_MODEL_6265377bc3964bdbb787de5b4df48e87",
        "IPY_MODEL_3eaec9d06bfc4c32aea4bedb1bc0a170"
       ],
       "layout": "IPY_MODEL_a978346cda9f4172aaf49968d20a35eb"
      }
     },
     "10327d93f5a8447eb30c5d023b407ed0": {
      "model_module": "@jupyter-widgets/controls",
      "model_module_version": "1.0.0",
      "model_name": "SliderStyleModel",
      "state": {
       "description_width": ""
      }
     },
     "10a64d211f2a49978c8300669074ebe3": {
      "model_module": "@jupyter-widgets/base",
      "model_module_version": "1.0.0",
      "model_name": "LayoutModel",
      "state": {
       "align_items": "stretch",
       "border": "solid 2px",
       "display": "flex",
       "flex_flow": "column",
       "width": "50%"
      }
     },
     "10faffa453e84fcc9535b9b9309fcef5": {
      "model_module": "@jupyter-widgets/base",
      "model_module_version": "1.0.0",
      "model_name": "LayoutModel",
      "state": {}
     },
     "1109852db36a48b0999eaced45fc3932": {
      "model_module": "@jupyter-widgets/base",
      "model_module_version": "1.0.0",
      "model_name": "LayoutModel",
      "state": {}
     },
     "1174d9d63ed445ac9538352b11c3f4cc": {
      "model_module": "@jupyter-widgets/controls",
      "model_module_version": "1.0.0",
      "model_name": "SliderStyleModel",
      "state": {
       "description_width": ""
      }
     },
     "11985258b1b34f9a8f8c43e3fb6227cb": {
      "model_module": "@jupyter-widgets/controls",
      "model_module_version": "1.0.0",
      "model_name": "DescriptionStyleModel",
      "state": {
       "description_width": ""
      }
     },
     "11d92c28ef3c4eaa94142da74a2fb8da": {
      "model_module": "@jupyter-widgets/base",
      "model_module_version": "1.0.0",
      "model_name": "LayoutModel",
      "state": {}
     },
     "11fbaf3a38fa464389dc7adeaeaf3531": {
      "model_module": "@jupyter-widgets/base",
      "model_module_version": "1.0.0",
      "model_name": "LayoutModel",
      "state": {}
     },
     "121fcc020a514e79a42fdd4b5acc8d30": {
      "model_module": "@jupyter-widgets/controls",
      "model_module_version": "1.0.0",
      "model_name": "FloatSliderModel",
      "state": {
       "description": "Current",
       "layout": "IPY_MODEL_f7f99c120cf74d50ad81564eba4164e4",
       "max": 10,
       "step": 0.01,
       "style": "IPY_MODEL_ca537aa9fa3f47f0be0275080b0e37bd",
       "value": 5
      }
     },
     "123c35c7d3e7437d939270b890f9e71f": {
      "model_module": "@jupyter-widgets/base",
      "model_module_version": "1.0.0",
      "model_name": "LayoutModel",
      "state": {}
     },
     "12838a97e95f48628b59f9030783a42f": {
      "model_module": "@jupyter-widgets/base",
      "model_module_version": "1.0.0",
      "model_name": "LayoutModel",
      "state": {}
     },
     "1295e253cc804fc5b1ba62f7f15c5678": {
      "model_module": "@jupyter-widgets/controls",
      "model_module_version": "1.0.0",
      "model_name": "SliderStyleModel",
      "state": {
       "description_width": ""
      }
     },
     "129b98688ca2435baa27a06aefb65d2d": {
      "model_module": "@jupyter-widgets/base",
      "model_module_version": "1.0.0",
      "model_name": "LayoutModel",
      "state": {}
     },
     "130336150c1f40c385bc59ea705541b7": {
      "model_module": "@jupyter-widgets/controls",
      "model_module_version": "1.0.0",
      "model_name": "IntSliderModel",
      "state": {
       "description": "x",
       "layout": "IPY_MODEL_1ffd3f9ab4fd40cab07dd28bedfb6e7d",
       "max": 30,
       "min": -10,
       "style": "IPY_MODEL_54203ebd8faa4b4fad65b2daacd2acbb",
       "value": -2
      }
     },
     "134c6e60e6514925bd28de0afd4febcf": {
      "model_module": "@jupyter-widgets/base",
      "model_module_version": "1.0.0",
      "model_name": "LayoutModel",
      "state": {}
     },
     "1402b913a0944722b8f4e6b88d84adaf": {
      "model_module": "@jupyter-widgets/controls",
      "model_module_version": "1.0.0",
      "model_name": "TextModel",
      "state": {
       "description": "Text",
       "layout": "IPY_MODEL_129b98688ca2435baa27a06aefb65d2d",
       "style": "IPY_MODEL_558e41b472d64ccf86b87a01da98cf0e",
       "value": "Type here!"
      }
     },
     "14689ea780c8427b966331fa0f466d54": {
      "model_module": "@jupyter-widgets/base",
      "model_module_version": "1.0.0",
      "model_name": "LayoutModel",
      "state": {}
     },
     "17294332669c4a168c8f675ed5cf17b8": {
      "model_module": "@jupyter-widgets/base",
      "model_module_version": "1.0.0",
      "model_name": "LayoutModel",
      "state": {}
     },
     "17654436aa864337b30e62be46fd27df": {
      "model_module": "@jupyter-widgets/controls",
      "model_module_version": "1.0.0",
      "model_name": "IntSliderModel",
      "state": {
       "description": "Range 2",
       "layout": "IPY_MODEL_bfb8d234b5e546fb81a3274ddd9d680c",
       "style": "IPY_MODEL_d4e705cfa66d44adbb35b9785b0e3172",
       "value": 40
      }
     },
     "17ddfa7a8211436696f7cfc7c251730d": {
      "model_module": "@jupyter-widgets/base",
      "model_module_version": "1.0.0",
      "model_name": "LayoutModel",
      "state": {}
     },
     "1835435e51754fcf86b87fbad834610e": {
      "model_module": "@jupyter-widgets/controls",
      "model_module_version": "1.0.0",
      "model_name": "VBoxModel",
      "state": {
       "_dom_classes": [
        "widget-interact"
       ],
       "children": [
        "IPY_MODEL_37e7b28a6a5a4d0c96c0ef647cf80b21",
        "IPY_MODEL_fd5598159e9b4fdd9f548ca05c6ba1bb"
       ],
       "layout": "IPY_MODEL_af1cd9c0a54c4ec08455a11a6f1de28d"
      }
     },
     "1847b8eb5795401ca761af37de7dba5f": {
      "model_module": "@jupyter-widgets/output",
      "model_module_version": "1.0.0",
      "model_name": "OutputModel",
      "state": {
       "layout": "IPY_MODEL_4ffa2bf52c97417db89d3e5ca8a2e1df",
       "outputs": [
        {
         "data": {
          "text/plain": "(1, 20)"
         },
         "metadata": {},
         "output_type": "display_data"
        }
       ]
      }
     },
     "1855a3b0c6c64d4fb82d8abc74d5ecd2": {
      "model_module": "@jupyter-widgets/controls",
      "model_module_version": "1.0.0",
      "model_name": "DescriptionStyleModel",
      "state": {
       "description_width": ""
      }
     },
     "188daf455b174804977b0e94c9bf68e7": {
      "model_module": "@jupyter-widgets/controls",
      "model_module_version": "1.0.0",
      "model_name": "SliderStyleModel",
      "state": {
       "description_width": ""
      }
     },
     "18cf970b6fff4e4da7f30da435cee2b3": {
      "model_module": "@jupyter-widgets/controls",
      "model_module_version": "1.0.0",
      "model_name": "HBoxModel",
      "state": {
       "layout": "IPY_MODEL_4a9db187c76044708c85c8628196e31e"
      }
     },
     "18fa8e28ffc84d93aa47dfb26477b698": {
      "model_module": "@jupyter-widgets/base",
      "model_module_version": "1.0.0",
      "model_name": "LayoutModel",
      "state": {}
     },
     "196d79eda71c42d1acbbea9e7ce46eb2": {
      "model_module": "@jupyter-widgets/controls",
      "model_module_version": "1.0.0",
      "model_name": "FloatSliderModel",
      "state": {
       "description": "f",
       "layout": "IPY_MODEL_5ce86ec18f9e474783bcb62ac1d5485c",
       "max": 10,
       "min": 1,
       "step": 0.1,
       "style": "IPY_MODEL_6ab60d96aa4544728089f8d3065714aa",
       "value": 5
      }
     },
     "199c4f98dd904453ba694918655329e3": {
      "model_module": "@jupyter-widgets/base",
      "model_module_version": "1.0.0",
      "model_name": "LayoutModel",
      "state": {}
     },
     "19ccb9c202b141a2bd74e201a1398eba": {
      "model_module": "@jupyter-widgets/controls",
      "model_module_version": "1.0.0",
      "model_name": "SliderStyleModel",
      "state": {
       "description_width": ""
      }
     },
     "19d022b125c94c5b935fe993e5ba4161": {
      "model_module": "@jupyter-widgets/controls",
      "model_module_version": "1.0.0",
      "model_name": "DescriptionStyleModel",
      "state": {
       "description_width": ""
      }
     },
     "1c0fd3c84ed6471c9e58a8c9247b415c": {
      "model_module": "@jupyter-widgets/output",
      "model_module_version": "1.0.0",
      "model_name": "OutputModel",
      "state": {
       "layout": "IPY_MODEL_d66dcc73496841da8d8665b05f00d223",
       "outputs": [
        {
         "data": {
          "text/plain": "1"
         },
         "metadata": {},
         "output_type": "display_data"
        }
       ]
      }
     },
     "1ca047e9106b4cf380f7eb4b12abac5b": {
      "model_module": "@jupyter-widgets/controls",
      "model_module_version": "1.0.0",
      "model_name": "TextModel",
      "state": {
       "layout": "IPY_MODEL_99ca857e407c4a8fa56c3fbf4c0adb28",
       "style": "IPY_MODEL_cb4e2504c8de47ad935fc2cc6057d59e",
       "value": "sah dude"
      }
     },
     "1cff741b586944edb3248322099935c1": {
      "model_module": "@jupyter-widgets/base",
      "model_module_version": "1.0.0",
      "model_name": "LayoutModel",
      "state": {}
     },
     "1d4fb44eae8b43a383e30ef4cac2c7fe": {
      "model_module": "@jupyter-widgets/controls",
      "model_module_version": "1.0.0",
      "model_name": "DescriptionStyleModel",
      "state": {
       "description_width": ""
      }
     },
     "1e1d74103c1749979524fe465c7d80bc": {
      "model_module": "@jupyter-widgets/base",
      "model_module_version": "1.0.0",
      "model_name": "LayoutModel",
      "state": {}
     },
     "1e3edea85be74b068a153f379cb4cc2e": {
      "model_module": "@jupyter-widgets/controls",
      "model_module_version": "1.0.0",
      "model_name": "DescriptionStyleModel",
      "state": {
       "description_width": ""
      }
     },
     "1e8bf0f6bcaa452caf6d606c36bc07d1": {
      "model_module": "@jupyter-widgets/base",
      "model_module_version": "1.0.0",
      "model_name": "LayoutModel",
      "state": {}
     },
     "1ebba8e71bcf470c8781ec494d68f47e": {
      "model_module": "@jupyter-widgets/base",
      "model_module_version": "1.0.0",
      "model_name": "LayoutModel",
      "state": {}
     },
     "1ec95756d6e34666adbe6dd321ca055c": {
      "model_module": "@jupyter-widgets/base",
      "model_module_version": "1.0.0",
      "model_name": "LayoutModel",
      "state": {}
     },
     "1f434bd175c14922abbf1e6fde2b2a5c": {
      "model_module": "@jupyter-widgets/controls",
      "model_module_version": "1.0.0",
      "model_name": "TextModel",
      "state": {
       "layout": "IPY_MODEL_382b0ee1186847c38af1655ffe129f58",
       "style": "IPY_MODEL_f415c641045c44ba8c38822bf9ae8509"
      }
     },
     "1fcea95c86af4546bf0741b254a108e5": {
      "model_module": "@jupyter-widgets/controls",
      "model_module_version": "1.0.0",
      "model_name": "IntSliderModel",
      "state": {
       "description": "x",
       "layout": "IPY_MODEL_c6a6b7cb3f0b429daeed03500195b5b0",
       "max": 30,
       "min": -10,
       "style": "IPY_MODEL_8ca2c59bd9b94a888bb011cea4633d3c",
       "value": 10
      }
     },
     "1ffd3f9ab4fd40cab07dd28bedfb6e7d": {
      "model_module": "@jupyter-widgets/base",
      "model_module_version": "1.0.0",
      "model_name": "LayoutModel",
      "state": {}
     },
     "204be3940e5e46e0862223496cbcb043": {
      "model_module": "@jupyter-widgets/base",
      "model_module_version": "1.0.0",
      "model_name": "LayoutModel",
      "state": {}
     },
     "20f2d778a82849c08ff4d05783fa799f": {
      "model_module": "@jupyter-widgets/controls",
      "model_module_version": "1.0.0",
      "model_name": "DescriptionStyleModel",
      "state": {
       "description_width": ""
      }
     },
     "22a28f694d5240ca9130e8cfd6b993db": {
      "model_module": "@jupyter-widgets/base",
      "model_module_version": "1.0.0",
      "model_name": "LayoutModel",
      "state": {}
     },
     "231bf12285db47eb9d92a7cc576fd8f4": {
      "model_module": "@jupyter-widgets/base",
      "model_module_version": "1.0.0",
      "model_name": "LayoutModel",
      "state": {}
     },
     "23994b759ab84e74ac043d09f0ed4d67": {
      "model_module": "@jupyter-widgets/controls",
      "model_module_version": "1.0.0",
      "model_name": "VBoxModel",
      "state": {
       "_dom_classes": [
        "widget-interact"
       ],
       "children": [
        "IPY_MODEL_6c34757a3fd445d2926172343d316e9c",
        "IPY_MODEL_a890cd21f0274f9f868217dd0f462062"
       ],
       "layout": "IPY_MODEL_70b0a52dc08d4ab99a8b6117941a1d38"
      }
     },
     "2434afdfd00b45bb9796a509599cf5bb": {
      "model_module": "@jupyter-widgets/base",
      "model_module_version": "1.0.0",
      "model_name": "LayoutModel",
      "state": {}
     },
     "2466cb49f5e44eae9b85b1a13548fb7e": {
      "model_module": "@jupyter-widgets/controls",
      "model_module_version": "1.0.0",
      "model_name": "SliderStyleModel",
      "state": {
       "description_width": ""
      }
     },
     "24e9f87134ff43c1918e9e3ff6caba6a": {
      "model_module": "@jupyter-widgets/controls",
      "model_module_version": "1.0.0",
      "model_name": "SliderStyleModel",
      "state": {
       "description_width": ""
      }
     },
     "24f108b108674a3baadd91e20cd61b09": {
      "model_module": "@jupyter-widgets/controls",
      "model_module_version": "1.0.0",
      "model_name": "SliderStyleModel",
      "state": {
       "description_width": ""
      }
     },
     "25d74d9bc1654fed803a323fdc5c4dc3": {
      "model_module": "@jupyter-widgets/controls",
      "model_module_version": "1.0.0",
      "model_name": "IntSliderModel",
      "state": {
       "description": "q",
       "layout": "IPY_MODEL_1e1d74103c1749979524fe465c7d80bc",
       "max": 60,
       "min": -20,
       "style": "IPY_MODEL_52029d5a116149c093a2f844508ad119",
       "value": 20
      }
     },
     "25e0bcf9de0247fa8ff16dd107380563": {
      "model_module": "@jupyter-widgets/controls",
      "model_module_version": "1.0.0",
      "model_name": "ButtonStyleModel",
      "state": {}
     },
     "25f26ad464bb4031b45f389bcbfbe3dc": {
      "model_module": "@jupyter-widgets/output",
      "model_module_version": "1.0.0",
      "model_name": "OutputModel",
      "state": {
       "layout": "IPY_MODEL_cccf405ead72442aa18392a766409ce2"
      }
     },
     "267d9483f54741038d41cf9a476e0cb4": {
      "model_module": "@jupyter-widgets/base",
      "model_module_version": "1.0.0",
      "model_name": "LayoutModel",
      "state": {}
     },
     "26c1f4e24c5b49f98dd5f86ecea3269b": {
      "model_module": "@jupyter-widgets/controls",
      "model_module_version": "1.0.0",
      "model_name": "FloatSliderModel",
      "state": {
       "continuous_update": false,
       "description": "Test:",
       "layout": "IPY_MODEL_394c47e9038648b19dd9f1566d6d84e4",
       "max": 10,
       "readout_format": ".1f",
       "step": 0.1,
       "style": "IPY_MODEL_aa02712e713440749ac004123d60317a",
       "value": 7.5
      }
     },
     "28a18228f2424d97b190758304c860b9": {
      "model_module": "@jupyter-widgets/base",
      "model_module_version": "1.0.0",
      "model_name": "LayoutModel",
      "state": {}
     },
     "29b3a2ffc96f43838a1b0c981ddd4084": {
      "model_module": "@jupyter-widgets/controls",
      "model_module_version": "1.0.0",
      "model_name": "LabelModel",
      "state": {
       "layout": "IPY_MODEL_10faffa453e84fcc9535b9b9309fcef5",
       "style": "IPY_MODEL_513f91a6fae943be8c59ff0a95c4bf7d",
       "value": "Ship size"
      }
     },
     "29bb417c666f4fc4b48fd4566dc37e15": {
      "model_module": "@jupyter-widgets/controls",
      "model_module_version": "1.0.0",
      "model_name": "IntSliderModel",
      "state": {
       "description": "x",
       "layout": "IPY_MODEL_22a28f694d5240ca9130e8cfd6b993db",
       "max": 30,
       "min": -10,
       "style": "IPY_MODEL_6eb6df2a33f14e668a9151cdcc2c63c7",
       "value": 30
      }
     },
     "29c6048c854348c3981f5e4ac7568ca4": {
      "model_module": "@jupyter-widgets/controls",
      "model_module_version": "1.0.0",
      "model_name": "DescriptionStyleModel",
      "state": {
       "description_width": ""
      }
     },
     "2a831f91a7d94d26ae15ad0791a9f5f1": {
      "model_module": "@jupyter-widgets/controls",
      "model_module_version": "1.0.0",
      "model_name": "VBoxModel",
      "state": {
       "_dom_classes": [
        "widget-interact"
       ],
       "children": [
        "IPY_MODEL_9438c490f46a4a7ab8ea53cb411bded0",
        "IPY_MODEL_121fcc020a514e79a42fdd4b5acc8d30",
        "IPY_MODEL_9f9e7a82e8704f178a388b831f98b8a0",
        "IPY_MODEL_7ce1ad3ea322489db22dbe84a8860c5a",
        "IPY_MODEL_c2bc2afb931846a69c1c157c6c5b6235",
        "IPY_MODEL_c837f6c3ad474f078a8c6006935bb724"
       ],
       "layout": "IPY_MODEL_12838a97e95f48628b59f9030783a42f"
      }
     },
     "2afac25a4bd04c24a20dfc79173de4af": {
      "model_module": "@jupyter-widgets/output",
      "model_module_version": "1.0.0",
      "model_name": "OutputModel",
      "state": {
       "layout": "IPY_MODEL_9b86795bb4fe4b608cb03da6b0da348d",
       "outputs": [
        {
         "name": "stdout",
         "output_type": "stream",
         "text": "MOW\n"
        }
       ]
      }
     },
     "2b5cbc425dd942c598295b235b217ede": {
      "model_module": "@jupyter-widgets/controls",
      "model_module_version": "1.0.0",
      "model_name": "LinkModel",
      "state": {
       "source": [
        "IPY_MODEL_af67a034707f47e7bd58d2286dc3b147",
        "value"
       ],
       "target": [
        "IPY_MODEL_4485912b385c4831abc7be8c7f0888e5",
        "value"
       ]
      }
     },
     "2bef4146838a40a0ad7b3c1406bc5966": {
      "model_module": "@jupyter-widgets/controls",
      "model_module_version": "1.0.0",
      "model_name": "TextModel",
      "state": {
       "layout": "IPY_MODEL_4abece3621144667bb5166ba8f0b7e57",
       "style": "IPY_MODEL_7c42f389abd44b6cb6cd2a8d7a47cd23",
       "value": "SAH DUDE"
      }
     },
     "2c92b192e3eb4eefb8691a4bb72dd275": {
      "model_module": "@jupyter-widgets/controls",
      "model_module_version": "1.0.0",
      "model_name": "DescriptionStyleModel",
      "state": {
       "description_width": ""
      }
     },
     "2d48744e1ffb458c80a4806ca47ced62": {
      "model_module": "@jupyter-widgets/controls",
      "model_module_version": "1.0.0",
      "model_name": "TextModel",
      "state": {
       "layout": "IPY_MODEL_c4ce1669787349908a93a8c3b8fc031c",
       "style": "IPY_MODEL_4950ef49ccda45aea2dfbee267972d67"
      }
     },
     "2e2383a7949e4ec2a2f69b8aacc50bed": {
      "model_module": "@jupyter-widgets/controls",
      "model_module_version": "1.0.0",
      "model_name": "HBoxModel",
      "state": {
       "layout": "IPY_MODEL_6e4d45772c6140c09ec9408c0d0c6277"
      }
     },
     "2e25fbb22f1648ad8987fdadaaec1957": {
      "model_module": "@jupyter-widgets/controls",
      "model_module_version": "1.0.0",
      "model_name": "TextModel",
      "state": {
       "layout": "IPY_MODEL_3c8a707699454590a807109465cf474f",
       "style": "IPY_MODEL_bd962e026b354cd6ab548d450afcc7d4"
      }
     },
     "2f3b16c3c5154ae98fc2a906586bd2a3": {
      "model_module": "@jupyter-widgets/controls",
      "model_module_version": "1.0.0",
      "model_name": "SelectModel",
      "state": {
       "_options_labels": [
        "MOW",
        "LED"
       ],
       "description": "city",
       "index": 0,
       "layout": "IPY_MODEL_1ec95756d6e34666adbe6dd321ca055c",
       "style": "IPY_MODEL_6ab1ead14dce47a1adb70b2d8db0dd61"
      }
     },
     "2f700e416e1a41ef93dae733ab8faf34": {
      "model_module": "@jupyter-widgets/base",
      "model_module_version": "1.0.0",
      "model_name": "LayoutModel",
      "state": {}
     },
     "2fa6a59e49f74f2f8ef7ed434ae4b34b": {
      "model_module": "@jupyter-widgets/base",
      "model_module_version": "1.0.0",
      "model_name": "LayoutModel",
      "state": {}
     },
     "304bb27164e3424e834736abadfede0e": {
      "model_module": "@jupyter-widgets/base",
      "model_module_version": "1.0.0",
      "model_name": "LayoutModel",
      "state": {}
     },
     "3073634bcc4845ae978677b8056c7a7a": {
      "model_module": "@jupyter-widgets/base",
      "model_module_version": "1.0.0",
      "model_name": "LayoutModel",
      "state": {}
     },
     "30a6a7eb750c42b4a2c387d9613e63fa": {
      "model_module": "@jupyter-widgets/controls",
      "model_module_version": "1.0.0",
      "model_name": "BoxModel",
      "state": {
       "children": [
        "IPY_MODEL_456e0049db1740f9aa1561c5591400ce",
        "IPY_MODEL_a6e128de29924a25b8b2b6237aae4f18"
       ],
       "layout": "IPY_MODEL_39b759f5855c4ee5ab4ec2069eb45f51"
      }
     },
     "31295d183c8f4796b0ca0e3f6e099eaf": {
      "model_module": "@jupyter-widgets/base",
      "model_module_version": "1.0.0",
      "model_name": "LayoutModel",
      "state": {}
     },
     "315760b17af34b1b9ae1993e4401b273": {
      "model_module": "@jupyter-widgets/controls",
      "model_module_version": "1.0.0",
      "model_name": "TextModel",
      "state": {
       "layout": "IPY_MODEL_ebd3d7cf76834bd6a74c7c33948f985f",
       "style": "IPY_MODEL_63c6a53eef3a4ebfafbb8c8bedd9cfc1"
      }
     },
     "31cea6e5781449f59454d455266685bd": {
      "model_module": "@jupyter-widgets/controls",
      "model_module_version": "1.0.0",
      "model_name": "DescriptionStyleModel",
      "state": {
       "description_width": ""
      }
     },
     "32f53df9930d44958817aca085fb84b6": {
      "model_module": "@jupyter-widgets/controls",
      "model_module_version": "1.0.0",
      "model_name": "FloatSliderModel",
      "state": {
       "continuous_update": false,
       "description": "Test:",
       "layout": "IPY_MODEL_43a2a3f01db34ae6a8a1f573ed8d6f0c",
       "max": 10,
       "readout_format": ".1f",
       "step": 0.1,
       "style": "IPY_MODEL_b8447288cc414e63a4e06d3152204c73",
       "value": 7.5
      }
     },
     "339ad8b609c649d383da8a49740927c0": {
      "model_module": "@jupyter-widgets/controls",
      "model_module_version": "1.0.0",
      "model_name": "CheckboxModel",
      "state": {
       "description": "z",
       "disabled": false,
       "layout": "IPY_MODEL_81665aa1a7e44d5cbc36ed4a9f694510",
       "style": "IPY_MODEL_0d74cc05bb6f43a8929c39f66cfe83c1",
       "value": true
      }
     },
     "33c829a7ddad4eb1a29db773fd6f6176": {
      "model_module": "@jupyter-widgets/output",
      "model_module_version": "1.0.0",
      "model_name": "OutputModel",
      "state": {
       "layout": "IPY_MODEL_5dc93735b391470c8e1c11afd0351636",
       "outputs": [
        {
         "name": "stdout",
         "output_type": "stream",
         "text": "CHI\n"
        }
       ]
      }
     },
     "34050f8cad1c4c55909eb87084d163a5": {
      "model_module": "@jupyter-widgets/controls",
      "model_module_version": "1.0.0",
      "model_name": "DescriptionStyleModel",
      "state": {
       "description_width": ""
      }
     },
     "34919dd2421741ef949bc0c78889b399": {
      "model_module": "@jupyter-widgets/base",
      "model_module_version": "1.0.0",
      "model_name": "LayoutModel",
      "state": {}
     },
     "34aaf316929245b58e28c2959514a639": {
      "model_module": "@jupyter-widgets/base",
      "model_module_version": "1.0.0",
      "model_name": "LayoutModel",
      "state": {}
     },
     "355862f986e147efb3e8d5f90768b407": {
      "model_module": "@jupyter-widgets/controls",
      "model_module_version": "1.0.0",
      "model_name": "SliderStyleModel",
      "state": {
       "description_width": ""
      }
     },
     "35697fa52f9f42d79175dcf38097fe89": {
      "model_module": "@jupyter-widgets/base",
      "model_module_version": "1.0.0",
      "model_name": "LayoutModel",
      "state": {}
     },
     "35d9442a6a7b488bbbed8696b2539327": {
      "model_module": "@jupyter-widgets/output",
      "model_module_version": "1.0.0",
      "model_name": "OutputModel",
      "state": {
       "layout": "IPY_MODEL_cc351f909db64c50bf4ece3af41e1ac0",
       "outputs": [
        {
         "data": {
          "text/plain": "(5, 20)"
         },
         "metadata": {},
         "output_type": "display_data"
        }
       ]
      }
     },
     "3612235cd4ea4c6798cebe0913ad13b0": {
      "model_module": "@jupyter-widgets/output",
      "model_module_version": "1.0.0",
      "model_name": "OutputModel",
      "state": {
       "layout": "IPY_MODEL_123c35c7d3e7437d939270b890f9e71f",
       "outputs": [
        {
         "data": {
          "text/plain": "65"
         },
         "metadata": {},
         "output_type": "display_data"
        }
       ]
      }
     },
     "36190685e17549ddb21ee0305506d8c9": {
      "model_module": "@jupyter-widgets/base",
      "model_module_version": "1.0.0",
      "model_name": "LayoutModel",
      "state": {}
     },
     "36b9c0900e344861b56962f25b6279f6": {
      "model_module": "@jupyter-widgets/output",
      "model_module_version": "1.0.0",
      "model_name": "OutputModel",
      "state": {
       "layout": "IPY_MODEL_ca0ab6abea7e40369449b4caa62d11c6",
       "outputs": [
        {
         "ename": "TypeError",
         "evalue": "only length-1 arrays can be converted to Python scalars",
         "output_type": "error",
         "traceback": [
          "\u001b[0;31m---------------------------------------------------------------------------\u001b[0m",
          "\u001b[0;31mTypeError\u001b[0m                                 Traceback (most recent call last)",
          "\u001b[0;32m/anaconda3/lib/python3.6/site-packages/ipywidgets/widgets/interaction.py\u001b[0m in \u001b[0;36mupdate\u001b[0;34m(self, *args)\u001b[0m\n\u001b[1;32m    248\u001b[0m                     \u001b[0mvalue\u001b[0m \u001b[0;34m=\u001b[0m \u001b[0mwidget\u001b[0m\u001b[0;34m.\u001b[0m\u001b[0mget_interact_value\u001b[0m\u001b[0;34m(\u001b[0m\u001b[0;34m)\u001b[0m\u001b[0;34m\u001b[0m\u001b[0m\n\u001b[1;32m    249\u001b[0m                     \u001b[0mself\u001b[0m\u001b[0;34m.\u001b[0m\u001b[0mkwargs\u001b[0m\u001b[0;34m[\u001b[0m\u001b[0mwidget\u001b[0m\u001b[0;34m.\u001b[0m\u001b[0m_kwarg\u001b[0m\u001b[0;34m]\u001b[0m \u001b[0;34m=\u001b[0m \u001b[0mvalue\u001b[0m\u001b[0;34m\u001b[0m\u001b[0m\n\u001b[0;32m--> 250\u001b[0;31m                 \u001b[0mself\u001b[0m\u001b[0;34m.\u001b[0m\u001b[0mresult\u001b[0m \u001b[0;34m=\u001b[0m \u001b[0mself\u001b[0m\u001b[0;34m.\u001b[0m\u001b[0mf\u001b[0m\u001b[0;34m(\u001b[0m\u001b[0;34m**\u001b[0m\u001b[0mself\u001b[0m\u001b[0;34m.\u001b[0m\u001b[0mkwargs\u001b[0m\u001b[0;34m)\u001b[0m\u001b[0;34m\u001b[0m\u001b[0m\n\u001b[0m\u001b[1;32m    251\u001b[0m                 \u001b[0mshow_inline_matplotlib_plots\u001b[0m\u001b[0;34m(\u001b[0m\u001b[0;34m)\u001b[0m\u001b[0;34m\u001b[0m\u001b[0m\n\u001b[1;32m    252\u001b[0m                 \u001b[0;32mif\u001b[0m \u001b[0mself\u001b[0m\u001b[0;34m.\u001b[0m\u001b[0mauto_display\u001b[0m \u001b[0;32mand\u001b[0m \u001b[0mself\u001b[0m\u001b[0;34m.\u001b[0m\u001b[0mresult\u001b[0m \u001b[0;32mis\u001b[0m \u001b[0;32mnot\u001b[0m \u001b[0;32mNone\u001b[0m\u001b[0;34m:\u001b[0m\u001b[0;34m\u001b[0m\u001b[0m\n",
          "\u001b[0;32m<ipython-input-48-1219ad966e48>\u001b[0m in \u001b[0;36mpltsin\u001b[0;34m(f)\u001b[0m\n\u001b[1;32m      4\u001b[0m \u001b[0;34m\u001b[0m\u001b[0m\n\u001b[1;32m      5\u001b[0m \u001b[0;32mdef\u001b[0m \u001b[0mpltsin\u001b[0m\u001b[0;34m(\u001b[0m\u001b[0mf\u001b[0m\u001b[0;34m)\u001b[0m\u001b[0;34m:\u001b[0m\u001b[0;34m\u001b[0m\u001b[0m\n\u001b[0;32m----> 6\u001b[0;31m     \u001b[0mplt\u001b[0m\u001b[0;34m.\u001b[0m\u001b[0mplot\u001b[0m\u001b[0;34m(\u001b[0m\u001b[0mx\u001b[0m\u001b[0;34m,\u001b[0m\u001b[0msin\u001b[0m\u001b[0;34m(\u001b[0m\u001b[0;36m2\u001b[0m\u001b[0;34m*\u001b[0m\u001b[0mpi\u001b[0m\u001b[0;34m*\u001b[0m\u001b[0mt\u001b[0m\u001b[0;34m*\u001b[0m\u001b[0mf\u001b[0m\u001b[0;34m)\u001b[0m\u001b[0;34m)\u001b[0m\u001b[0;34m\u001b[0m\u001b[0m\n\u001b[0m\u001b[1;32m      7\u001b[0m     \u001b[0mplt\u001b[0m\u001b[0;34m.\u001b[0m\u001b[0mshow\u001b[0m\u001b[0;34m(\u001b[0m\u001b[0;34m)\u001b[0m\u001b[0;34m\u001b[0m\u001b[0m\n\u001b[1;32m      8\u001b[0m \u001b[0;34m\u001b[0m\u001b[0m\n",
          "\u001b[0;31mTypeError\u001b[0m: only length-1 arrays can be converted to Python scalars"
         ]
        }
       ]
      }
     },
     "36f4eb1c54e44354a263b0e0bceb25a3": {
      "model_module": "@jupyter-widgets/base",
      "model_module_version": "1.0.0",
      "model_name": "LayoutModel",
      "state": {}
     },
     "37e7b28a6a5a4d0c96c0ef647cf80b21": {
      "model_module": "@jupyter-widgets/controls",
      "model_module_version": "1.0.0",
      "model_name": "IntSliderModel",
      "state": {
       "description": "Range 1",
       "layout": "IPY_MODEL_bbde6cf72d0b4c5da39192cfd87351c3",
       "style": "IPY_MODEL_beff1a3e8c5c49b2964f45ec55b1af1e",
       "value": 46
      }
     },
     "382b0ee1186847c38af1655ffe129f58": {
      "model_module": "@jupyter-widgets/base",
      "model_module_version": "1.0.0",
      "model_name": "LayoutModel",
      "state": {}
     },
     "384c0029e72f4ad184a94d4ca7f63e18": {
      "model_module": "@jupyter-widgets/controls",
      "model_module_version": "1.0.0",
      "model_name": "SliderStyleModel",
      "state": {
       "description_width": ""
      }
     },
     "386154e98b24470a911c52d61593c8bf": {
      "model_module": "@jupyter-widgets/controls",
      "model_module_version": "1.0.0",
      "model_name": "IntSliderModel",
      "state": {
       "layout": "IPY_MODEL_50e1e38445694a1c8eff7af1ee8684d2",
       "max": 60,
       "min": 40,
       "style": "IPY_MODEL_19ccb9c202b141a2bd74e201a1398eba",
       "value": 48
      }
     },
     "38a3c1f3db1a44c3b13fbb56154246d7": {
      "model_module": "@jupyter-widgets/controls",
      "model_module_version": "1.0.0",
      "model_name": "LinkModel",
      "state": {
       "source": [
        "IPY_MODEL_af67a034707f47e7bd58d2286dc3b147",
        "value"
       ],
       "target": [
        "IPY_MODEL_67e061d03a6944e6b16dcb5e79f2af19",
        "value"
       ]
      }
     },
     "3925c7ad906948e1a73ddfd82dc5a682": {
      "model_module": "@jupyter-widgets/controls",
      "model_module_version": "1.0.0",
      "model_name": "FloatTextModel",
      "state": {
       "layout": "IPY_MODEL_90b90891c65c4d3f92afc5a4fb8b7daa",
       "step": null,
       "style": "IPY_MODEL_29c6048c854348c3981f5e4ac7568ca4",
       "value": 30
      }
     },
     "394b5583c77d4f7e940266f5d97f8a36": {
      "model_module": "@jupyter-widgets/controls",
      "model_module_version": "1.0.0",
      "model_name": "IntSliderModel",
      "state": {
       "description": "range1",
       "layout": "IPY_MODEL_28a18228f2424d97b190758304c860b9",
       "max": 1,
       "style": "IPY_MODEL_7252cea56bb243d09955c829074944ec"
      }
     },
     "394c47e9038648b19dd9f1566d6d84e4": {
      "model_module": "@jupyter-widgets/base",
      "model_module_version": "1.0.0",
      "model_name": "LayoutModel",
      "state": {}
     },
     "39999c86b1374c42b97b598ca0edd306": {
      "model_module": "@jupyter-widgets/base",
      "model_module_version": "1.0.0",
      "model_name": "LayoutModel",
      "state": {}
     },
     "399f67be674945628da9a3ad080e5d81": {
      "model_module": "@jupyter-widgets/controls",
      "model_module_version": "1.0.0",
      "model_name": "SliderStyleModel",
      "state": {
       "description_width": ""
      }
     },
     "39b759f5855c4ee5ab4ec2069eb45f51": {
      "model_module": "@jupyter-widgets/base",
      "model_module_version": "1.0.0",
      "model_name": "LayoutModel",
      "state": {
       "display": "flex",
       "flex_flow": "row",
       "justify_content": "space-between"
      }
     },
     "39c789788271401e85de3202e31260f0": {
      "model_module": "@jupyter-widgets/controls",
      "model_module_version": "1.0.0",
      "model_name": "FloatSliderModel",
      "state": {
       "description": "i",
       "layout": "IPY_MODEL_da3d852ddd934b419bea3f1e3d52c8d8",
       "max": 10000000,
       "min": 100000,
       "step": 100000,
       "style": "IPY_MODEL_399f67be674945628da9a3ad080e5d81",
       "value": 3500000
      }
     },
     "39fe57dd837941e6a21f50d81545d6e4": {
      "model_module": "@jupyter-widgets/controls",
      "model_module_version": "1.0.0",
      "model_name": "IntSliderModel",
      "state": {
       "description": "Range 2",
       "layout": "IPY_MODEL_18fa8e28ffc84d93aa47dfb26477b698",
       "style": "IPY_MODEL_10327d93f5a8447eb30c5d023b407ed0"
      }
     },
     "3a108c20a3bd4ad8afbff37aa8fedf85": {
      "model_module": "@jupyter-widgets/controls",
      "model_module_version": "1.0.0",
      "model_name": "TextareaModel",
      "state": {
       "layout": "IPY_MODEL_204be3940e5e46e0862223496cbcb043",
       "style": "IPY_MODEL_b6965f79af5642f2acb489a72277a0b1"
      }
     },
     "3adcba69eaad49f1be9bb06700af28fc": {
      "model_module": "@jupyter-widgets/controls",
      "model_module_version": "1.0.0",
      "model_name": "VBoxModel",
      "state": {
       "_dom_classes": [
        "widget-interact"
       ],
       "children": [
        "IPY_MODEL_5f300fa3a9084c59b47f8e00c55cce7c",
        "IPY_MODEL_dd6f7af3419d4376836bd545be19de40"
       ],
       "layout": "IPY_MODEL_d8429c0653b5442eb4162166f4597963"
      }
     },
     "3b5416a5dc304215b6bbf7bb4d14ccef": {
      "model_module": "@jupyter-widgets/controls",
      "model_module_version": "1.0.0",
      "model_name": "SelectModel",
      "state": {
       "_options_labels": [
        "CHI",
        "NYC"
       ],
       "description": "city",
       "index": 0,
       "layout": "IPY_MODEL_9f60975822444ef99f1696e6ca1fbe7d",
       "style": "IPY_MODEL_aa8fb7b6a44d43379a0e310625535a17"
      }
     },
     "3bceee0145e14390a44bea1bea2aecda": {
      "model_module": "@jupyter-widgets/base",
      "model_module_version": "1.0.0",
      "model_name": "LayoutModel",
      "state": {}
     },
     "3c54c0f9313945d1bc232da7083b32af": {
      "model_module": "@jupyter-widgets/controls",
      "model_module_version": "1.0.0",
      "model_name": "DescriptionStyleModel",
      "state": {
       "description_width": ""
      }
     },
     "3c8a707699454590a807109465cf474f": {
      "model_module": "@jupyter-widgets/base",
      "model_module_version": "1.0.0",
      "model_name": "LayoutModel",
      "state": {}
     },
     "3c8b96a2da8d491c99862ed7715ab52b": {
      "model_module": "@jupyter-widgets/controls",
      "model_module_version": "1.0.0",
      "model_name": "DescriptionStyleModel",
      "state": {
       "description_width": ""
      }
     },
     "3d0e8b444cb44048a0728f7ccf9e6154": {
      "model_module": "@jupyter-widgets/controls",
      "model_module_version": "1.0.0",
      "model_name": "VBoxModel",
      "state": {
       "_dom_classes": [
        "widget-interact"
       ],
       "children": [
        "IPY_MODEL_e853b7773f0b4d56a1137caaef2aa191",
        "IPY_MODEL_3e6343b6dfb440b1bd599aee020fe110",
        "IPY_MODEL_339ad8b609c649d383da8a49740927c0",
        "IPY_MODEL_1402b913a0944722b8f4e6b88d84adaf",
        "IPY_MODEL_9050250b2e9b447aa62441c9d0365122",
        "IPY_MODEL_aa2f99e0dbee46bda1d88c5af1aa2dc1"
       ],
       "layout": "IPY_MODEL_90d4d21015ba40ba8f8c4c981bbe14e3"
      }
     },
     "3e6343b6dfb440b1bd599aee020fe110": {
      "model_module": "@jupyter-widgets/controls",
      "model_module_version": "1.0.0",
      "model_name": "FloatSliderModel",
      "state": {
       "description": "Current",
       "layout": "IPY_MODEL_e1b93132719c4bef860f93e08637910b",
       "max": 10,
       "step": 0.01,
       "style": "IPY_MODEL_b444954dc0234d15aaa1b70d34b8d608",
       "value": 2.7
      }
     },
     "3eaec9d06bfc4c32aea4bedb1bc0a170": {
      "model_module": "@jupyter-widgets/output",
      "model_module_version": "1.0.0",
      "model_name": "OutputModel",
      "state": {
       "layout": "IPY_MODEL_b59288fc4ee94b79bdc5b676daeb1848",
       "outputs": [
        {
         "name": "stdout",
         "output_type": "stream",
         "text": "2400000 [0, 1, 2, 3, 11, 22, 101, 111, 121, 202, 212, 1001, 1111, 2002, 10001, 10101, 10201, 11011, 11111, 11211, 20002, 20102, 100001, 101101, 110011, 111111, 200002, 1000001, 1001001, 1002001, 1010101, 1011101, 1012101, 1100011, 1101011, 1102011, 1110111, 1111111, 2000002, 2001002]\n"
        }
       ]
      }
     },
     "3f1ece3dd0cc48a18e91e880e36f85d0": {
      "model_module": "@jupyter-widgets/controls",
      "model_module_version": "1.0.0",
      "model_name": "LabelModel",
      "state": {
       "layout": "IPY_MODEL_d18b2f6b179b451eb7eaa53ce0e47b3a",
       "style": "IPY_MODEL_cb5c631d59b24b858a4c3f27a7802a4e",
       "value": "The values of range1 and range2 are synchronized"
      }
     },
     "3fd4e71670674529bd79fc57cc55a717": {
      "model_module": "@jupyter-widgets/output",
      "model_module_version": "1.0.0",
      "model_name": "OutputModel",
      "state": {
       "layout": "IPY_MODEL_52a6eebe89eb4bb390c2a71dc30bc750"
      }
     },
     "403773a601904538890bd4be5bc87a96": {
      "model_module": "@jupyter-widgets/base",
      "model_module_version": "1.0.0",
      "model_name": "LayoutModel",
      "state": {}
     },
     "40463f14cfc844228bf02716b11724a0": {
      "model_module": "@jupyter-widgets/base",
      "model_module_version": "1.0.0",
      "model_name": "LayoutModel",
      "state": {}
     },
     "40fdafe5025e47819ae6503f0a8bd3a2": {
      "model_module": "@jupyter-widgets/base",
      "model_module_version": "1.0.0",
      "model_name": "LayoutModel",
      "state": {}
     },
     "421d7e2c2bc145908b854b4e1b514f52": {
      "model_module": "@jupyter-widgets/base",
      "model_module_version": "1.0.0",
      "model_name": "LayoutModel",
      "state": {}
     },
     "42af5d75b289472aa43e1fdc50195873": {
      "model_module": "@jupyter-widgets/controls",
      "model_module_version": "1.0.0",
      "model_name": "LabelModel",
      "state": {
       "layout": "IPY_MODEL_787939acbf1a4c23a71a8ee6b1a4563c",
       "style": "IPY_MODEL_967d733e438c4e83ab17860c424ed055",
       "value": "The values of range1 and range2 are synchronized"
      }
     },
     "42b9eb594f0f49098b45431357b1ff23": {
      "model_module": "@jupyter-widgets/controls",
      "model_module_version": "1.0.0",
      "model_name": "LabelModel",
      "state": {
       "layout": "IPY_MODEL_0624fc8f923644cbadccd2fb85e7eb78",
       "style": "IPY_MODEL_2c92b192e3eb4eefb8691a4bb72dd275",
       "value": "Ship size"
      }
     },
     "431e7caa13ba4ebcade1efadac28aa6a": {
      "model_module": "@jupyter-widgets/controls",
      "model_module_version": "1.0.0",
      "model_name": "DescriptionStyleModel",
      "state": {
       "description_width": ""
      }
     },
     "43a2a3f01db34ae6a8a1f573ed8d6f0c": {
      "model_module": "@jupyter-widgets/base",
      "model_module_version": "1.0.0",
      "model_name": "LayoutModel",
      "state": {}
     },
     "440dfd66500447829d1f6b066d632f57": {
      "model_module": "@jupyter-widgets/controls",
      "model_module_version": "1.0.0",
      "model_name": "SliderStyleModel",
      "state": {
       "description_width": ""
      }
     },
     "44250d5a7a0440b895643671b4e9c141": {
      "model_module": "@jupyter-widgets/controls",
      "model_module_version": "1.0.0",
      "model_name": "LinkModel",
      "state": {
       "source": [
        "IPY_MODEL_af67a034707f47e7bd58d2286dc3b147",
        "value"
       ],
       "target": [
        "IPY_MODEL_043badebc2864a4a928ea05e0d66c53c",
        "value"
       ]
      }
     },
     "442bd64d33f8456eb5336f0c63e32ed5": {
      "model_module": "@jupyter-widgets/base",
      "model_module_version": "1.0.0",
      "model_name": "LayoutModel",
      "state": {}
     },
     "444fa70cac7749a5bb53bf9314071ba6": {
      "model_module": "@jupyter-widgets/base",
      "model_module_version": "1.0.0",
      "model_name": "LayoutModel",
      "state": {}
     },
     "4485912b385c4831abc7be8c7f0888e5": {
      "model_module": "@jupyter-widgets/controls",
      "model_module_version": "1.0.0",
      "model_name": "IntSliderModel",
      "state": {
       "description": "Range 2",
       "layout": "IPY_MODEL_9dd16d5fda6745069d67b44239749322",
       "style": "IPY_MODEL_e0665599985543e996c1d05183dacd9b",
       "value": 25
      }
     },
     "44a3356d65fb45509984302c62a03300": {
      "model_module": "@jupyter-widgets/controls",
      "model_module_version": "1.0.0",
      "model_name": "SliderStyleModel",
      "state": {
       "description_width": ""
      }
     },
     "44eca7e579b847ddadd9803aef731cbd": {
      "model_module": "@jupyter-widgets/controls",
      "model_module_version": "1.0.0",
      "model_name": "DescriptionStyleModel",
      "state": {
       "description_width": ""
      }
     },
     "4530ea0867fa4af1b3901b8336f11699": {
      "model_module": "@jupyter-widgets/controls",
      "model_module_version": "1.0.0",
      "model_name": "IntSliderModel",
      "state": {
       "continuous_update": false,
       "description": "Test:",
       "layout": "IPY_MODEL_0a740dae07324eadbebca85ef455f0c6",
       "max": 10,
       "style": "IPY_MODEL_68ef5082cd134546b8d676de9a1d7528",
       "value": 7
      }
     },
     "456e0049db1740f9aa1561c5591400ce": {
      "model_module": "@jupyter-widgets/controls",
      "model_module_version": "1.0.0",
      "model_name": "LabelModel",
      "state": {
       "layout": "IPY_MODEL_b5e49bf41bf84a1ca81582b9c66d2e64",
       "style": "IPY_MODEL_ff8c73f126f848fd945b996f2fb98f92",
       "value": "Egg style"
      }
     },
     "45e0db2d322b4da79f187b37855e9380": {
      "model_module": "@jupyter-widgets/base",
      "model_module_version": "1.0.0",
      "model_name": "LayoutModel",
      "state": {}
     },
     "4711346c7e4b453c87d8e554d8258c60": {
      "model_module": "@jupyter-widgets/base",
      "model_module_version": "1.0.0",
      "model_name": "LayoutModel",
      "state": {}
     },
     "47148bbba2184e69bfe89d6fad2c3342": {
      "model_module": "@jupyter-widgets/controls",
      "model_module_version": "1.0.0",
      "model_name": "SliderStyleModel",
      "state": {
       "description_width": ""
      }
     },
     "4824714557d74898882579b4ccb11bc5": {
      "model_module": "@jupyter-widgets/controls",
      "model_module_version": "1.0.0",
      "model_name": "SliderStyleModel",
      "state": {
       "description_width": ""
      }
     },
     "4843395f8ab949568336a796df40c31b": {
      "model_module": "@jupyter-widgets/base",
      "model_module_version": "1.0.0",
      "model_name": "LayoutModel",
      "state": {}
     },
     "487a73234d2a4352a5943dd90d9ff4f9": {
      "model_module": "@jupyter-widgets/controls",
      "model_module_version": "1.0.0",
      "model_name": "SliderStyleModel",
      "state": {
       "description_width": ""
      }
     },
     "4884b93da1854a6fb6c8a1df3fe4e085": {
      "model_module": "@jupyter-widgets/base",
      "model_module_version": "1.0.0",
      "model_name": "LayoutModel",
      "state": {}
     },
     "4887b304f04b450a835c447904f9b880": {
      "model_module": "@jupyter-widgets/controls",
      "model_module_version": "1.0.0",
      "model_name": "IntSliderModel",
      "state": {
       "description": "Slider 1",
       "layout": "IPY_MODEL_6afdeb9460344cc1aaa386512e80eac2",
       "style": "IPY_MODEL_f904f5918ead4be6802ce0c0dea78fe9",
       "value": 12
      }
     },
     "489fe5814a634fe9ba77c6c899ee1841": {
      "model_module": "@jupyter-widgets/base",
      "model_module_version": "1.0.0",
      "model_name": "LayoutModel",
      "state": {}
     },
     "494d5b4629b04adf9d465fa7391e238b": {
      "model_module": "@jupyter-widgets/controls",
      "model_module_version": "1.0.0",
      "model_name": "DescriptionStyleModel",
      "state": {
       "description_width": ""
      }
     },
     "4950ef49ccda45aea2dfbee267972d67": {
      "model_module": "@jupyter-widgets/controls",
      "model_module_version": "1.0.0",
      "model_name": "DescriptionStyleModel",
      "state": {
       "description_width": ""
      }
     },
     "496b00532a3d400c931fcced8abc9b54": {
      "model_module": "@jupyter-widgets/controls",
      "model_module_version": "1.0.0",
      "model_name": "BoxModel",
      "state": {
       "children": [
        "IPY_MODEL_c8189fe86e95414b8bf7b5901a93ba59",
        "IPY_MODEL_b4dbdf1097b448e2bbae6aa32e132616"
       ],
       "layout": "IPY_MODEL_84866268d68743fb97bb74d273e8467b"
      }
     },
     "49896c57958a463aab57c7dc8260abcc": {
      "model_module": "@jupyter-widgets/base",
      "model_module_version": "1.0.0",
      "model_name": "LayoutModel",
      "state": {}
     },
     "4a9a277d524449d7aec9855bfc07f253": {
      "model_module": "@jupyter-widgets/base",
      "model_module_version": "1.0.0",
      "model_name": "LayoutModel",
      "state": {}
     },
     "4a9cfe7e55664d70bdea5255c8beceb2": {
      "model_module": "@jupyter-widgets/base",
      "model_module_version": "1.0.0",
      "model_name": "LayoutModel",
      "state": {}
     },
     "4a9db187c76044708c85c8628196e31e": {
      "model_module": "@jupyter-widgets/base",
      "model_module_version": "1.0.0",
      "model_name": "LayoutModel",
      "state": {}
     },
     "4abece3621144667bb5166ba8f0b7e57": {
      "model_module": "@jupyter-widgets/base",
      "model_module_version": "1.0.0",
      "model_name": "LayoutModel",
      "state": {}
     },
     "4adbb2b746c148968709b909b58265db": {
      "model_module": "@jupyter-widgets/controls",
      "model_module_version": "1.0.0",
      "model_name": "BoxModel",
      "state": {
       "children": [
        "IPY_MODEL_cf1befa388f046b38299ededf937c330",
        "IPY_MODEL_3a108c20a3bd4ad8afbff37aa8fedf85"
       ],
       "layout": "IPY_MODEL_39b759f5855c4ee5ab4ec2069eb45f51"
      }
     },
     "4b762c2f724245e39c65671e1e56cc7b": {
      "model_module": "@jupyter-widgets/base",
      "model_module_version": "1.0.0",
      "model_name": "LayoutModel",
      "state": {}
     },
     "4be70a2e39ff4116a4bcb335321b5da7": {
      "model_module": "@jupyter-widgets/controls",
      "model_module_version": "1.0.0",
      "model_name": "IntSliderModel",
      "state": {
       "continuous_update": false,
       "description": "Tbest:",
       "layout": "IPY_MODEL_40463f14cfc844228bf02716b11724a0",
       "max": 10,
       "style": "IPY_MODEL_7e158d6c70dc45959f34dc10771dec58",
       "value": 7
      }
     },
     "4ce8a659c81c4989a3b138c41863155a": {
      "model_module": "@jupyter-widgets/controls",
      "model_module_version": "1.0.0",
      "model_name": "TextModel",
      "state": {
       "description": "Domain to ping",
       "layout": "IPY_MODEL_8513ad7d79134dcf973260a1ac578780",
       "style": "IPY_MODEL_ab859a5641084dac88224780ab6773bb"
      }
     },
     "4d4f8f9050c247a290c90a57bd2e6785": {
      "model_module": "@jupyter-widgets/base",
      "model_module_version": "1.0.0",
      "model_name": "LayoutModel",
      "state": {}
     },
     "4db5c6cd80194c569fa126726db60fc8": {
      "model_module": "@jupyter-widgets/base",
      "model_module_version": "1.0.0",
      "model_name": "LayoutModel",
      "state": {}
     },
     "4dcac787819849709d738ffc788ce768": {
      "model_module": "@jupyter-widgets/base",
      "model_module_version": "1.0.0",
      "model_name": "LayoutModel",
      "state": {}
     },
     "4e1fb6d69b2946bb990b73b5e9bc19d5": {
      "model_module": "@jupyter-widgets/controls",
      "model_module_version": "1.0.0",
      "model_name": "DescriptionStyleModel",
      "state": {
       "description_width": ""
      }
     },
     "4e8b2c0aa0b74b60819b18b837e97164": {
      "model_module": "@jupyter-widgets/controls",
      "model_module_version": "1.0.0",
      "model_name": "VBoxModel",
      "state": {
       "_dom_classes": [
        "widget-interact"
       ],
       "children": [
        "IPY_MODEL_2f3b16c3c5154ae98fc2a906586bd2a3",
        "IPY_MODEL_2afac25a4bd04c24a20dfc79173de4af"
       ],
       "layout": "IPY_MODEL_b9b8f0a82fd74a67abb17bcda75d7349"
      }
     },
     "4fa8d82b33ff44a6a0929544cfd35bb3": {
      "model_module": "@jupyter-widgets/controls",
      "model_module_version": "1.0.0",
      "model_name": "SliderStyleModel",
      "state": {
       "description_width": ""
      }
     },
     "4ffa2bf52c97417db89d3e5ca8a2e1df": {
      "model_module": "@jupyter-widgets/base",
      "model_module_version": "1.0.0",
      "model_name": "LayoutModel",
      "state": {}
     },
     "50593f9b38314ea2a0f9fd1d43b54f4d": {
      "model_module": "@jupyter-widgets/base",
      "model_module_version": "1.0.0",
      "model_name": "LayoutModel",
      "state": {}
     },
     "50cab84713084e1a84c260c1e48fa625": {
      "model_module": "@jupyter-widgets/controls",
      "model_module_version": "1.0.0",
      "model_name": "DescriptionStyleModel",
      "state": {
       "description_width": ""
      }
     },
     "50e1e38445694a1c8eff7af1ee8684d2": {
      "model_module": "@jupyter-widgets/base",
      "model_module_version": "1.0.0",
      "model_name": "LayoutModel",
      "state": {}
     },
     "50e544e2d31046a3a8025223b26d2f30": {
      "model_module": "@jupyter-widgets/base",
      "model_module_version": "1.0.0",
      "model_name": "LayoutModel",
      "state": {}
     },
     "5133a71e8b2041628a12a0c5ce4e87f0": {
      "model_module": "@jupyter-widgets/base",
      "model_module_version": "1.0.0",
      "model_name": "LayoutModel",
      "state": {}
     },
     "513f91a6fae943be8c59ff0a95c4bf7d": {
      "model_module": "@jupyter-widgets/controls",
      "model_module_version": "1.0.0",
      "model_name": "DescriptionStyleModel",
      "state": {
       "description_width": ""
      }
     },
     "514b6f1c70bc4bebb291b0bad64fd068": {
      "model_module": "@jupyter-widgets/controls",
      "model_module_version": "1.0.0",
      "model_name": "IntSliderModel",
      "state": {
       "description": "Slider 2",
       "layout": "IPY_MODEL_50593f9b38314ea2a0f9fd1d43b54f4d",
       "style": "IPY_MODEL_c7f8d3ac35e147cfb540773655834fa1"
      }
     },
     "51509eee92a24d329a282e708c81f3b7": {
      "model_module": "@jupyter-widgets/base",
      "model_module_version": "1.0.0",
      "model_name": "LayoutModel",
      "state": {}
     },
     "515b579f5fbd48e7a35af929b08b629d": {
      "model_module": "@jupyter-widgets/base",
      "model_module_version": "1.0.0",
      "model_name": "LayoutModel",
      "state": {}
     },
     "5179dd0566514df8864585ef0f49d981": {
      "model_module": "@jupyter-widgets/controls",
      "model_module_version": "1.0.0",
      "model_name": "IntSliderModel",
      "state": {
       "description": "Range 1",
       "layout": "IPY_MODEL_6392990fc052437a9887295e67ad2578",
       "style": "IPY_MODEL_df931a86a77740a18110284773f08ff2"
      }
     },
     "518f0718764440ec9ebb4e06e63d9119": {
      "model_module": "@jupyter-widgets/controls",
      "model_module_version": "1.0.0",
      "model_name": "SliderStyleModel",
      "state": {
       "description_width": ""
      }
     },
     "51ec56dcbf5e48f5a9c30dee29d2153b": {
      "model_module": "@jupyter-widgets/base",
      "model_module_version": "1.0.0",
      "model_name": "LayoutModel",
      "state": {}
     },
     "52029d5a116149c093a2f844508ad119": {
      "model_module": "@jupyter-widgets/controls",
      "model_module_version": "1.0.0",
      "model_name": "SliderStyleModel",
      "state": {
       "description_width": ""
      }
     },
     "5212a3435fd8401d9a9e56669e40fcd2": {
      "model_module": "@jupyter-widgets/controls",
      "model_module_version": "1.0.0",
      "model_name": "ButtonStyleModel",
      "state": {}
     },
     "526ce3479eae4e5d8cdfabda4331a146": {
      "model_module": "@jupyter-widgets/controls",
      "model_module_version": "1.0.0",
      "model_name": "ButtonStyleModel",
      "state": {}
     },
     "526cf4e75a0340d29e2081b3254f453c": {
      "model_module": "@jupyter-widgets/controls",
      "model_module_version": "1.0.0",
      "model_name": "DescriptionStyleModel",
      "state": {
       "description_width": ""
      }
     },
     "528e0e52dc6744379737787973fd712c": {
      "model_module": "@jupyter-widgets/base",
      "model_module_version": "1.0.0",
      "model_name": "LayoutModel",
      "state": {}
     },
     "528e1d27d02d414fafd8b3f8e15e5452": {
      "model_module": "@jupyter-widgets/controls",
      "model_module_version": "1.0.0",
      "model_name": "IntSliderModel",
      "state": {
       "continuous_update": false,
       "description": "Tbest:",
       "layout": "IPY_MODEL_f417e261c248439aade3e7478e0b80f2",
       "max": 10,
       "style": "IPY_MODEL_24e9f87134ff43c1918e9e3ff6caba6a",
       "value": 7
      }
     },
     "52a6eebe89eb4bb390c2a71dc30bc750": {
      "model_module": "@jupyter-widgets/base",
      "model_module_version": "1.0.0",
      "model_name": "LayoutModel",
      "state": {}
     },
     "5325c15a76594b44bf0521aee9fee3fb": {
      "model_module": "@jupyter-widgets/base",
      "model_module_version": "1.0.0",
      "model_name": "LayoutModel",
      "state": {}
     },
     "53bb7be1bffe4b848d652f1c62289f7e": {
      "model_module": "@jupyter-widgets/base",
      "model_module_version": "1.0.0",
      "model_name": "LayoutModel",
      "state": {}
     },
     "54203ebd8faa4b4fad65b2daacd2acbb": {
      "model_module": "@jupyter-widgets/controls",
      "model_module_version": "1.0.0",
      "model_name": "SliderStyleModel",
      "state": {
       "description_width": ""
      }
     },
     "54b329f9e5e14ed29d808adc34b55e19": {
      "model_module": "@jupyter-widgets/controls",
      "model_module_version": "1.0.0",
      "model_name": "LabelModel",
      "state": {
       "layout": "IPY_MODEL_08570eec98ee4424afd8e1f85cef3b20",
       "style": "IPY_MODEL_fe4607a24f1044469c55a1f045379201",
       "value": "The values of range1 and range2 are synchronized"
      }
     },
     "54b807b2a2904aec94353cdd2d60b598": {
      "model_module": "@jupyter-widgets/output",
      "model_module_version": "1.0.0",
      "model_name": "OutputModel",
      "state": {
       "layout": "IPY_MODEL_11fbaf3a38fa464389dc7adeaeaf3531",
       "outputs": [
        {
         "name": "stdout",
         "output_type": "stream",
         "text": "MOW\n"
        }
       ]
      }
     },
     "54df3cf367c34158af732010b4f460ca": {
      "model_module": "@jupyter-widgets/base",
      "model_module_version": "1.0.0",
      "model_name": "LayoutModel",
      "state": {}
     },
     "55294591f06a43c986d7187a3d7234c2": {
      "model_module": "@jupyter-widgets/controls",
      "model_module_version": "1.0.0",
      "model_name": "SliderStyleModel",
      "state": {
       "description_width": ""
      }
     },
     "558e41b472d64ccf86b87a01da98cf0e": {
      "model_module": "@jupyter-widgets/controls",
      "model_module_version": "1.0.0",
      "model_name": "DescriptionStyleModel",
      "state": {
       "description_width": ""
      }
     },
     "56954ce1659741a08b3eea810f62d4b2": {
      "model_module": "@jupyter-widgets/base",
      "model_module_version": "1.0.0",
      "model_name": "LayoutModel",
      "state": {}
     },
     "56e715f6a3a24868806a60a3f2a2c70e": {
      "model_module": "@jupyter-widgets/controls",
      "model_module_version": "1.0.0",
      "model_name": "FloatSliderModel",
      "state": {
       "description": "f",
       "layout": "IPY_MODEL_5b2e9c0f7e574aacac4b678a4bab47d8",
       "max": 10,
       "min": 1,
       "step": 0.1,
       "style": "IPY_MODEL_518f0718764440ec9ebb4e06e63d9119",
       "value": 5
      }
     },
     "576b39a33f5a4aa1b7848e403e51b2fd": {
      "model_module": "@jupyter-widgets/controls",
      "model_module_version": "1.0.0",
      "model_name": "DescriptionStyleModel",
      "state": {
       "description_width": ""
      }
     },
     "5779ca6167b5444fbf8ff2cd48233b7c": {
      "model_module": "@jupyter-widgets/controls",
      "model_module_version": "1.0.0",
      "model_name": "BoxModel",
      "state": {
       "children": [
        "IPY_MODEL_aaf54ceb239f48efb18c1c40520e01ae",
        "IPY_MODEL_5bf430d798084e288146a8b0bea908ec"
       ],
       "layout": "IPY_MODEL_39b759f5855c4ee5ab4ec2069eb45f51"
      }
     },
     "57c399fb48314be59f581b01ec196eda": {
      "model_module": "@jupyter-widgets/controls",
      "model_module_version": "1.0.0",
      "model_name": "IntSliderModel",
      "state": {
       "description": "x",
       "layout": "IPY_MODEL_515b579f5fbd48e7a35af929b08b629d",
       "max": 30,
       "min": -10,
       "style": "IPY_MODEL_4824714557d74898882579b4ccb11bc5",
       "value": 10
      }
     },
     "57f0f6d67b674cb7924867f8acd25856": {
      "model_module": "@jupyter-widgets/base",
      "model_module_version": "1.0.0",
      "model_name": "LayoutModel",
      "state": {}
     },
     "584f822afccc4a1ea8738df2e627458b": {
      "model_module": "@jupyter-widgets/base",
      "model_module_version": "1.0.0",
      "model_name": "LayoutModel",
      "state": {}
     },
     "5851191aab94497fbe7c2a99880e5d10": {
      "model_module": "@jupyter-widgets/base",
      "model_module_version": "1.0.0",
      "model_name": "LayoutModel",
      "state": {
       "display": "flex",
       "flex_flow": "row",
       "justify_content": "space-between"
      }
     },
     "585153b691ea45f197ed0c2b55c9673d": {
      "model_module": "@jupyter-widgets/base",
      "model_module_version": "1.0.0",
      "model_name": "LayoutModel",
      "state": {}
     },
     "5861c45ee33e4a1590049a919145efdb": {
      "model_module": "@jupyter-widgets/base",
      "model_module_version": "1.0.0",
      "model_name": "LayoutModel",
      "state": {}
     },
     "586f665c169f4875a9878c66555e21ff": {
      "model_module": "@jupyter-widgets/controls",
      "model_module_version": "1.0.0",
      "model_name": "TextModel",
      "state": {
       "layout": "IPY_MODEL_f1969d2450af46898a4ee11213cc7ab7",
       "style": "IPY_MODEL_bc023e308a514b9d9269e27a904737ae"
      }
     },
     "5885d0e6e78f45f181fe70523516b71e": {
      "model_module": "@jupyter-widgets/controls",
      "model_module_version": "1.0.0",
      "model_name": "IntSliderModel",
      "state": {
       "description": "p",
       "layout": "IPY_MODEL_80508b8709a040d8b4cd350959553523",
       "max": 15,
       "min": -5,
       "style": "IPY_MODEL_5d95bde11cc543749892f7b72c840066",
       "value": 5
      }
     },
     "58e1e18bb060431f86e229cbf7178bbd": {
      "model_module": "@jupyter-widgets/controls",
      "model_module_version": "1.0.0",
      "model_name": "DescriptionStyleModel",
      "state": {
       "description_width": ""
      }
     },
     "5ab8ade1d55b44d8881ab1297b27e478": {
      "model_module": "@jupyter-widgets/controls",
      "model_module_version": "1.0.0",
      "model_name": "VBoxModel",
      "state": {
       "_dom_classes": [
        "widget-interact"
       ],
       "children": [
        "IPY_MODEL_1fcea95c86af4546bf0741b254a108e5",
        "IPY_MODEL_d01441ae040c41148c7e55bb2022d061"
       ],
       "layout": "IPY_MODEL_2fa6a59e49f74f2f8ef7ed434ae4b34b"
      }
     },
     "5b2e9c0f7e574aacac4b678a4bab47d8": {
      "model_module": "@jupyter-widgets/base",
      "model_module_version": "1.0.0",
      "model_name": "LayoutModel",
      "state": {}
     },
     "5b8ee31b5204462abfd20f3ffd1160b9": {
      "model_module": "@jupyter-widgets/base",
      "model_module_version": "1.0.0",
      "model_name": "LayoutModel",
      "state": {}
     },
     "5bf430d798084e288146a8b0bea908ec": {
      "model_module": "@jupyter-widgets/controls",
      "model_module_version": "1.0.0",
      "model_name": "IntSliderModel",
      "state": {
       "layout": "IPY_MODEL_aaac15e617844219b7912f7b065e7240",
       "max": 60,
       "min": 40,
       "style": "IPY_MODEL_2466cb49f5e44eae9b85b1a13548fb7e",
       "value": 40
      }
     },
     "5c6439660b2049ad8a4a8050e1e067ef": {
      "model_module": "@jupyter-widgets/controls",
      "model_module_version": "1.0.0",
      "model_name": "DescriptionStyleModel",
      "state": {
       "description_width": ""
      }
     },
     "5ce86ec18f9e474783bcb62ac1d5485c": {
      "model_module": "@jupyter-widgets/base",
      "model_module_version": "1.0.0",
      "model_name": "LayoutModel",
      "state": {}
     },
     "5d27995408484763ab1715fb0c7c86c8": {
      "model_module": "@jupyter-widgets/output",
      "model_module_version": "1.0.0",
      "model_name": "OutputModel",
      "state": {
       "layout": "IPY_MODEL_45e0db2d322b4da79f187b37855e9380",
       "outputs": [
        {
         "data": {
          "text/plain": "0"
         },
         "metadata": {},
         "output_type": "display_data"
        }
       ]
      }
     },
     "5d924d7ef07e4ed49c6e267eea3859a1": {
      "model_module": "@jupyter-widgets/controls",
      "model_module_version": "1.0.0",
      "model_name": "SliderStyleModel",
      "state": {
       "description_width": ""
      }
     },
     "5d95bde11cc543749892f7b72c840066": {
      "model_module": "@jupyter-widgets/controls",
      "model_module_version": "1.0.0",
      "model_name": "SliderStyleModel",
      "state": {
       "description_width": ""
      }
     },
     "5dc93735b391470c8e1c11afd0351636": {
      "model_module": "@jupyter-widgets/base",
      "model_module_version": "1.0.0",
      "model_name": "LayoutModel",
      "state": {}
     },
     "5f300fa3a9084c59b47f8e00c55cce7c": {
      "model_module": "@jupyter-widgets/controls",
      "model_module_version": "1.0.0",
      "model_name": "IntSliderModel",
      "state": {
       "description": "x",
       "layout": "IPY_MODEL_783082fda81c475a966d2d38a7027b1f",
       "max": 30,
       "min": -10,
       "style": "IPY_MODEL_f5f14ff5e9d14a728da64ee731b3269e",
       "value": 10
      }
     },
     "5f6bd12da3b34f61991bf445407335c2": {
      "model_module": "@jupyter-widgets/controls",
      "model_module_version": "1.0.0",
      "model_name": "SliderStyleModel",
      "state": {
       "description_width": ""
      }
     },
     "5f9f731b54604af7b1b2d33310376477": {
      "model_module": "@jupyter-widgets/controls",
      "model_module_version": "1.0.0",
      "model_name": "LabelModel",
      "state": {
       "layout": "IPY_MODEL_af564832057a4b06b3f63eada69d6208",
       "style": "IPY_MODEL_bbaf4ca70a764eef92431025ac31ddc0",
       "value": "Egg style"
      }
     },
     "5fcafd8867254ced9ee4c59466396e0a": {
      "model_module": "@jupyter-widgets/controls",
      "model_module_version": "1.0.0",
      "model_name": "VBoxModel",
      "state": {
       "_dom_classes": [
        "widget-interact"
       ],
       "children": [
        "IPY_MODEL_91ab8feecfda40a8ae7aedd6d050cee7",
        "IPY_MODEL_5d27995408484763ab1715fb0c7c86c8"
       ],
       "layout": "IPY_MODEL_ded88a548db640d2af3cf41e5a9ec7c8"
      }
     },
     "5fd16fbe26754069ad6c93941afa573f": {
      "model_module": "@jupyter-widgets/controls",
      "model_module_version": "1.0.0",
      "model_name": "IntSliderModel",
      "state": {
       "description": "Slider 2",
       "layout": "IPY_MODEL_0c5328cb171c49aba4b54bb88f480887",
       "style": "IPY_MODEL_384c0029e72f4ad184a94d4ca7f63e18",
       "value": 12
      }
     },
     "5ffd27536e534a6f950f57945dee7f66": {
      "model_module": "@jupyter-widgets/controls",
      "model_module_version": "1.0.0",
      "model_name": "VBoxModel",
      "state": {
       "_dom_classes": [
        "widget-interact"
       ],
       "children": [
        "IPY_MODEL_95665ad6450646d285efc4b2192d63b4",
        "IPY_MODEL_35d9442a6a7b488bbbed8696b2539327"
       ],
       "layout": "IPY_MODEL_b0749f43b22b4e94b0c7836322f72208"
      }
     },
     "61c0c2dbfb244813a6276630e674fc21": {
      "model_module": "@jupyter-widgets/controls",
      "model_module_version": "1.0.0",
      "model_name": "SliderStyleModel",
      "state": {
       "description_width": ""
      }
     },
     "6265377bc3964bdbb787de5b4df48e87": {
      "model_module": "@jupyter-widgets/controls",
      "model_module_version": "1.0.0",
      "model_name": "ButtonModel",
      "state": {
       "description": "Run Interact",
       "layout": "IPY_MODEL_abd41516f6624d47b0379aca70109222",
       "style": "IPY_MODEL_5212a3435fd8401d9a9e56669e40fcd2"
      }
     },
     "628f902c48b04d75a471e06f6b9440ad": {
      "model_module": "@jupyter-widgets/controls",
      "model_module_version": "1.0.0",
      "model_name": "IntSliderModel",
      "state": {
       "continuous_update": false,
       "description": "Tbest:",
       "layout": "IPY_MODEL_ce323cc34d42488bae4cdd025105c6f9",
       "max": 10,
       "style": "IPY_MODEL_440dfd66500447829d1f6b066d632f57",
       "value": 7
      }
     },
     "634aca379ff64ab78dacbb412236ce81": {
      "model_module": "@jupyter-widgets/controls",
      "model_module_version": "1.0.0",
      "model_name": "LabelModel",
      "state": {
       "layout": "IPY_MODEL_36190685e17549ddb21ee0305506d8c9",
       "style": "IPY_MODEL_b4262bd9464045d79ac77268b4a50911",
       "value": "Information"
      }
     },
     "6392990fc052437a9887295e67ad2578": {
      "model_module": "@jupyter-widgets/base",
      "model_module_version": "1.0.0",
      "model_name": "LayoutModel",
      "state": {}
     },
     "63c6a53eef3a4ebfafbb8c8bedd9cfc1": {
      "model_module": "@jupyter-widgets/controls",
      "model_module_version": "1.0.0",
      "model_name": "DescriptionStyleModel",
      "state": {
       "description_width": ""
      }
     },
     "640e41f4007149a9bb774472726c4a44": {
      "model_module": "@jupyter-widgets/base",
      "model_module_version": "1.0.0",
      "model_name": "LayoutModel",
      "state": {}
     },
     "645609d72228490d870cf5e67c4b34d8": {
      "model_module": "@jupyter-widgets/controls",
      "model_module_version": "1.0.0",
      "model_name": "VBoxModel",
      "state": {
       "_dom_classes": [
        "widget-interact"
       ],
       "children": [
        "IPY_MODEL_c42c96e60f4b449ab86de2e189ea0065",
        "IPY_MODEL_9b3596e6a105436ab2f59e0e93bf64fd"
       ],
       "layout": "IPY_MODEL_941cf6cb0ab84c8ea42ba6b3fe23c1e2"
      }
     },
     "64abdc0c859b4194b07225bfd69f99b6": {
      "model_module": "@jupyter-widgets/controls",
      "model_module_version": "1.0.0",
      "model_name": "DescriptionStyleModel",
      "state": {
       "description_width": ""
      }
     },
     "651777350c774216817d9640b4d758de": {
      "model_module": "@jupyter-widgets/controls",
      "model_module_version": "1.0.0",
      "model_name": "DescriptionStyleModel",
      "state": {
       "description_width": ""
      }
     },
     "65321c0357474b88a4ccb2f3f6bc3d03": {
      "model_module": "@jupyter-widgets/controls",
      "model_module_version": "1.0.0",
      "model_name": "TextModel",
      "state": {
       "layout": "IPY_MODEL_dda806b2a76e42139685a437b8ac1236",
       "style": "IPY_MODEL_05dfa3530d2b49cf8ffc86713e2e787f"
      }
     },
     "6559c589c4694746acc59321c286ce32": {
      "model_module": "@jupyter-widgets/controls",
      "model_module_version": "1.0.0",
      "model_name": "SliderStyleModel",
      "state": {
       "description_width": ""
      }
     },
     "658b4e2b836a4ed3b58c2950df3a3449": {
      "model_module": "@jupyter-widgets/base",
      "model_module_version": "1.0.0",
      "model_name": "LayoutModel",
      "state": {}
     },
     "65988e3946714b5bb095997838dc47d3": {
      "model_module": "@jupyter-widgets/base",
      "model_module_version": "1.0.0",
      "model_name": "LayoutModel",
      "state": {}
     },
     "66183b633a2b4677969f70b6c0093640": {
      "model_module": "@jupyter-widgets/base",
      "model_module_version": "1.0.0",
      "model_name": "LayoutModel",
      "state": {}
     },
     "66ae5e75021e40fd9c23baaba665b1d9": {
      "model_module": "@jupyter-widgets/base",
      "model_module_version": "1.0.0",
      "model_name": "LayoutModel",
      "state": {}
     },
     "66d38b7072204893adbbce5197c5337d": {
      "model_module": "@jupyter-widgets/controls",
      "model_module_version": "1.0.0",
      "model_name": "DescriptionStyleModel",
      "state": {
       "description_width": ""
      }
     },
     "677500297aa842738ce2ea20abc9c7af": {
      "model_module": "@jupyter-widgets/base",
      "model_module_version": "1.0.0",
      "model_name": "LayoutModel",
      "state": {}
     },
     "67e061d03a6944e6b16dcb5e79f2af19": {
      "model_module": "@jupyter-widgets/controls",
      "model_module_version": "1.0.0",
      "model_name": "IntSliderModel",
      "state": {
       "description": "Range 2",
       "layout": "IPY_MODEL_0d450778aa1244b692a6efc03e7bbbf7",
       "style": "IPY_MODEL_f5c02a137dc942f49d8bc5acfc2ba5da",
       "value": 25
      }
     },
     "6882642b38e243bcab796c3b56373661": {
      "model_module": "@jupyter-widgets/controls",
      "model_module_version": "1.0.0",
      "model_name": "DropdownModel",
      "state": {
       "_options_labels": [
        "Scrambled",
        "Sunny side up",
        "Over easy"
       ],
       "index": 0,
       "layout": "IPY_MODEL_dd6a97d3e7584474a08276f4c82b8456",
       "style": "IPY_MODEL_0d1e5415086c46079e9116315492712d"
      }
     },
     "68b4dfeacf2543ff923debd3bb3ce067": {
      "model_module": "@jupyter-widgets/controls",
      "model_module_version": "1.0.0",
      "model_name": "SelectModel",
      "state": {
       "_options_labels": [
        "CHI",
        "NYC"
       ],
       "description": "city",
       "index": 0,
       "layout": "IPY_MODEL_35697fa52f9f42d79175dcf38097fe89",
       "style": "IPY_MODEL_651777350c774216817d9640b4d758de"
      }
     },
     "68ef5082cd134546b8d676de9a1d7528": {
      "model_module": "@jupyter-widgets/controls",
      "model_module_version": "1.0.0",
      "model_name": "SliderStyleModel",
      "state": {
       "description_width": ""
      }
     },
     "6927c310918e45689f6210643fd205f9": {
      "model_module": "@jupyter-widgets/controls",
      "model_module_version": "1.0.0",
      "model_name": "SliderStyleModel",
      "state": {
       "description_width": ""
      }
     },
     "6936f03b090e45abae4be30d257ab820": {
      "model_module": "@jupyter-widgets/base",
      "model_module_version": "1.0.0",
      "model_name": "LayoutModel",
      "state": {}
     },
     "6ab1ead14dce47a1adb70b2d8db0dd61": {
      "model_module": "@jupyter-widgets/controls",
      "model_module_version": "1.0.0",
      "model_name": "DescriptionStyleModel",
      "state": {
       "description_width": ""
      }
     },
     "6ab60d96aa4544728089f8d3065714aa": {
      "model_module": "@jupyter-widgets/controls",
      "model_module_version": "1.0.0",
      "model_name": "SliderStyleModel",
      "state": {
       "description_width": ""
      }
     },
     "6afdeb9460344cc1aaa386512e80eac2": {
      "model_module": "@jupyter-widgets/base",
      "model_module_version": "1.0.0",
      "model_name": "LayoutModel",
      "state": {}
     },
     "6b6708be6f624153a241b9369abcd65a": {
      "model_module": "@jupyter-widgets/base",
      "model_module_version": "1.0.0",
      "model_name": "LayoutModel",
      "state": {}
     },
     "6b7cb96ddf9042e1acee610fb869eb60": {
      "model_module": "@jupyter-widgets/controls",
      "model_module_version": "1.0.0",
      "model_name": "SliderStyleModel",
      "state": {
       "description_width": ""
      }
     },
     "6bd5578dd227490883d4437ae846ab05": {
      "model_module": "@jupyter-widgets/controls",
      "model_module_version": "1.0.0",
      "model_name": "VBoxModel",
      "state": {
       "_dom_classes": [
        "widget-interact"
       ],
       "children": [
        "IPY_MODEL_196d79eda71c42d1acbbea9e7ce46eb2",
        "IPY_MODEL_36b9c0900e344861b56962f25b6279f6"
       ],
       "layout": "IPY_MODEL_39999c86b1374c42b97b598ca0edd306"
      }
     },
     "6c34757a3fd445d2926172343d316e9c": {
      "model_module": "@jupyter-widgets/controls",
      "model_module_version": "1.0.0",
      "model_name": "IntSliderModel",
      "state": {
       "description": "p",
       "layout": "IPY_MODEL_1ebba8e71bcf470c8781ec494d68f47e",
       "max": 15,
       "min": -5,
       "style": "IPY_MODEL_bc64e7eb040b401892a020a67d57f27c",
       "value": 5
      }
     },
     "6ce940b832444869a2e08cb54b77961a": {
      "model_module": "@jupyter-widgets/controls",
      "model_module_version": "1.0.0",
      "model_name": "IntSliderModel",
      "state": {
       "description": "x",
       "layout": "IPY_MODEL_585153b691ea45f197ed0c2b55c9673d",
       "max": 30,
       "min": -10,
       "style": "IPY_MODEL_93b8e53ce66a40c19894193ebde68c39",
       "value": 10
      }
     },
     "6e40d7511afc41efab9f1a7bf2e34e4f": {
      "model_module": "@jupyter-widgets/controls",
      "model_module_version": "1.0.0",
      "model_name": "ButtonStyleModel",
      "state": {}
     },
     "6e4d45772c6140c09ec9408c0d0c6277": {
      "model_module": "@jupyter-widgets/base",
      "model_module_version": "1.0.0",
      "model_name": "LayoutModel",
      "state": {}
     },
     "6e705b90fb6f4813b118202eb365b0cc": {
      "model_module": "@jupyter-widgets/controls",
      "model_module_version": "1.0.0",
      "model_name": "IntSliderModel",
      "state": {
       "description": "p",
       "layout": "IPY_MODEL_c6efa60bd3a44c709e804d9e36b29bcf",
       "max": 15,
       "min": -5,
       "style": "IPY_MODEL_5f6bd12da3b34f61991bf445407335c2",
       "value": 5
      }
     },
     "6eb6df2a33f14e668a9151cdcc2c63c7": {
      "model_module": "@jupyter-widgets/controls",
      "model_module_version": "1.0.0",
      "model_name": "SliderStyleModel",
      "state": {
       "description_width": ""
      }
     },
     "6ed23dca822849d2b90d331314e0d2f3": {
      "model_module": "@jupyter-widgets/controls",
      "model_module_version": "1.0.0",
      "model_name": "SliderStyleModel",
      "state": {
       "description_width": ""
      }
     },
     "6ee694125fbd4e769e51a9183b6050b5": {
      "model_module": "@jupyter-widgets/controls",
      "model_module_version": "1.0.0",
      "model_name": "SliderStyleModel",
      "state": {
       "description_width": ""
      }
     },
     "70b0a52dc08d4ab99a8b6117941a1d38": {
      "model_module": "@jupyter-widgets/base",
      "model_module_version": "1.0.0",
      "model_name": "LayoutModel",
      "state": {}
     },
     "713a1c15f305474aae28957d12e5cbe1": {
      "model_module": "@jupyter-widgets/controls",
      "model_module_version": "1.0.0",
      "model_name": "SliderStyleModel",
      "state": {
       "description_width": ""
      }
     },
     "71746e9c3ec84957947ed3994a1c4e33": {
      "model_module": "@jupyter-widgets/base",
      "model_module_version": "1.0.0",
      "model_name": "LayoutModel",
      "state": {}
     },
     "7178820fce37411284fbf496bf8a6b7e": {
      "model_module": "@jupyter-widgets/controls",
      "model_module_version": "1.0.0",
      "model_name": "SliderStyleModel",
      "state": {
       "description_width": ""
      }
     },
     "722054f1a16a456c9a2a2e15496330a1": {
      "model_module": "@jupyter-widgets/controls",
      "model_module_version": "1.0.0",
      "model_name": "LabelModel",
      "state": {
       "layout": "IPY_MODEL_ae37e055b5944d7386b62551438e84f3",
       "style": "IPY_MODEL_c434dab846bb4f1e9a344a5e28e1be83",
       "value": "The values of range1 and range2 are synchronized"
      }
     },
     "7252cea56bb243d09955c829074944ec": {
      "model_module": "@jupyter-widgets/controls",
      "model_module_version": "1.0.0",
      "model_name": "SliderStyleModel",
      "state": {
       "description_width": ""
      }
     },
     "7266ff44fec641688b4226d740b7503d": {
      "model_module": "@jupyter-widgets/output",
      "model_module_version": "1.0.0",
      "model_name": "OutputModel",
      "state": {
       "layout": "IPY_MODEL_66183b633a2b4677969f70b6c0093640",
       "outputs": [
        {
         "name": "stdout",
         "output_type": "stream",
         "text": "6600000 [0, 1, 2, 3, 11, 22, 101, 111, 121, 202, 212, 1001, 1111, 2002, 10001, 10101, 10201, 11011, 11111, 11211, 20002, 20102, 100001, 101101, 110011, 111111, 200002, 1000001, 1001001, 1002001, 1010101, 1011101, 1012101, 1100011, 1101011, 1102011, 1110111, 1111111, 2000002, 2001002]\n"
        }
       ]
      }
     },
     "730dd3e641d14f849a34f3d40152782f": {
      "model_module": "@jupyter-widgets/controls",
      "model_module_version": "1.0.0",
      "model_name": "VBoxModel",
      "state": {
       "_dom_classes": [
        "widget-interact"
       ],
       "children": [
        "IPY_MODEL_da9271e13ae240cda73f29f363cf7950",
        "IPY_MODEL_83aab116bd62417eb8de9774b7360f61"
       ],
       "layout": "IPY_MODEL_5133a71e8b2041628a12a0c5ce4e87f0"
      }
     },
     "733d219a3bc145b1b29ca6ae183ef126": {
      "model_module": "@jupyter-widgets/controls",
      "model_module_version": "1.0.0",
      "model_name": "SliderStyleModel",
      "state": {
       "description_width": ""
      }
     },
     "7481cce4d65e4685a2e654f0b5510cb8": {
      "model_module": "@jupyter-widgets/base",
      "model_module_version": "1.0.0",
      "model_name": "LayoutModel",
      "state": {}
     },
     "74a9231af6e5420f89c1e8ce3a3dd0c1": {
      "model_module": "@jupyter-widgets/base",
      "model_module_version": "1.0.0",
      "model_name": "LayoutModel",
      "state": {}
     },
     "750720b3fffa4e5aa96f7af12ec040b2": {
      "model_module": "@jupyter-widgets/base",
      "model_module_version": "1.0.0",
      "model_name": "LayoutModel",
      "state": {}
     },
     "753975d7931e45499c89c5484d89333a": {
      "model_module": "@jupyter-widgets/output",
      "model_module_version": "1.0.0",
      "model_name": "OutputModel",
      "state": {
       "layout": "IPY_MODEL_82b0778f944f48cba51888a720a7cb72",
       "outputs": [
        {
         "data": {
          "text/plain": "(5, 20)"
         },
         "metadata": {},
         "output_type": "display_data"
        }
       ]
      }
     },
     "75d4d65b4c4845d3abae3429ff232885": {
      "model_module": "@jupyter-widgets/controls",
      "model_module_version": "1.0.0",
      "model_name": "SliderStyleModel",
      "state": {
       "description_width": ""
      }
     },
     "783082fda81c475a966d2d38a7027b1f": {
      "model_module": "@jupyter-widgets/base",
      "model_module_version": "1.0.0",
      "model_name": "LayoutModel",
      "state": {}
     },
     "7846d3cfdd2c478fb30626dee47bb228": {
      "model_module": "@jupyter-widgets/controls",
      "model_module_version": "1.0.0",
      "model_name": "LinkModel",
      "state": {
       "source": [
        "IPY_MODEL_af67a034707f47e7bd58d2286dc3b147",
        "value"
       ],
       "target": [
        "IPY_MODEL_87c42b3cba144b8d8ada1d11eecaa4db",
        "value"
       ]
      }
     },
     "787939acbf1a4c23a71a8ee6b1a4563c": {
      "model_module": "@jupyter-widgets/base",
      "model_module_version": "1.0.0",
      "model_name": "LayoutModel",
      "state": {}
     },
     "7893958b868347ea973c6edf008ca72a": {
      "model_module": "@jupyter-widgets/controls",
      "model_module_version": "1.0.0",
      "model_name": "VBoxModel",
      "state": {
       "_dom_classes": [
        "widget-interact"
       ],
       "children": [
        "IPY_MODEL_6e705b90fb6f4813b118202eb365b0cc",
        "IPY_MODEL_ff135baa288d4bb39138bcbc46969415"
       ],
       "layout": "IPY_MODEL_4dcac787819849709d738ffc788ce768"
      }
     },
     "797a05a2aaeb44f9a7e168b9f043b7cd": {
      "model_module": "@jupyter-widgets/base",
      "model_module_version": "1.0.0",
      "model_name": "LayoutModel",
      "state": {}
     },
     "7a466894175d482888c63ee82176036d": {
      "model_module": "@jupyter-widgets/base",
      "model_module_version": "1.0.0",
      "model_name": "LayoutModel",
      "state": {}
     },
     "7ac1785395964ad5b38bd626612f779b": {
      "model_module": "@jupyter-widgets/controls",
      "model_module_version": "1.0.0",
      "model_name": "VBoxModel",
      "state": {
       "_dom_classes": [
        "widget-interact"
       ],
       "children": [
        "IPY_MODEL_c64d83026935451eb659e3279c0e94ef",
        "IPY_MODEL_33c829a7ddad4eb1a29db773fd6f6176"
       ],
       "layout": "IPY_MODEL_bc0c0302051241c1867fc09efb5861e6"
      }
     },
     "7ad09bd85b214ef6908f9a6e56a1e385": {
      "model_module": "@jupyter-widgets/base",
      "model_module_version": "1.0.0",
      "model_name": "LayoutModel",
      "state": {}
     },
     "7b8992a20a804ebc8bb3d2004fa56613": {
      "model_module": "@jupyter-widgets/controls",
      "model_module_version": "1.0.0",
      "model_name": "BoxModel",
      "state": {
       "children": [
        "IPY_MODEL_f59f8fe25f304f73a85566af10446e02",
        "IPY_MODEL_065be0a59a3f4cb1817ba4def2dc0696"
       ],
       "layout": "IPY_MODEL_5851191aab94497fbe7c2a99880e5d10"
      }
     },
     "7b9843c32d97437b8552dc1b5c9c964c": {
      "model_module": "@jupyter-widgets/controls",
      "model_module_version": "1.0.0",
      "model_name": "LinkModel",
      "state": {
       "source": [
        "IPY_MODEL_98505dc4611c4723af78ec600911a99a",
        "value"
       ],
       "target": [
        "IPY_MODEL_17654436aa864337b30e62be46fd27df",
        "value"
       ]
      }
     },
     "7be24c3c6d2940e2950df2414207ab7a": {
      "model_module": "@jupyter-widgets/output",
      "model_module_version": "1.0.0",
      "model_name": "OutputModel",
      "state": {
       "layout": "IPY_MODEL_e7eb6473a4384b838464fd3640805395",
       "outputs": [
        {
         "name": "stdout",
         "output_type": "stream",
         "text": "2400000 [0, 1, 2, 3, 11, 22, 101, 111, 121, 202, 212, 1001, 1111, 2002, 10001, 10101, 10201, 11011, 11111, 11211, 20002, 20102, 100001, 101101, 110011, 111111, 200002, 1000001, 1001001, 1002001, 1010101, 1011101, 1012101, 1100011, 1101011, 1102011, 1110111, 1111111, 2000002, 2001002]\n"
        }
       ]
      }
     },
     "7c31b7ea5d62491e8c52cab019df9306": {
      "model_module": "@jupyter-widgets/base",
      "model_module_version": "1.0.0",
      "model_name": "LayoutModel",
      "state": {}
     },
     "7c3d46eeb42948569403fa115f5ddfb3": {
      "model_module": "@jupyter-widgets/base",
      "model_module_version": "1.0.0",
      "model_name": "LayoutModel",
      "state": {}
     },
     "7c42f389abd44b6cb6cd2a8d7a47cd23": {
      "model_module": "@jupyter-widgets/controls",
      "model_module_version": "1.0.0",
      "model_name": "DescriptionStyleModel",
      "state": {
       "description_width": ""
      }
     },
     "7c57cbac47144a63b7c90d535d2c7d0e": {
      "model_module": "@jupyter-widgets/base",
      "model_module_version": "1.0.0",
      "model_name": "LayoutModel",
      "state": {}
     },
     "7cdaa790477546ca92caa9a5877a8634": {
      "model_module": "@jupyter-widgets/output",
      "model_module_version": "1.0.0",
      "model_name": "OutputModel",
      "state": {
       "layout": "IPY_MODEL_9fda9686b769433e944be7f663b35699",
       "outputs": [
        {
         "data": {
          "text/plain": "6"
         },
         "metadata": {},
         "output_type": "display_data"
        }
       ]
      }
     },
     "7ce1ad3ea322489db22dbe84a8860c5a": {
      "model_module": "@jupyter-widgets/controls",
      "model_module_version": "1.0.0",
      "model_name": "TextModel",
      "state": {
       "description": "Text",
       "layout": "IPY_MODEL_11d92c28ef3c4eaa94142da74a2fb8da",
       "style": "IPY_MODEL_5c6439660b2049ad8a4a8050e1e067ef",
       "value": "Type here!"
      }
     },
     "7d1e94ebe6ac4a1f96c1b115ba3d07d2": {
      "model_module": "@jupyter-widgets/controls",
      "model_module_version": "1.0.0",
      "model_name": "VBoxModel",
      "state": {
       "_dom_classes": [
        "widget-interact"
       ],
       "children": [
        "IPY_MODEL_84e6d81401584ffd93addf99879faa75",
        "IPY_MODEL_54b807b2a2904aec94353cdd2d60b598"
       ],
       "layout": "IPY_MODEL_134c6e60e6514925bd28de0afd4febcf"
      }
     },
     "7d301bf2b4e84f8fa4b7c7907688899d": {
      "model_module": "@jupyter-widgets/base",
      "model_module_version": "1.0.0",
      "model_name": "LayoutModel",
      "state": {}
     },
     "7d7e116cd5834cb983ae61b69be0fe96": {
      "model_module": "@jupyter-widgets/controls",
      "model_module_version": "1.0.0",
      "model_name": "DescriptionStyleModel",
      "state": {
       "description_width": ""
      }
     },
     "7de40737bd8b41289bb01e9db13ac887": {
      "model_module": "@jupyter-widgets/controls",
      "model_module_version": "1.0.0",
      "model_name": "IntSliderModel",
      "state": {
       "description": "Range 1",
       "layout": "IPY_MODEL_a9e55a7730a943b8988f5084f7a1b665",
       "style": "IPY_MODEL_7178820fce37411284fbf496bf8a6b7e"
      }
     },
     "7e158d6c70dc45959f34dc10771dec58": {
      "model_module": "@jupyter-widgets/controls",
      "model_module_version": "1.0.0",
      "model_name": "SliderStyleModel",
      "state": {
       "description_width": ""
      }
     },
     "7e6778e890a34170b387d6be2c0bc870": {
      "model_module": "@jupyter-widgets/base",
      "model_module_version": "1.0.0",
      "model_name": "LayoutModel",
      "state": {}
     },
     "7f0f21e8f8fe43b896d77fd0e497522b": {
      "model_module": "@jupyter-widgets/controls",
      "model_module_version": "1.0.0",
      "model_name": "TextModel",
      "state": {
       "layout": "IPY_MODEL_7d301bf2b4e84f8fa4b7c7907688899d",
       "style": "IPY_MODEL_8bc8e67502b7417dbd6996528ff21588"
      }
     },
     "80508b8709a040d8b4cd350959553523": {
      "model_module": "@jupyter-widgets/base",
      "model_module_version": "1.0.0",
      "model_name": "LayoutModel",
      "state": {}
     },
     "8099af5513fd4c799857f3ab1fa8f7fc": {
      "model_module": "@jupyter-widgets/base",
      "model_module_version": "1.0.0",
      "model_name": "LayoutModel",
      "state": {}
     },
     "80b703cdf7234e8cb0c7f7eed17946f6": {
      "model_module": "@jupyter-widgets/base",
      "model_module_version": "1.0.0",
      "model_name": "LayoutModel",
      "state": {}
     },
     "81665aa1a7e44d5cbc36ed4a9f694510": {
      "model_module": "@jupyter-widgets/base",
      "model_module_version": "1.0.0",
      "model_name": "LayoutModel",
      "state": {}
     },
     "82b0778f944f48cba51888a720a7cb72": {
      "model_module": "@jupyter-widgets/base",
      "model_module_version": "1.0.0",
      "model_name": "LayoutModel",
      "state": {}
     },
     "83aab116bd62417eb8de9774b7360f61": {
      "model_module": "@jupyter-widgets/output",
      "model_module_version": "1.0.0",
      "model_name": "OutputModel",
      "state": {
       "layout": "IPY_MODEL_444fa70cac7749a5bb53bf9314071ba6",
       "outputs": [
        {
         "data": {
          "text/plain": "4"
         },
         "metadata": {},
         "output_type": "display_data"
        }
       ]
      }
     },
     "83c97c58450546c48cf2f4aae0ba3e91": {
      "model_module": "@jupyter-widgets/controls",
      "model_module_version": "1.0.0",
      "model_name": "BoxModel",
      "state": {
       "children": [
        "IPY_MODEL_5f9f731b54604af7b1b2d33310376477",
        "IPY_MODEL_6882642b38e243bcab796c3b56373661"
       ],
       "layout": "IPY_MODEL_84866268d68743fb97bb74d273e8467b"
      }
     },
     "841bcab9f9204849bc2f2935539669af": {
      "model_module": "@jupyter-widgets/controls",
      "model_module_version": "1.0.0",
      "model_name": "DescriptionStyleModel",
      "state": {
       "description_width": ""
      }
     },
     "847e9aaa73ff4e65842a29dfcc33f2cf": {
      "model_module": "@jupyter-widgets/controls",
      "model_module_version": "1.0.0",
      "model_name": "FloatSliderModel",
      "state": {
       "description": "i",
       "layout": "IPY_MODEL_a4a246f1d8de43419e1d5e2d251c908c",
       "max": 10000000,
       "min": 100000,
       "step": 100000,
       "style": "IPY_MODEL_713a1c15f305474aae28957d12e5cbe1",
       "value": 10000000
      }
     },
     "84866268d68743fb97bb74d273e8467b": {
      "model_module": "@jupyter-widgets/base",
      "model_module_version": "1.0.0",
      "model_name": "LayoutModel",
      "state": {
       "display": "flex",
       "flex_flow": "row",
       "justify_content": "space-between"
      }
     },
     "84e5f234598642ffb0f2edac0ae20838": {
      "model_module": "@jupyter-widgets/controls",
      "model_module_version": "1.0.0",
      "model_name": "TextareaModel",
      "state": {
       "layout": "IPY_MODEL_da453d3a2ceb4c19a60be897db6e4522",
       "style": "IPY_MODEL_11985258b1b34f9a8f8c43e3fb6227cb",
       "value": "2\n"
      }
     },
     "84e6d81401584ffd93addf99879faa75": {
      "model_module": "@jupyter-widgets/controls",
      "model_module_version": "1.0.0",
      "model_name": "SelectModel",
      "state": {
       "_options_labels": [
        "CHI",
        "NYC"
       ],
       "description": "city",
       "index": 0,
       "layout": "IPY_MODEL_dbff5a0fd5df45bf8d3250fb305c6f67",
       "style": "IPY_MODEL_fb11eedfad9c4eba8f365c9ac04cc3eb"
      }
     },
     "8506af5b89364c2881632cac29301a7e": {
      "model_module": "@jupyter-widgets/controls",
      "model_module_version": "1.0.0",
      "model_name": "DescriptionStyleModel",
      "state": {
       "description_width": ""
      }
     },
     "8513ad7d79134dcf973260a1ac578780": {
      "model_module": "@jupyter-widgets/base",
      "model_module_version": "1.0.0",
      "model_name": "LayoutModel",
      "state": {}
     },
     "8583de35f00e4219b31651fae5065607": {
      "model_module": "@jupyter-widgets/controls",
      "model_module_version": "1.0.0",
      "model_name": "SliderStyleModel",
      "state": {
       "description_width": ""
      }
     },
     "861ad38deb3a4021b8e7d406c6d81028": {
      "model_module": "@jupyter-widgets/controls",
      "model_module_version": "1.0.0",
      "model_name": "DescriptionStyleModel",
      "state": {
       "description_width": ""
      }
     },
     "87c42b3cba144b8d8ada1d11eecaa4db": {
      "model_module": "@jupyter-widgets/controls",
      "model_module_version": "1.0.0",
      "model_name": "IntSliderModel",
      "state": {
       "description": "Range 2",
       "layout": "IPY_MODEL_31295d183c8f4796b0ca0e3f6e099eaf",
       "style": "IPY_MODEL_b4cf3005bebf4be1b1f697ef1975fd33",
       "value": 25
      }
     },
     "87c72cb7b42048f5866b5768dfda29e2": {
      "model_module": "@jupyter-widgets/base",
      "model_module_version": "1.0.0",
      "model_name": "LayoutModel",
      "state": {}
     },
     "88bbb80ccfaa4424838179de1f3f9168": {
      "model_module": "@jupyter-widgets/controls",
      "model_module_version": "1.0.0",
      "model_name": "SelectModel",
      "state": {
       "_options_labels": [
        "USA",
        "Russia"
       ],
       "description": "country",
       "index": 0,
       "layout": "IPY_MODEL_7c57cbac47144a63b7c90d535d2c7d0e",
       "style": "IPY_MODEL_0363d2efb136414fbcc4be980832ab8a"
      }
     },
     "8a651f0c990943e9915c83b689d45eb4": {
      "model_module": "@jupyter-widgets/controls",
      "model_module_version": "1.0.0",
      "model_name": "VBoxModel",
      "state": {
       "_dom_classes": [
        "widget-interact"
       ],
       "layout": "IPY_MODEL_925c1a82ed354d1c8ff570d30ab4511a"
      }
     },
     "8bc8e67502b7417dbd6996528ff21588": {
      "model_module": "@jupyter-widgets/controls",
      "model_module_version": "1.0.0",
      "model_name": "DescriptionStyleModel",
      "state": {
       "description_width": ""
      }
     },
     "8bca8f649b764e7aa7a3525a8c9da31d": {
      "model_module": "@jupyter-widgets/base",
      "model_module_version": "1.0.0",
      "model_name": "LayoutModel",
      "state": {}
     },
     "8ca2c59bd9b94a888bb011cea4633d3c": {
      "model_module": "@jupyter-widgets/controls",
      "model_module_version": "1.0.0",
      "model_name": "SliderStyleModel",
      "state": {
       "description_width": ""
      }
     },
     "8ca48e8fffd34b5d80f997ffd13a91b4": {
      "model_module": "@jupyter-widgets/controls",
      "model_module_version": "1.0.0",
      "model_name": "SliderStyleModel",
      "state": {
       "description_width": ""
      }
     },
     "8d115b6d6f904bfcb30a026bc2479c4e": {
      "model_module": "@jupyter-widgets/controls",
      "model_module_version": "1.0.0",
      "model_name": "DescriptionStyleModel",
      "state": {
       "description_width": ""
      }
     },
     "8d18a8bcaa5145679e03aef267b2948d": {
      "model_module": "@jupyter-widgets/base",
      "model_module_version": "1.0.0",
      "model_name": "LayoutModel",
      "state": {}
     },
     "8d6890620ab045e5b7e6e7a0893fa69c": {
      "model_module": "@jupyter-widgets/controls",
      "model_module_version": "1.0.0",
      "model_name": "VBoxModel",
      "state": {
       "_dom_classes": [
        "widget-interact"
       ],
       "children": [
        "IPY_MODEL_39c789788271401e85de3202e31260f0",
        "IPY_MODEL_7be24c3c6d2940e2950df2414207ab7a"
       ],
       "layout": "IPY_MODEL_80b703cdf7234e8cb0c7f7eed17946f6"
      }
     },
     "8e038c2de7464516be9dc39986a74e90": {
      "model_module": "@jupyter-widgets/controls",
      "model_module_version": "1.0.0",
      "model_name": "BoxModel",
      "state": {
       "children": [
        "IPY_MODEL_634aca379ff64ab78dacbb412236ce81",
        "IPY_MODEL_fe62a51a06a34adead2e4fc4809f9a3d"
       ],
       "layout": "IPY_MODEL_84866268d68743fb97bb74d273e8467b"
      }
     },
     "8ec82e8a28504f0d95482434fce483e4": {
      "model_module": "@jupyter-widgets/controls",
      "model_module_version": "1.0.0",
      "model_name": "VBoxModel",
      "state": {
       "_dom_classes": [
        "widget-interact"
       ],
       "children": [
        "IPY_MODEL_88bbb80ccfaa4424838179de1f3f9168",
        "IPY_MODEL_3fd4e71670674529bd79fc57cc55a717"
       ],
       "layout": "IPY_MODEL_584f822afccc4a1ea8738df2e627458b"
      }
     },
     "8fc2d8691ab047c6a39dd1ef40cad80c": {
      "model_module": "@jupyter-widgets/controls",
      "model_module_version": "1.0.0",
      "model_name": "ButtonModel",
      "state": {
       "description": "Update the graph",
       "layout": "IPY_MODEL_5b8ee31b5204462abfd20f3ffd1160b9",
       "style": "IPY_MODEL_b7bd94cd0d6a48f1a0301565e3cc06d3"
      }
     },
     "9050250b2e9b447aa62441c9d0365122": {
      "model_module": "@jupyter-widgets/controls",
      "model_module_version": "1.0.0",
      "model_name": "FloatSliderModel",
      "state": {
       "description": "Float (a)",
       "layout": "IPY_MODEL_87c72cb7b42048f5866b5768dfda29e2",
       "max": 10,
       "min": -10,
       "step": 0.1,
       "style": "IPY_MODEL_adc55442be7545c386719b6e99afc2c6",
       "value": 5
      }
     },
     "90752cae41ed44e8a773bb8df3371102": {
      "model_module": "@jupyter-widgets/base",
      "model_module_version": "1.0.0",
      "model_name": "LayoutModel",
      "state": {}
     },
     "908b9761ca9846a48cb16d75b8a0d7f9": {
      "model_module": "@jupyter-widgets/base",
      "model_module_version": "1.0.0",
      "model_name": "LayoutModel",
      "state": {}
     },
     "90b90891c65c4d3f92afc5a4fb8b7daa": {
      "model_module": "@jupyter-widgets/base",
      "model_module_version": "1.0.0",
      "model_name": "LayoutModel",
      "state": {}
     },
     "90d4d21015ba40ba8f8c4c981bbe14e3": {
      "model_module": "@jupyter-widgets/base",
      "model_module_version": "1.0.0",
      "model_name": "LayoutModel",
      "state": {}
     },
     "91ab8feecfda40a8ae7aedd6d050cee7": {
      "model_module": "@jupyter-widgets/controls",
      "model_module_version": "1.0.0",
      "model_name": "IntSliderModel",
      "state": {
       "description": "Range 1",
       "layout": "IPY_MODEL_4a9cfe7e55664d70bdea5255c8beceb2",
       "style": "IPY_MODEL_355862f986e147efb3e8d5f90768b407"
      }
     },
     "92097e12ee5f4748baaed14acced795e": {
      "model_module": "@jupyter-widgets/controls",
      "model_module_version": "1.0.0",
      "model_name": "ButtonModel",
      "state": {
       "description": "Update the graph",
       "layout": "IPY_MODEL_d033a470c1d249ba91d17622d905077e",
       "style": "IPY_MODEL_be0828ce682e493a846c43d031308f77"
      }
     },
     "9224f5c0c3384f829572a05ee0449629": {
      "model_module": "@jupyter-widgets/controls",
      "model_module_version": "1.0.0",
      "model_name": "VBoxModel",
      "state": {
       "_dom_classes": [
        "widget-interact"
       ],
       "children": [
        "IPY_MODEL_130336150c1f40c385bc59ea705541b7",
        "IPY_MODEL_f2d102fa57894c6b98ec7c068d274cff"
       ],
       "layout": "IPY_MODEL_9d857d8c442f400ba2c72bee88048884"
      }
     },
     "9247d400617f4e69a8c195941274fabc": {
      "model_module": "@jupyter-widgets/output",
      "model_module_version": "1.0.0",
      "model_name": "OutputModel",
      "state": {
       "layout": "IPY_MODEL_9f6f9b3d176d43a783dafed1e9d1c961"
      }
     },
     "925c1a82ed354d1c8ff570d30ab4511a": {
      "model_module": "@jupyter-widgets/base",
      "model_module_version": "1.0.0",
      "model_name": "LayoutModel",
      "state": {}
     },
     "92e3acf24eda47d4a4c5bc677e601151": {
      "model_module": "@jupyter-widgets/controls",
      "model_module_version": "1.0.0",
      "model_name": "LabelModel",
      "state": {
       "layout": "IPY_MODEL_c7deb3d7e8c44fbd8c8ecb668ca74a7e",
       "style": "IPY_MODEL_d1b20a75ea294bd8a35716c237181664",
       "value": "The values of range1 and range2 are synchronized"
      }
     },
     "936a81e5abf94c9882aee83bfd39c0ff": {
      "model_module": "@jupyter-widgets/controls",
      "model_module_version": "1.0.0",
      "model_name": "IntSliderModel",
      "state": {
       "description": "Range 1",
       "layout": "IPY_MODEL_e448db9b3b8748488752e05ce740234e",
       "style": "IPY_MODEL_47148bbba2184e69bfe89d6fad2c3342",
       "value": 65
      }
     },
     "93a23592d1634adf85fb17e8cf11ee77": {
      "model_module": "@jupyter-widgets/controls",
      "model_module_version": "1.0.0",
      "model_name": "ButtonModel",
      "state": {
       "description": "Update the graph",
       "layout": "IPY_MODEL_94323b804e344e6eae8aa908ba3641b9",
       "style": "IPY_MODEL_526ce3479eae4e5d8cdfabda4331a146"
      }
     },
     "93b8e53ce66a40c19894193ebde68c39": {
      "model_module": "@jupyter-widgets/controls",
      "model_module_version": "1.0.0",
      "model_name": "SliderStyleModel",
      "state": {
       "description_width": ""
      }
     },
     "93de9ef3fc224edaac9a7cf0002a9e6e": {
      "model_module": "@jupyter-widgets/base",
      "model_module_version": "1.0.0",
      "model_name": "LayoutModel",
      "state": {}
     },
     "941cf6cb0ab84c8ea42ba6b3fe23c1e2": {
      "model_module": "@jupyter-widgets/base",
      "model_module_version": "1.0.0",
      "model_name": "LayoutModel",
      "state": {}
     },
     "94323b804e344e6eae8aa908ba3641b9": {
      "model_module": "@jupyter-widgets/base",
      "model_module_version": "1.0.0",
      "model_name": "LayoutModel",
      "state": {}
     },
     "9438c490f46a4a7ab8ea53cb411bded0": {
      "model_module": "@jupyter-widgets/controls",
      "model_module_version": "1.0.0",
      "model_name": "IntSliderModel",
      "state": {
       "description": "Temp",
       "layout": "IPY_MODEL_6b6708be6f624153a241b9369abcd65a",
       "max": 10,
       "style": "IPY_MODEL_f10da1e5cd5346a78f9a7c86b941d227",
       "value": 5
      }
     },
     "950fe3c08a8f45a8b50c538f8fd77577": {
      "model_module": "@jupyter-widgets/controls",
      "model_module_version": "1.0.0",
      "model_name": "BoxModel",
      "state": {
       "children": [
        "IPY_MODEL_d76eaa47434e43c4a575fd953ee02b66",
        "IPY_MODEL_386154e98b24470a911c52d61593c8bf"
       ],
       "layout": "IPY_MODEL_5851191aab94497fbe7c2a99880e5d10"
      }
     },
     "95665ad6450646d285efc4b2192d63b4": {
      "model_module": "@jupyter-widgets/controls",
      "model_module_version": "1.0.0",
      "model_name": "IntSliderModel",
      "state": {
       "description": "p",
       "layout": "IPY_MODEL_7481cce4d65e4685a2e654f0b5510cb8",
       "max": 15,
       "min": -5,
       "style": "IPY_MODEL_8ca48e8fffd34b5d80f997ffd13a91b4",
       "value": 5
      }
     },
     "967d733e438c4e83ab17860c424ed055": {
      "model_module": "@jupyter-widgets/controls",
      "model_module_version": "1.0.0",
      "model_name": "DescriptionStyleModel",
      "state": {
       "description_width": ""
      }
     },
     "98505dc4611c4723af78ec600911a99a": {
      "model_module": "@jupyter-widgets/controls",
      "model_module_version": "1.0.0",
      "model_name": "IntSliderModel",
      "state": {
       "description": "Range 1",
       "layout": "IPY_MODEL_71746e9c3ec84957947ed3994a1c4e33",
       "style": "IPY_MODEL_6b7cb96ddf9042e1acee610fb869eb60",
       "value": 40
      }
     },
     "991f7fda3a2644e8b5ed34f1673faace": {
      "model_module": "@jupyter-widgets/controls",
      "model_module_version": "1.0.0",
      "model_name": "VBoxModel",
      "state": {
       "_dom_classes": [
        "widget-interact"
       ],
       "children": [
        "IPY_MODEL_68b4dfeacf2543ff923debd3bb3ce067",
        "IPY_MODEL_c2e7df73606b4e5dad2368846541767d"
       ],
       "layout": "IPY_MODEL_1109852db36a48b0999eaced45fc3932"
      }
     },
     "99bf2ada96064b219b237561ef9f8423": {
      "model_module": "@jupyter-widgets/controls",
      "model_module_version": "1.0.0",
      "model_name": "TextModel",
      "state": {
       "layout": "IPY_MODEL_a36924aa2261410faf2584981844d4b5",
       "style": "IPY_MODEL_4e1fb6d69b2946bb990b73b5e9bc19d5"
      }
     },
     "99ca857e407c4a8fa56c3fbf4c0adb28": {
      "model_module": "@jupyter-widgets/base",
      "model_module_version": "1.0.0",
      "model_name": "LayoutModel",
      "state": {}
     },
     "9a1064b6a25948e7af7eaac3f0eb5366": {
      "model_module": "@jupyter-widgets/controls",
      "model_module_version": "1.0.0",
      "model_name": "DescriptionStyleModel",
      "state": {
       "description_width": ""
      }
     },
     "9ac0efd919d84258925998c1110d410a": {
      "model_module": "@jupyter-widgets/output",
      "model_module_version": "1.0.0",
      "model_name": "OutputModel",
      "state": {
       "layout": "IPY_MODEL_d7d51c35187c490284811ee9802ba3b9",
       "outputs": [
        {
         "data": {
          "text/plain": "0"
         },
         "metadata": {},
         "output_type": "display_data"
        }
       ]
      }
     },
     "9b2ad66bbcbc47ae9363920fdcfd6bbb": {
      "model_module": "@jupyter-widgets/controls",
      "model_module_version": "1.0.0",
      "model_name": "DescriptionStyleModel",
      "state": {
       "description_width": ""
      }
     },
     "9b3596e6a105436ab2f59e0e93bf64fd": {
      "model_module": "@jupyter-widgets/output",
      "model_module_version": "1.0.0",
      "model_name": "OutputModel",
      "state": {
       "layout": "IPY_MODEL_b8b097de8434429fadf8ea5ddbddbf61"
      }
     },
     "9b86795bb4fe4b608cb03da6b0da348d": {
      "model_module": "@jupyter-widgets/base",
      "model_module_version": "1.0.0",
      "model_name": "LayoutModel",
      "state": {}
     },
     "9d857d8c442f400ba2c72bee88048884": {
      "model_module": "@jupyter-widgets/base",
      "model_module_version": "1.0.0",
      "model_name": "LayoutModel",
      "state": {}
     },
     "9dd16d5fda6745069d67b44239749322": {
      "model_module": "@jupyter-widgets/base",
      "model_module_version": "1.0.0",
      "model_name": "LayoutModel",
      "state": {}
     },
     "9e6889ec733f434fb400220164417a90": {
      "model_module": "@jupyter-widgets/base",
      "model_module_version": "1.0.0",
      "model_name": "LayoutModel",
      "state": {}
     },
     "9f3e2feeab9b4c88945a2df403ada0c4": {
      "model_module": "@jupyter-widgets/controls",
      "model_module_version": "1.0.0",
      "model_name": "IntSliderModel",
      "state": {
       "description": "p",
       "layout": "IPY_MODEL_4db5c6cd80194c569fa126726db60fc8",
       "max": 15,
       "min": -5,
       "style": "IPY_MODEL_ab7ae9775af840b990429542ec8e9670",
       "value": 5
      }
     },
     "9f60975822444ef99f1696e6ca1fbe7d": {
      "model_module": "@jupyter-widgets/base",
      "model_module_version": "1.0.0",
      "model_name": "LayoutModel",
      "state": {}
     },
     "9f6f9b3d176d43a783dafed1e9d1c961": {
      "model_module": "@jupyter-widgets/base",
      "model_module_version": "1.0.0",
      "model_name": "LayoutModel",
      "state": {}
     },
     "9f9e7a82e8704f178a388b831f98b8a0": {
      "model_module": "@jupyter-widgets/controls",
      "model_module_version": "1.0.0",
      "model_name": "CheckboxModel",
      "state": {
       "description": "z",
       "disabled": false,
       "layout": "IPY_MODEL_66ae5e75021e40fd9c23baaba665b1d9",
       "style": "IPY_MODEL_3c54c0f9313945d1bc232da7083b32af",
       "value": true
      }
     },
     "9fda9686b769433e944be7f663b35699": {
      "model_module": "@jupyter-widgets/base",
      "model_module_version": "1.0.0",
      "model_name": "LayoutModel",
      "state": {}
     },
     "a0ef89ea60e44333ade3178c0f6a05b1": {
      "model_module": "@jupyter-widgets/output",
      "model_module_version": "1.0.0",
      "model_name": "OutputModel",
      "state": {
       "layout": "IPY_MODEL_1e8bf0f6bcaa452caf6d606c36bc07d1"
      }
     },
     "a1fcfb4dae5e43419f7f40d0811d3266": {
      "model_module": "@jupyter-widgets/controls",
      "model_module_version": "1.0.0",
      "model_name": "TextModel",
      "state": {
       "description": "Domain to ping",
       "layout": "IPY_MODEL_36f4eb1c54e44354a263b0e0bceb25a3",
       "style": "IPY_MODEL_44eca7e579b847ddadd9803aef731cbd"
      }
     },
     "a25cb015c329409ba6e03df07cc642fd": {
      "model_module": "@jupyter-widgets/controls",
      "model_module_version": "1.0.0",
      "model_name": "BoxModel",
      "state": {
       "children": [
        "IPY_MODEL_42b9eb594f0f49098b45431357b1ff23",
        "IPY_MODEL_3925c7ad906948e1a73ddfd82dc5a682"
       ],
       "layout": "IPY_MODEL_5851191aab94497fbe7c2a99880e5d10"
      }
     },
     "a25f524ca627459fa16362325aa3977e": {
      "model_module": "@jupyter-widgets/output",
      "model_module_version": "1.0.0",
      "model_name": "OutputModel",
      "state": {
       "layout": "IPY_MODEL_dc7a95f639604cc0bb64010fc173beac",
       "outputs": [
        {
         "data": {
          "text/plain": "(5, 20)"
         },
         "metadata": {},
         "output_type": "display_data"
        }
       ]
      }
     },
     "a2c0366201e44ada9748642238383629": {
      "model_module": "@jupyter-widgets/controls",
      "model_module_version": "1.0.0",
      "model_name": "VBoxModel",
      "state": {
       "_dom_classes": [
        "widget-interact"
       ],
       "children": [
        "IPY_MODEL_0cf862c8c34e407eb6cd05d364467283",
        "IPY_MODEL_1847b8eb5795401ca761af37de7dba5f"
       ],
       "layout": "IPY_MODEL_5861c45ee33e4a1590049a919145efdb"
      }
     },
     "a2c2abec6df54a119fe0cf2cba4356ca": {
      "model_module": "@jupyter-widgets/controls",
      "model_module_version": "1.0.0",
      "model_name": "VBoxModel",
      "state": {
       "_dom_classes": [
        "widget-interact"
       ],
       "children": [
        "IPY_MODEL_3b5416a5dc304215b6bbf7bb4d14ccef",
        "IPY_MODEL_b55dd69d477543128296b87debb97108"
       ],
       "layout": "IPY_MODEL_2f700e416e1a41ef93dae733ab8faf34"
      }
     },
     "a36924aa2261410faf2584981844d4b5": {
      "model_module": "@jupyter-widgets/base",
      "model_module_version": "1.0.0",
      "model_name": "LayoutModel",
      "state": {}
     },
     "a4a246f1d8de43419e1d5e2d251c908c": {
      "model_module": "@jupyter-widgets/base",
      "model_module_version": "1.0.0",
      "model_name": "LayoutModel",
      "state": {}
     },
     "a51a61bb22114ab6ae0b7ca7308d9ce6": {
      "model_module": "@jupyter-widgets/base",
      "model_module_version": "1.0.0",
      "model_name": "LayoutModel",
      "state": {}
     },
     "a59c707f83284b4da4b3a43c8b39e3d0": {
      "model_module": "@jupyter-widgets/controls",
      "model_module_version": "1.0.0",
      "model_name": "IntSliderModel",
      "state": {
       "description": "p",
       "layout": "IPY_MODEL_b25e0420344b45c7bc0d92620318f1f3",
       "max": 15,
       "min": -5,
       "style": "IPY_MODEL_acbcf62211b94b1ca8000121ff79a343",
       "value": 5
      }
     },
     "a5d4bef7097a45b1a8fee8ed8f5bad2a": {
      "model_module": "@jupyter-widgets/controls",
      "model_module_version": "1.0.0",
      "model_name": "VBoxModel",
      "state": {
       "_dom_classes": [
        "widget-interact"
       ],
       "children": [
        "IPY_MODEL_56e715f6a3a24868806a60a3f2a2c70e",
        "IPY_MODEL_cd71e19c51fa4a00a3ba828ff0ab2beb"
       ],
       "layout": "IPY_MODEL_0785cdcc750c4398bac99a3a2edef8dc"
      }
     },
     "a6292081c22d483784c6cbe21e840dce": {
      "model_module": "@jupyter-widgets/controls",
      "model_module_version": "1.0.0",
      "model_name": "IntSliderModel",
      "state": {
       "continuous_update": false,
       "description": "Tbest:",
       "layout": "IPY_MODEL_d9b8b461f0c1455e9c1aef7797ff53a0",
       "max": 10,
       "style": "IPY_MODEL_4fa8d82b33ff44a6a0929544cfd35bb3",
       "value": 7
      }
     },
     "a6e128de29924a25b8b2b6237aae4f18": {
      "model_module": "@jupyter-widgets/controls",
      "model_module_version": "1.0.0",
      "model_name": "DropdownModel",
      "state": {
       "_options_labels": [
        "Scrambled",
        "Sunny side up",
        "Over easy"
       ],
       "index": 0,
       "layout": "IPY_MODEL_fcb1308767724e9ebe66ea1b005582fc",
       "style": "IPY_MODEL_df4a7495c3974970beb9e9aa50b16c57"
      }
     },
     "a890cd21f0274f9f868217dd0f462062": {
      "model_module": "@jupyter-widgets/output",
      "model_module_version": "1.0.0",
      "model_name": "OutputModel",
      "state": {
       "layout": "IPY_MODEL_17ddfa7a8211436696f7cfc7c251730d",
       "outputs": [
        {
         "data": {
          "text/plain": "(5, 200)"
         },
         "metadata": {},
         "output_type": "display_data"
        }
       ]
      }
     },
     "a90ac68ac8d6453d88e05bbc3280b75c": {
      "model_module": "@jupyter-widgets/controls",
      "model_module_version": "1.0.0",
      "model_name": "TextModel",
      "state": {
       "layout": "IPY_MODEL_e517067261a24200b3368e054dd49237",
       "style": "IPY_MODEL_861ad38deb3a4021b8e7d406c6d81028"
      }
     },
     "a95d71b0ddf8480d8637af1eeb212e1d": {
      "model_module": "@jupyter-widgets/controls",
      "model_module_version": "1.0.0",
      "model_name": "BoxModel",
      "state": {
       "children": [
        "IPY_MODEL_496b00532a3d400c931fcced8abc9b54",
        "IPY_MODEL_83c97c58450546c48cf2f4aae0ba3e91",
        "IPY_MODEL_ae5775a3e208443aa04837eb4564218b",
        "IPY_MODEL_8e038c2de7464516be9dc39986a74e90"
       ],
       "layout": "IPY_MODEL_c7a6114df9c34e4992a9e430e3a11982"
      }
     },
     "a978346cda9f4172aaf49968d20a35eb": {
      "model_module": "@jupyter-widgets/base",
      "model_module_version": "1.0.0",
      "model_name": "LayoutModel",
      "state": {}
     },
     "a9e55a7730a943b8988f5084f7a1b665": {
      "model_module": "@jupyter-widgets/base",
      "model_module_version": "1.0.0",
      "model_name": "LayoutModel",
      "state": {}
     },
     "aa02712e713440749ac004123d60317a": {
      "model_module": "@jupyter-widgets/controls",
      "model_module_version": "1.0.0",
      "model_name": "SliderStyleModel",
      "state": {
       "description_width": ""
      }
     },
     "aa2f99e0dbee46bda1d88c5af1aa2dc1": {
      "model_module": "@jupyter-widgets/output",
      "model_module_version": "1.0.0",
      "model_name": "OutputModel",
      "state": {
       "layout": "IPY_MODEL_304bb27164e3424e834736abadfede0e",
       "outputs": [
        {
         "data": {
          "text/html": "<h3>Arguments:</h3><table>\n<tr><td>Temp</td><td>5</td></tr>\n<tr><td>Current</td><td>2.7</td></tr>\n<tr><td>z</td><td>True</td></tr>\n<tr><td>Text</td><td>Type here!</td></tr>\n<tr><td>a</td><td>5.0</td></tr>\n</table>",
          "text/plain": "<IPython.core.display.HTML object>"
         },
         "metadata": {},
         "output_type": "display_data"
        }
       ]
      }
     },
     "aa8fb7b6a44d43379a0e310625535a17": {
      "model_module": "@jupyter-widgets/controls",
      "model_module_version": "1.0.0",
      "model_name": "DescriptionStyleModel",
      "state": {
       "description_width": ""
      }
     },
     "aaac15e617844219b7912f7b065e7240": {
      "model_module": "@jupyter-widgets/base",
      "model_module_version": "1.0.0",
      "model_name": "LayoutModel",
      "state": {}
     },
     "aab1ccbeb65c4339923a682db958800b": {
      "model_module": "@jupyter-widgets/controls",
      "model_module_version": "1.0.0",
      "model_name": "HBoxModel",
      "state": {
       "layout": "IPY_MODEL_8d18a8bcaa5145679e03aef267b2948d"
      }
     },
     "aaf54ceb239f48efb18c1c40520e01ae": {
      "model_module": "@jupyter-widgets/controls",
      "model_module_version": "1.0.0",
      "model_name": "LabelModel",
      "state": {
       "layout": "IPY_MODEL_aee07bdf00c4477786a501f8dcc91143",
       "style": "IPY_MODEL_7d7e116cd5834cb983ae61b69be0fe96",
       "value": "Age of the captain"
      }
     },
     "ab7ae9775af840b990429542ec8e9670": {
      "model_module": "@jupyter-widgets/controls",
      "model_module_version": "1.0.0",
      "model_name": "SliderStyleModel",
      "state": {
       "description_width": ""
      }
     },
     "ab859a5641084dac88224780ab6773bb": {
      "model_module": "@jupyter-widgets/controls",
      "model_module_version": "1.0.0",
      "model_name": "DescriptionStyleModel",
      "state": {
       "description_width": ""
      }
     },
     "abd41516f6624d47b0379aca70109222": {
      "model_module": "@jupyter-widgets/base",
      "model_module_version": "1.0.0",
      "model_name": "LayoutModel",
      "state": {}
     },
     "acbcf62211b94b1ca8000121ff79a343": {
      "model_module": "@jupyter-widgets/controls",
      "model_module_version": "1.0.0",
      "model_name": "SliderStyleModel",
      "state": {
       "description_width": ""
      }
     },
     "ad81cd2c841b47bcac699d7b1ea865bc": {
      "model_module": "@jupyter-widgets/base",
      "model_module_version": "1.0.0",
      "model_name": "LayoutModel",
      "state": {}
     },
     "adbb8568ac4743ffa0fb79fbfcfe1b64": {
      "model_module": "@jupyter-widgets/controls",
      "model_module_version": "1.0.0",
      "model_name": "VBoxModel",
      "state": {
       "_dom_classes": [
        "widget-interact"
       ],
       "children": [
        "IPY_MODEL_394b5583c77d4f7e940266f5d97f8a36",
        "IPY_MODEL_9ac0efd919d84258925998c1110d410a"
       ],
       "layout": "IPY_MODEL_14689ea780c8427b966331fa0f466d54"
      }
     },
     "adc55442be7545c386719b6e99afc2c6": {
      "model_module": "@jupyter-widgets/controls",
      "model_module_version": "1.0.0",
      "model_name": "SliderStyleModel",
      "state": {
       "description_width": ""
      }
     },
     "ae37e055b5944d7386b62551438e84f3": {
      "model_module": "@jupyter-widgets/base",
      "model_module_version": "1.0.0",
      "model_name": "LayoutModel",
      "state": {}
     },
     "ae5775a3e208443aa04837eb4564218b": {
      "model_module": "@jupyter-widgets/controls",
      "model_module_version": "1.0.0",
      "model_name": "BoxModel",
      "state": {
       "children": [
        "IPY_MODEL_29b3a2ffc96f43838a1b0c981ddd4084",
        "IPY_MODEL_06cdaadfb1d44fdb92fa71940c184502"
       ],
       "layout": "IPY_MODEL_84866268d68743fb97bb74d273e8467b"
      }
     },
     "aee07bdf00c4477786a501f8dcc91143": {
      "model_module": "@jupyter-widgets/base",
      "model_module_version": "1.0.0",
      "model_name": "LayoutModel",
      "state": {}
     },
     "af02cdcb7c3749dc8ab2f6a3721e0e86": {
      "model_module": "@jupyter-widgets/base",
      "model_module_version": "1.0.0",
      "model_name": "LayoutModel",
      "state": {}
     },
     "af1cd9c0a54c4ec08455a11a6f1de28d": {
      "model_module": "@jupyter-widgets/base",
      "model_module_version": "1.0.0",
      "model_name": "LayoutModel",
      "state": {}
     },
     "af564832057a4b06b3f63eada69d6208": {
      "model_module": "@jupyter-widgets/base",
      "model_module_version": "1.0.0",
      "model_name": "LayoutModel",
      "state": {}
     },
     "af67a034707f47e7bd58d2286dc3b147": {
      "model_module": "@jupyter-widgets/controls",
      "model_module_version": "1.0.0",
      "model_name": "IntSliderModel",
      "state": {
       "description": "Range 1",
       "layout": "IPY_MODEL_4a9a277d524449d7aec9855bfc07f253",
       "style": "IPY_MODEL_d45615ff43dd4997b44d06248c2ed4f7",
       "value": 25
      }
     },
     "affd37886bc84734b5b3a7f2d7d8be24": {
      "model_module": "@jupyter-widgets/base",
      "model_module_version": "1.0.0",
      "model_name": "LayoutModel",
      "state": {}
     },
     "b033ee8d9336471682291a35c760dffb": {
      "model_module": "@jupyter-widgets/base",
      "model_module_version": "1.0.0",
      "model_name": "LayoutModel",
      "state": {}
     },
     "b0749f43b22b4e94b0c7836322f72208": {
      "model_module": "@jupyter-widgets/base",
      "model_module_version": "1.0.0",
      "model_name": "LayoutModel",
      "state": {}
     },
     "b25e0420344b45c7bc0d92620318f1f3": {
      "model_module": "@jupyter-widgets/base",
      "model_module_version": "1.0.0",
      "model_name": "LayoutModel",
      "state": {}
     },
     "b33486b0e5c94a378606a1d34399672e": {
      "model_module": "@jupyter-widgets/controls",
      "model_module_version": "1.0.0",
      "model_name": "SliderStyleModel",
      "state": {
       "description_width": ""
      }
     },
     "b4262bd9464045d79ac77268b4a50911": {
      "model_module": "@jupyter-widgets/controls",
      "model_module_version": "1.0.0",
      "model_name": "DescriptionStyleModel",
      "state": {
       "description_width": ""
      }
     },
     "b438ddb49ae147ebb5bbc0e8fda3ccf1": {
      "model_module": "@jupyter-widgets/base",
      "model_module_version": "1.0.0",
      "model_name": "LayoutModel",
      "state": {}
     },
     "b444954dc0234d15aaa1b70d34b8d608": {
      "model_module": "@jupyter-widgets/controls",
      "model_module_version": "1.0.0",
      "model_name": "SliderStyleModel",
      "state": {
       "description_width": ""
      }
     },
     "b48b48ba033f4bb694ed0c9c5b7e6ec0": {
      "model_module": "@jupyter-widgets/controls",
      "model_module_version": "1.0.0",
      "model_name": "ButtonModel",
      "state": {
       "description": "Update the graph",
       "layout": "IPY_MODEL_b438ddb49ae147ebb5bbc0e8fda3ccf1",
       "style": "IPY_MODEL_25e0bcf9de0247fa8ff16dd107380563"
      }
     },
     "b4904275edad4c84b63a8f8a99bbe121": {
      "model_module": "@jupyter-widgets/base",
      "model_module_version": "1.0.0",
      "model_name": "LayoutModel",
      "state": {
       "align_items": "stretch",
       "border": "solid 2px",
       "display": "flex",
       "flex_flow": "column",
       "width": "50%"
      }
     },
     "b4cf3005bebf4be1b1f697ef1975fd33": {
      "model_module": "@jupyter-widgets/controls",
      "model_module_version": "1.0.0",
      "model_name": "SliderStyleModel",
      "state": {
       "description_width": ""
      }
     },
     "b4dbdf1097b448e2bbae6aa32e132616": {
      "model_module": "@jupyter-widgets/controls",
      "model_module_version": "1.0.0",
      "model_name": "IntSliderModel",
      "state": {
       "layout": "IPY_MODEL_7a466894175d482888c63ee82176036d",
       "max": 60,
       "min": 40,
       "style": "IPY_MODEL_1295e253cc804fc5b1ba62f7f15c5678",
       "value": 40
      }
     },
     "b55dd69d477543128296b87debb97108": {
      "model_module": "@jupyter-widgets/output",
      "model_module_version": "1.0.0",
      "model_name": "OutputModel",
      "state": {
       "layout": "IPY_MODEL_267d9483f54741038d41cf9a476e0cb4",
       "outputs": [
        {
         "name": "stdout",
         "output_type": "stream",
         "text": "CHI\n"
        }
       ]
      }
     },
     "b59288fc4ee94b79bdc5b676daeb1848": {
      "model_module": "@jupyter-widgets/base",
      "model_module_version": "1.0.0",
      "model_name": "LayoutModel",
      "state": {}
     },
     "b5d2beecd08d4190bd88674472e44bb7": {
      "model_module": "@jupyter-widgets/controls",
      "model_module_version": "1.0.0",
      "model_name": "ButtonModel",
      "state": {
       "description": "Run Interact",
       "layout": "IPY_MODEL_640e41f4007149a9bb774472726c4a44",
       "style": "IPY_MODEL_6e40d7511afc41efab9f1a7bf2e34e4f"
      }
     },
     "b5e49bf41bf84a1ca81582b9c66d2e64": {
      "model_module": "@jupyter-widgets/base",
      "model_module_version": "1.0.0",
      "model_name": "LayoutModel",
      "state": {}
     },
     "b6965f79af5642f2acb489a72277a0b1": {
      "model_module": "@jupyter-widgets/controls",
      "model_module_version": "1.0.0",
      "model_name": "DescriptionStyleModel",
      "state": {
       "description_width": ""
      }
     },
     "b6e75607375c4361b838b9d40342f90f": {
      "model_module": "@jupyter-widgets/controls",
      "model_module_version": "1.0.0",
      "model_name": "FloatSliderModel",
      "state": {
       "continuous_update": false,
       "description": "Test:",
       "layout": "IPY_MODEL_4d4f8f9050c247a290c90a57bd2e6785",
       "max": 10,
       "readout_format": ".1f",
       "step": 0.1,
       "style": "IPY_MODEL_6ee694125fbd4e769e51a9183b6050b5",
       "value": 7.5
      }
     },
     "b7bd94cd0d6a48f1a0301565e3cc06d3": {
      "model_module": "@jupyter-widgets/controls",
      "model_module_version": "1.0.0",
      "model_name": "ButtonStyleModel",
      "state": {}
     },
     "b8447288cc414e63a4e06d3152204c73": {
      "model_module": "@jupyter-widgets/controls",
      "model_module_version": "1.0.0",
      "model_name": "SliderStyleModel",
      "state": {
       "description_width": ""
      }
     },
     "b8b097de8434429fadf8ea5ddbddbf61": {
      "model_module": "@jupyter-widgets/base",
      "model_module_version": "1.0.0",
      "model_name": "LayoutModel",
      "state": {}
     },
     "b99d1ee92deb412bb250f9f6f6a491e3": {
      "model_module": "@jupyter-widgets/base",
      "model_module_version": "1.0.0",
      "model_name": "LayoutModel",
      "state": {}
     },
     "b9b8f0a82fd74a67abb17bcda75d7349": {
      "model_module": "@jupyter-widgets/base",
      "model_module_version": "1.0.0",
      "model_name": "LayoutModel",
      "state": {}
     },
     "bb1f6eab16c84f6bad49deabf25c8160": {
      "model_module": "@jupyter-widgets/controls",
      "model_module_version": "1.0.0",
      "model_name": "IntSliderModel",
      "state": {
       "description": "Range 2",
       "layout": "IPY_MODEL_51509eee92a24d329a282e708c81f3b7",
       "style": "IPY_MODEL_6927c310918e45689f6210643fd205f9"
      }
     },
     "bb8cc6e8faaf41a48dce9e1f334cbb9b": {
      "model_module": "@jupyter-widgets/output",
      "model_module_version": "1.0.0",
      "model_name": "OutputModel",
      "state": {
       "layout": "IPY_MODEL_e540620efb144b7e8b9683d281a5ec2a",
       "outputs": [
        {
         "data": {
          "text/plain": "30"
         },
         "metadata": {},
         "output_type": "display_data"
        }
       ]
      }
     },
     "bbaf4ca70a764eef92431025ac31ddc0": {
      "model_module": "@jupyter-widgets/controls",
      "model_module_version": "1.0.0",
      "model_name": "DescriptionStyleModel",
      "state": {
       "description_width": ""
      }
     },
     "bbde6cf72d0b4c5da39192cfd87351c3": {
      "model_module": "@jupyter-widgets/base",
      "model_module_version": "1.0.0",
      "model_name": "LayoutModel",
      "state": {}
     },
     "bc023e308a514b9d9269e27a904737ae": {
      "model_module": "@jupyter-widgets/controls",
      "model_module_version": "1.0.0",
      "model_name": "DescriptionStyleModel",
      "state": {
       "description_width": ""
      }
     },
     "bc0c0302051241c1867fc09efb5861e6": {
      "model_module": "@jupyter-widgets/base",
      "model_module_version": "1.0.0",
      "model_name": "LayoutModel",
      "state": {}
     },
     "bc64e7eb040b401892a020a67d57f27c": {
      "model_module": "@jupyter-widgets/controls",
      "model_module_version": "1.0.0",
      "model_name": "SliderStyleModel",
      "state": {
       "description_width": ""
      }
     },
     "bd3b20baf19944b2b681a24330121a16": {
      "model_module": "@jupyter-widgets/controls",
      "model_module_version": "1.0.0",
      "model_name": "BoxModel",
      "state": {
       "children": [
        "IPY_MODEL_5779ca6167b5444fbf8ff2cd48233b7c",
        "IPY_MODEL_30a6a7eb750c42b4a2c387d9613e63fa",
        "IPY_MODEL_cc9b4807d45743049e723542a20b25c2",
        "IPY_MODEL_4adbb2b746c148968709b909b58265db"
       ],
       "layout": "IPY_MODEL_10a64d211f2a49978c8300669074ebe3"
      }
     },
     "bd962e026b354cd6ab548d450afcc7d4": {
      "model_module": "@jupyter-widgets/controls",
      "model_module_version": "1.0.0",
      "model_name": "DescriptionStyleModel",
      "state": {
       "description_width": ""
      }
     },
     "be0828ce682e493a846c43d031308f77": {
      "model_module": "@jupyter-widgets/controls",
      "model_module_version": "1.0.0",
      "model_name": "ButtonStyleModel",
      "state": {}
     },
     "be1c188be60d4060b434eb071d7b9c00": {
      "model_module": "@jupyter-widgets/controls",
      "model_module_version": "1.0.0",
      "model_name": "DescriptionStyleModel",
      "state": {
       "description_width": ""
      }
     },
     "be249165745447a4bef9ce4cda0f9bf6": {
      "model_module": "@jupyter-widgets/output",
      "model_module_version": "1.0.0",
      "model_name": "OutputModel",
      "state": {
       "layout": "IPY_MODEL_7e6778e890a34170b387d6be2c0bc870",
       "outputs": [
        {
         "data": {
          "text/plain": "10"
         },
         "metadata": {},
         "output_type": "display_data"
        }
       ]
      }
     },
     "bee6ec808be9455581b4ac096e5265c3": {
      "model_module": "@jupyter-widgets/controls",
      "model_module_version": "1.0.0",
      "model_name": "TextModel",
      "state": {
       "layout": "IPY_MODEL_0e93d7373f6143dfaf1fd96611f14efd",
       "style": "IPY_MODEL_002f20d97b2b4b00958b181f33e8bd6d"
      }
     },
     "beff1a3e8c5c49b2964f45ec55b1af1e": {
      "model_module": "@jupyter-widgets/controls",
      "model_module_version": "1.0.0",
      "model_name": "SliderStyleModel",
      "state": {
       "description_width": ""
      }
     },
     "bfb8d234b5e546fb81a3274ddd9d680c": {
      "model_module": "@jupyter-widgets/base",
      "model_module_version": "1.0.0",
      "model_name": "LayoutModel",
      "state": {}
     },
     "c05aa4d159ed486885e5d0654bb9ff05": {
      "model_module": "@jupyter-widgets/controls",
      "model_module_version": "1.0.0",
      "model_name": "LabelModel",
      "state": {
       "layout": "IPY_MODEL_d623c4ccbfc24667b4c4127edd2c5018",
       "style": "IPY_MODEL_841bcab9f9204849bc2f2935539669af",
       "value": "The values of slider1 and slider2 are synchronized"
      }
     },
     "c05f1e7478854e0d98f07ee20427084a": {
      "model_module": "@jupyter-widgets/controls",
      "model_module_version": "1.0.0",
      "model_name": "FloatSliderModel",
      "state": {
       "continuous_update": false,
       "description": "Test:",
       "layout": "IPY_MODEL_affd37886bc84734b5b3a7f2d7d8be24",
       "max": 10,
       "readout_format": ".1f",
       "step": 0.1,
       "style": "IPY_MODEL_6ed23dca822849d2b90d331314e0d2f3",
       "value": 7.5
      }
     },
     "c0abe7706a4147a39d91d92fbcc35571": {
      "model_module": "@jupyter-widgets/controls",
      "model_module_version": "1.0.0",
      "model_name": "LinkModel",
      "state": {
       "source": [
        "IPY_MODEL_c8afa81805764d4093fcfe47ddecf737",
        "value"
       ],
       "target": [
        "IPY_MODEL_bb1f6eab16c84f6bad49deabf25c8160",
        "value"
       ]
      }
     },
     "c1be44adac534fbf911539b7fdefd686": {
      "model_module": "@jupyter-widgets/controls",
      "model_module_version": "1.0.0",
      "model_name": "VBoxModel",
      "state": {
       "_dom_classes": [
        "widget-interact"
       ],
       "children": [
        "IPY_MODEL_29bb417c666f4fc4b48fd4566dc37e15",
        "IPY_MODEL_bb8cc6e8faaf41a48dce9e1f334cbb9b"
       ],
       "layout": "IPY_MODEL_f8afcc2293f34c8881ae934629cac79f"
      }
     },
     "c2bc2afb931846a69c1c157c6c5b6235": {
      "model_module": "@jupyter-widgets/controls",
      "model_module_version": "1.0.0",
      "model_name": "FloatSliderModel",
      "state": {
       "description": "Float (a)",
       "layout": "IPY_MODEL_750720b3fffa4e5aa96f7af12ec040b2",
       "max": 10,
       "min": -10,
       "step": 0.1,
       "style": "IPY_MODEL_e6f2b1080f36479a88a730aa57a8fd7b",
       "value": 5
      }
     },
     "c2e7df73606b4e5dad2368846541767d": {
      "model_module": "@jupyter-widgets/output",
      "model_module_version": "1.0.0",
      "model_name": "OutputModel",
      "state": {
       "layout": "IPY_MODEL_2434afdfd00b45bb9796a509599cf5bb",
       "outputs": [
        {
         "name": "stdout",
         "output_type": "stream",
         "text": "CHI\n"
        }
       ]
      }
     },
     "c2f4e42f7fea412bb66af852d045f8ec": {
      "model_module": "@jupyter-widgets/controls",
      "model_module_version": "1.0.0",
      "model_name": "DescriptionStyleModel",
      "state": {
       "description_width": ""
      }
     },
     "c42c96e60f4b449ab86de2e189ea0065": {
      "model_module": "@jupyter-widgets/controls",
      "model_module_version": "1.0.0",
      "model_name": "SelectModel",
      "state": {
       "_options_labels": [
        "USA",
        "Russia"
       ],
       "description": "country",
       "index": 0,
       "layout": "IPY_MODEL_ec041c740d8a4883b6ca7135e646f416",
       "style": "IPY_MODEL_1855a3b0c6c64d4fb82d8abc74d5ecd2"
      }
     },
     "c434dab846bb4f1e9a344a5e28e1be83": {
      "model_module": "@jupyter-widgets/controls",
      "model_module_version": "1.0.0",
      "model_name": "DescriptionStyleModel",
      "state": {
       "description_width": ""
      }
     },
     "c46a5c64b7894903b2cccc5dbd2603ff": {
      "model_module": "@jupyter-widgets/base",
      "model_module_version": "1.0.0",
      "model_name": "LayoutModel",
      "state": {}
     },
     "c4ce1669787349908a93a8c3b8fc031c": {
      "model_module": "@jupyter-widgets/base",
      "model_module_version": "1.0.0",
      "model_name": "LayoutModel",
      "state": {}
     },
     "c64d83026935451eb659e3279c0e94ef": {
      "model_module": "@jupyter-widgets/controls",
      "model_module_version": "1.0.0",
      "model_name": "SelectModel",
      "state": {
       "_options_labels": [
        "CHI",
        "NYC"
       ],
       "description": "city",
       "index": 0,
       "layout": "IPY_MODEL_658b4e2b836a4ed3b58c2950df3a3449",
       "style": "IPY_MODEL_50cab84713084e1a84c260c1e48fa625"
      }
     },
     "c693c87556424b9dbe8684e7cb80d236": {
      "model_module": "@jupyter-widgets/controls",
      "model_module_version": "1.0.0",
      "model_name": "BoxModel",
      "state": {
       "children": [
        "IPY_MODEL_df739cdaeb5d4214b80d1493d3d27706",
        "IPY_MODEL_84e5f234598642ffb0f2edac0ae20838"
       ],
       "layout": "IPY_MODEL_5851191aab94497fbe7c2a99880e5d10"
      }
     },
     "c6a6b7cb3f0b429daeed03500195b5b0": {
      "model_module": "@jupyter-widgets/base",
      "model_module_version": "1.0.0",
      "model_name": "LayoutModel",
      "state": {}
     },
     "c6db90ce818b4d5eb5dcf8072b26eb33": {
      "model_module": "@jupyter-widgets/controls",
      "model_module_version": "1.0.0",
      "model_name": "VBoxModel",
      "state": {
       "_dom_classes": [
        "widget-interact"
       ],
       "children": [
        "IPY_MODEL_6ce940b832444869a2e08cb54b77961a",
        "IPY_MODEL_be249165745447a4bef9ce4cda0f9bf6"
       ],
       "layout": "IPY_MODEL_b99d1ee92deb412bb250f9f6f6a491e3"
      }
     },
     "c6efa60bd3a44c709e804d9e36b29bcf": {
      "model_module": "@jupyter-widgets/base",
      "model_module_version": "1.0.0",
      "model_name": "LayoutModel",
      "state": {}
     },
     "c7a6114df9c34e4992a9e430e3a11982": {
      "model_module": "@jupyter-widgets/base",
      "model_module_version": "1.0.0",
      "model_name": "LayoutModel",
      "state": {
       "align_items": "stretch",
       "border": "solid 2px",
       "display": "flex",
       "flex_flow": "column",
       "width": "50%"
      }
     },
     "c7deb3d7e8c44fbd8c8ecb668ca74a7e": {
      "model_module": "@jupyter-widgets/base",
      "model_module_version": "1.0.0",
      "model_name": "LayoutModel",
      "state": {}
     },
     "c7f8d3ac35e147cfb540773655834fa1": {
      "model_module": "@jupyter-widgets/controls",
      "model_module_version": "1.0.0",
      "model_name": "SliderStyleModel",
      "state": {
       "description_width": ""
      }
     },
     "c7f9144e29e2454cb14cf28efbd749d1": {
      "model_module": "@jupyter-widgets/base",
      "model_module_version": "1.0.0",
      "model_name": "LayoutModel",
      "state": {}
     },
     "c7ff581f6d884277ad11f22403be4695": {
      "model_module": "@jupyter-widgets/controls",
      "model_module_version": "1.0.0",
      "model_name": "IntSliderModel",
      "state": {
       "description": "Range 2",
       "layout": "IPY_MODEL_403773a601904538890bd4be5bc87a96",
       "style": "IPY_MODEL_188daf455b174804977b0e94c9bf68e7"
      }
     },
     "c813e40bb2d5478e8322af7f32c7730f": {
      "model_module": "@jupyter-widgets/controls",
      "model_module_version": "1.0.0",
      "model_name": "IntSliderModel",
      "state": {
       "continuous_update": false,
       "description": "Tbest:",
       "layout": "IPY_MODEL_56954ce1659741a08b3eea810f62d4b2",
       "max": 10,
       "style": "IPY_MODEL_75d4d65b4c4845d3abae3429ff232885",
       "value": 7
      }
     },
     "c8189fe86e95414b8bf7b5901a93ba59": {
      "model_module": "@jupyter-widgets/controls",
      "model_module_version": "1.0.0",
      "model_name": "LabelModel",
      "state": {
       "layout": "IPY_MODEL_0e8387c28d924846961dbd82e6ac36a0",
       "style": "IPY_MODEL_526cf4e75a0340d29e2081b3254f453c",
       "value": "Age of the captain"
      }
     },
     "c837f6c3ad474f078a8c6006935bb724": {
      "model_module": "@jupyter-widgets/output",
      "model_module_version": "1.0.0",
      "model_name": "OutputModel",
      "state": {
       "layout": "IPY_MODEL_421d7e2c2bc145908b854b4e1b514f52",
       "outputs": [
        {
         "data": {
          "text/html": "<h3>Arguments:</h3><table>\n<tr><td>Temp</td><td>5</td></tr>\n<tr><td>Current</td><td>5.0</td></tr>\n<tr><td>z</td><td>True</td></tr>\n<tr><td>Text</td><td>Type here!</td></tr>\n<tr><td>a</td><td>5.0</td></tr>\n</table>",
          "text/plain": "<IPython.core.display.HTML object>"
         },
         "metadata": {},
         "output_type": "display_data"
        }
       ]
      }
     },
     "c8afa81805764d4093fcfe47ddecf737": {
      "model_module": "@jupyter-widgets/controls",
      "model_module_version": "1.0.0",
      "model_name": "IntSliderModel",
      "state": {
       "description": "Range 1",
       "layout": "IPY_MODEL_ef644da6fccc44249579120e0228b353",
       "style": "IPY_MODEL_eccab059b6fb4132960d7519a25b769c"
      }
     },
     "c8e76d3bf1c9494b8c86c5b657d0cc58": {
      "model_module": "@jupyter-widgets/controls",
      "model_module_version": "1.0.0",
      "model_name": "HBoxModel",
      "state": {
       "layout": "IPY_MODEL_3073634bcc4845ae978677b8056c7a7a"
      }
     },
     "c8f7707912aa4fae8ab7ba660b706392": {
      "model_module": "@jupyter-widgets/controls",
      "model_module_version": "1.0.0",
      "model_name": "VBoxModel",
      "state": {
       "_dom_classes": [
        "widget-interact"
       ],
       "children": [
        "IPY_MODEL_57c399fb48314be59f581b01ec196eda",
        "IPY_MODEL_d8912a31a4f7401ebe1f033be6388708"
       ],
       "layout": "IPY_MODEL_442bd64d33f8456eb5336f0c63e32ed5"
      }
     },
     "c953739c3a3d4426af7694074d967af0": {
      "model_module": "@jupyter-widgets/base",
      "model_module_version": "1.0.0",
      "model_name": "LayoutModel",
      "state": {}
     },
     "ca0ab6abea7e40369449b4caa62d11c6": {
      "model_module": "@jupyter-widgets/base",
      "model_module_version": "1.0.0",
      "model_name": "LayoutModel",
      "state": {}
     },
     "ca537aa9fa3f47f0be0275080b0e37bd": {
      "model_module": "@jupyter-widgets/controls",
      "model_module_version": "1.0.0",
      "model_name": "SliderStyleModel",
      "state": {
       "description_width": ""
      }
     },
     "cb4e2504c8de47ad935fc2cc6057d59e": {
      "model_module": "@jupyter-widgets/controls",
      "model_module_version": "1.0.0",
      "model_name": "DescriptionStyleModel",
      "state": {
       "description_width": ""
      }
     },
     "cb5c631d59b24b858a4c3f27a7802a4e": {
      "model_module": "@jupyter-widgets/controls",
      "model_module_version": "1.0.0",
      "model_name": "DescriptionStyleModel",
      "state": {
       "description_width": ""
      }
     },
     "cbb953f9b23141e38d0c8b64bc130e58": {
      "model_module": "@jupyter-widgets/controls",
      "model_module_version": "1.0.0",
      "model_name": "IntSliderModel",
      "state": {
       "continuous_update": false,
       "description": "Test:",
       "layout": "IPY_MODEL_53bb7be1bffe4b848d652f1c62289f7e",
       "max": 10,
       "style": "IPY_MODEL_44a3356d65fb45509984302c62a03300",
       "value": 3
      }
     },
     "cbeae71588254f2a93ab155fa0a2fdb5": {
      "model_module": "@jupyter-widgets/controls",
      "model_module_version": "1.0.0",
      "model_name": "TextModel",
      "state": {
       "description": "Domain to ping",
       "layout": "IPY_MODEL_af02cdcb7c3749dc8ab2f6a3721e0e86",
       "style": "IPY_MODEL_66d38b7072204893adbbce5197c5337d"
      }
     },
     "cc351f909db64c50bf4ece3af41e1ac0": {
      "model_module": "@jupyter-widgets/base",
      "model_module_version": "1.0.0",
      "model_name": "LayoutModel",
      "state": {}
     },
     "cc9b4807d45743049e723542a20b25c2": {
      "model_module": "@jupyter-widgets/controls",
      "model_module_version": "1.0.0",
      "model_name": "BoxModel",
      "state": {
       "children": [
        "IPY_MODEL_e1f3c21fdc0743969eebb93f9b172276",
        "IPY_MODEL_efb03ada5cae4ca28b072afdecd11e29"
       ],
       "layout": "IPY_MODEL_39b759f5855c4ee5ab4ec2069eb45f51"
      }
     },
     "cccf405ead72442aa18392a766409ce2": {
      "model_module": "@jupyter-widgets/base",
      "model_module_version": "1.0.0",
      "model_name": "LayoutModel",
      "state": {}
     },
     "cd71e19c51fa4a00a3ba828ff0ab2beb": {
      "model_module": "@jupyter-widgets/output",
      "model_module_version": "1.0.0",
      "model_name": "OutputModel",
      "state": {
       "layout": "IPY_MODEL_74a9231af6e5420f89c1e8ce3a3dd0c1",
       "outputs": [
        {
         "ename": "NameError",
         "evalue": "name 'sin' is not defined",
         "output_type": "error",
         "traceback": [
          "\u001b[0;31m---------------------------------------------------------------------------\u001b[0m",
          "\u001b[0;31mNameError\u001b[0m                                 Traceback (most recent call last)",
          "\u001b[0;32m/anaconda3/lib/python3.6/site-packages/ipywidgets/widgets/interaction.py\u001b[0m in \u001b[0;36mupdate\u001b[0;34m(self, *args)\u001b[0m\n\u001b[1;32m    248\u001b[0m                     \u001b[0mvalue\u001b[0m \u001b[0;34m=\u001b[0m \u001b[0mwidget\u001b[0m\u001b[0;34m.\u001b[0m\u001b[0mget_interact_value\u001b[0m\u001b[0;34m(\u001b[0m\u001b[0;34m)\u001b[0m\u001b[0;34m\u001b[0m\u001b[0m\n\u001b[1;32m    249\u001b[0m                     \u001b[0mself\u001b[0m\u001b[0;34m.\u001b[0m\u001b[0mkwargs\u001b[0m\u001b[0;34m[\u001b[0m\u001b[0mwidget\u001b[0m\u001b[0;34m.\u001b[0m\u001b[0m_kwarg\u001b[0m\u001b[0;34m]\u001b[0m \u001b[0;34m=\u001b[0m \u001b[0mvalue\u001b[0m\u001b[0;34m\u001b[0m\u001b[0m\n\u001b[0;32m--> 250\u001b[0;31m                 \u001b[0mself\u001b[0m\u001b[0;34m.\u001b[0m\u001b[0mresult\u001b[0m \u001b[0;34m=\u001b[0m \u001b[0mself\u001b[0m\u001b[0;34m.\u001b[0m\u001b[0mf\u001b[0m\u001b[0;34m(\u001b[0m\u001b[0;34m**\u001b[0m\u001b[0mself\u001b[0m\u001b[0;34m.\u001b[0m\u001b[0mkwargs\u001b[0m\u001b[0;34m)\u001b[0m\u001b[0;34m\u001b[0m\u001b[0m\n\u001b[0m\u001b[1;32m    251\u001b[0m                 \u001b[0mshow_inline_matplotlib_plots\u001b[0m\u001b[0;34m(\u001b[0m\u001b[0;34m)\u001b[0m\u001b[0;34m\u001b[0m\u001b[0m\n\u001b[1;32m    252\u001b[0m                 \u001b[0;32mif\u001b[0m \u001b[0mself\u001b[0m\u001b[0;34m.\u001b[0m\u001b[0mauto_display\u001b[0m \u001b[0;32mand\u001b[0m \u001b[0mself\u001b[0m\u001b[0;34m.\u001b[0m\u001b[0mresult\u001b[0m \u001b[0;32mis\u001b[0m \u001b[0;32mnot\u001b[0m \u001b[0;32mNone\u001b[0m\u001b[0;34m:\u001b[0m\u001b[0;34m\u001b[0m\u001b[0m\n",
          "\u001b[0;32m<ipython-input-47-7b28e9f7157b>\u001b[0m in \u001b[0;36mpltsin\u001b[0;34m(f)\u001b[0m\n\u001b[1;32m      3\u001b[0m \u001b[0;34m\u001b[0m\u001b[0m\n\u001b[1;32m      4\u001b[0m \u001b[0;32mdef\u001b[0m \u001b[0mpltsin\u001b[0m\u001b[0;34m(\u001b[0m\u001b[0mf\u001b[0m\u001b[0;34m)\u001b[0m\u001b[0;34m:\u001b[0m\u001b[0;34m\u001b[0m\u001b[0m\n\u001b[0;32m----> 5\u001b[0;31m     \u001b[0mplt\u001b[0m\u001b[0;34m.\u001b[0m\u001b[0mplot\u001b[0m\u001b[0;34m(\u001b[0m\u001b[0mx\u001b[0m\u001b[0;34m,\u001b[0m\u001b[0msin\u001b[0m\u001b[0;34m(\u001b[0m\u001b[0;36m2\u001b[0m\u001b[0;34m*\u001b[0m\u001b[0mpi\u001b[0m\u001b[0;34m*\u001b[0m\u001b[0mt\u001b[0m\u001b[0;34m*\u001b[0m\u001b[0mf\u001b[0m\u001b[0;34m)\u001b[0m\u001b[0;34m)\u001b[0m\u001b[0;34m\u001b[0m\u001b[0m\n\u001b[0m\u001b[1;32m      6\u001b[0m     \u001b[0mplt\u001b[0m\u001b[0;34m.\u001b[0m\u001b[0mshow\u001b[0m\u001b[0;34m(\u001b[0m\u001b[0;34m)\u001b[0m\u001b[0;34m\u001b[0m\u001b[0m\n\u001b[1;32m      7\u001b[0m \u001b[0;34m\u001b[0m\u001b[0m\n",
          "\u001b[0;31mNameError\u001b[0m: name 'sin' is not defined"
         ]
        }
       ]
      }
     },
     "cdc0506fab454d87a4674f9f8c96bc1d": {
      "model_module": "@jupyter-widgets/controls",
      "model_module_version": "1.0.0",
      "model_name": "VBoxModel",
      "state": {
       "_dom_classes": [
        "widget-interact"
       ],
       "children": [
        "IPY_MODEL_a59c707f83284b4da4b3a43c8b39e3d0",
        "IPY_MODEL_25d74d9bc1654fed803a323fdc5c4dc3",
        "IPY_MODEL_a25f524ca627459fa16362325aa3977e"
       ],
       "layout": "IPY_MODEL_04c00a6f60cd4a18bd6e0f31f803ccbf"
      }
     },
     "ce323cc34d42488bae4cdd025105c6f9": {
      "model_module": "@jupyter-widgets/base",
      "model_module_version": "1.0.0",
      "model_name": "LayoutModel",
      "state": {}
     },
     "ce39c39829454385a2269e0cf6b50836": {
      "model_module": "@jupyter-widgets/base",
      "model_module_version": "1.0.0",
      "model_name": "LayoutModel",
      "state": {}
     },
     "cf1befa388f046b38299ededf937c330": {
      "model_module": "@jupyter-widgets/controls",
      "model_module_version": "1.0.0",
      "model_name": "LabelModel",
      "state": {
       "layout": "IPY_MODEL_908b9761ca9846a48cb16d75b8a0d7f9",
       "style": "IPY_MODEL_1e3edea85be74b068a153f379cb4cc2e",
       "value": "Information"
      }
     },
     "cf243836e52f42f79faf3665509f646f": {
      "model_module": "@jupyter-widgets/output",
      "model_module_version": "1.0.0",
      "model_name": "OutputModel",
      "state": {
       "layout": "IPY_MODEL_fc28401da5af48d8bc52d1706b54171e",
       "outputs": [
        {
         "data": {
          "text/plain": "(5, 200)"
         },
         "metadata": {},
         "output_type": "display_data"
        }
       ]
      }
     },
     "d01441ae040c41148c7e55bb2022d061": {
      "model_module": "@jupyter-widgets/output",
      "model_module_version": "1.0.0",
      "model_name": "OutputModel",
      "state": {
       "layout": "IPY_MODEL_4b762c2f724245e39c65671e1e56cc7b",
       "outputs": [
        {
         "data": {
          "text/plain": "10"
         },
         "metadata": {},
         "output_type": "display_data"
        }
       ]
      }
     },
     "d033a470c1d249ba91d17622d905077e": {
      "model_module": "@jupyter-widgets/base",
      "model_module_version": "1.0.0",
      "model_name": "LayoutModel",
      "state": {}
     },
     "d106dddfa110455894e3a293980fa371": {
      "model_module": "@jupyter-widgets/base",
      "model_module_version": "1.0.0",
      "model_name": "LayoutModel",
      "state": {}
     },
     "d18b2f6b179b451eb7eaa53ce0e47b3a": {
      "model_module": "@jupyter-widgets/base",
      "model_module_version": "1.0.0",
      "model_name": "LayoutModel",
      "state": {}
     },
     "d1b20a75ea294bd8a35716c237181664": {
      "model_module": "@jupyter-widgets/controls",
      "model_module_version": "1.0.0",
      "model_name": "DescriptionStyleModel",
      "state": {
       "description_width": ""
      }
     },
     "d223ee3b259b4fb1900643d6a749f2bc": {
      "model_module": "@jupyter-widgets/controls",
      "model_module_version": "1.0.0",
      "model_name": "LabelModel",
      "state": {
       "layout": "IPY_MODEL_57f0f6d67b674cb7924867f8acd25856",
       "style": "IPY_MODEL_58e1e18bb060431f86e229cbf7178bbd",
       "value": "The values of range1 and range2 are synchronized"
      }
     },
     "d45615ff43dd4997b44d06248c2ed4f7": {
      "model_module": "@jupyter-widgets/controls",
      "model_module_version": "1.0.0",
      "model_name": "SliderStyleModel",
      "state": {
       "description_width": ""
      }
     },
     "d4e705cfa66d44adbb35b9785b0e3172": {
      "model_module": "@jupyter-widgets/controls",
      "model_module_version": "1.0.0",
      "model_name": "SliderStyleModel",
      "state": {
       "description_width": ""
      }
     },
     "d56f881e3fcd422485f1bc99e83fd85b": {
      "model_module": "@jupyter-widgets/controls",
      "model_module_version": "1.0.0",
      "model_name": "DescriptionStyleModel",
      "state": {
       "description_width": ""
      }
     },
     "d59d283ee4fa4f95867b1cc5a22a1a45": {
      "model_module": "@jupyter-widgets/base",
      "model_module_version": "1.0.0",
      "model_name": "LayoutModel",
      "state": {}
     },
     "d618bd8f06a347e4aebc37f13a70f196": {
      "model_module": "@jupyter-widgets/controls",
      "model_module_version": "1.0.0",
      "model_name": "IntSliderModel",
      "state": {
       "description": "Slider 1",
       "layout": "IPY_MODEL_51ec56dcbf5e48f5a9c30dee29d2153b",
       "style": "IPY_MODEL_b33486b0e5c94a378606a1d34399672e"
      }
     },
     "d623c4ccbfc24667b4c4127edd2c5018": {
      "model_module": "@jupyter-widgets/base",
      "model_module_version": "1.0.0",
      "model_name": "LayoutModel",
      "state": {}
     },
     "d66dcc73496841da8d8665b05f00d223": {
      "model_module": "@jupyter-widgets/base",
      "model_module_version": "1.0.0",
      "model_name": "LayoutModel",
      "state": {}
     },
     "d688d7ab9a30408984765a50a8c71c04": {
      "model_module": "@jupyter-widgets/controls",
      "model_module_version": "1.0.0",
      "model_name": "VBoxModel",
      "state": {
       "_dom_classes": [
        "widget-interact"
       ],
       "children": [
        "IPY_MODEL_00eedd2389284a4f969bf6b24aa0e22f",
        "IPY_MODEL_9247d400617f4e69a8c195941274fabc"
       ],
       "layout": "IPY_MODEL_d7acef26ba0a4d18a137bb462af35afe"
      }
     },
     "d6bd67f7d1ff401cad6b5327a9ed2eac": {
      "model_module": "@jupyter-widgets/controls",
      "model_module_version": "1.0.0",
      "model_name": "VBoxModel",
      "state": {
       "_dom_classes": [
        "widget-interact"
       ],
       "children": [
        "IPY_MODEL_e8dccc23645b4f5797ba3b09a4dd3060",
        "IPY_MODEL_f8c831421d994405b63067859c5c0173"
       ],
       "layout": "IPY_MODEL_90752cae41ed44e8a773bb8df3371102"
      }
     },
     "d72d0c678da94cbabdf984598b6ce5a9": {
      "model_module": "@jupyter-widgets/controls",
      "model_module_version": "1.0.0",
      "model_name": "VBoxModel",
      "state": {
       "_dom_classes": [
        "widget-interact"
       ],
       "children": [
        "IPY_MODEL_e1c7f185fdba4c308a2beec6b1ec1843",
        "IPY_MODEL_a0ef89ea60e44333ade3178c0f6a05b1"
       ],
       "layout": "IPY_MODEL_5325c15a76594b44bf0521aee9fee3fb"
      }
     },
     "d76eaa47434e43c4a575fd953ee02b66": {
      "model_module": "@jupyter-widgets/controls",
      "model_module_version": "1.0.0",
      "model_name": "LabelModel",
      "state": {
       "layout": "IPY_MODEL_8bca8f649b764e7aa7a3525a8c9da31d",
       "style": "IPY_MODEL_9a1064b6a25948e7af7eaac3f0eb5366",
       "value": "Age of the captain"
      }
     },
     "d7acef26ba0a4d18a137bb462af35afe": {
      "model_module": "@jupyter-widgets/base",
      "model_module_version": "1.0.0",
      "model_name": "LayoutModel",
      "state": {}
     },
     "d7d51c35187c490284811ee9802ba3b9": {
      "model_module": "@jupyter-widgets/base",
      "model_module_version": "1.0.0",
      "model_name": "LayoutModel",
      "state": {}
     },
     "d8429c0653b5442eb4162166f4597963": {
      "model_module": "@jupyter-widgets/base",
      "model_module_version": "1.0.0",
      "model_name": "LayoutModel",
      "state": {}
     },
     "d8912a31a4f7401ebe1f033be6388708": {
      "model_module": "@jupyter-widgets/output",
      "model_module_version": "1.0.0",
      "model_name": "OutputModel",
      "state": {
       "layout": "IPY_MODEL_489fe5814a634fe9ba77c6c899ee1841",
       "outputs": [
        {
         "data": {
          "text/plain": "10"
         },
         "metadata": {},
         "output_type": "display_data"
        }
       ]
      }
     },
     "d97dde8499c1494fbe590392a9978203": {
      "model_module": "@jupyter-widgets/controls",
      "model_module_version": "1.0.0",
      "model_name": "DescriptionStyleModel",
      "state": {
       "description_width": ""
      }
     },
     "d9a322e690394526b62eada6889811ca": {
      "model_module": "@jupyter-widgets/controls",
      "model_module_version": "1.0.0",
      "model_name": "LabelModel",
      "state": {
       "layout": "IPY_MODEL_7ad09bd85b214ef6908f9a6e56a1e385",
       "style": "IPY_MODEL_64abdc0c859b4194b07225bfd69f99b6",
       "value": "The values of range1 and range2 are synchronized"
      }
     },
     "d9b8b461f0c1455e9c1aef7797ff53a0": {
      "model_module": "@jupyter-widgets/base",
      "model_module_version": "1.0.0",
      "model_name": "LayoutModel",
      "state": {}
     },
     "da107328219540dbb57ccc62ac8941c8": {
      "model_module": "@jupyter-widgets/controls",
      "model_module_version": "1.0.0",
      "model_name": "VBoxModel",
      "state": {
       "_dom_classes": [
        "widget-interact"
       ],
       "children": [
        "IPY_MODEL_936a81e5abf94c9882aee83bfd39c0ff",
        "IPY_MODEL_3612235cd4ea4c6798cebe0913ad13b0"
       ],
       "layout": "IPY_MODEL_e09806b02177427e8949df562937cdc8"
      }
     },
     "da3d852ddd934b419bea3f1e3d52c8d8": {
      "model_module": "@jupyter-widgets/base",
      "model_module_version": "1.0.0",
      "model_name": "LayoutModel",
      "state": {}
     },
     "da453d3a2ceb4c19a60be897db6e4522": {
      "model_module": "@jupyter-widgets/base",
      "model_module_version": "1.0.0",
      "model_name": "LayoutModel",
      "state": {}
     },
     "da9271e13ae240cda73f29f363cf7950": {
      "model_module": "@jupyter-widgets/controls",
      "model_module_version": "1.0.0",
      "model_name": "IntSliderModel",
      "state": {
       "continuous_update": false,
       "description": "Tbest:",
       "layout": "IPY_MODEL_7c31b7ea5d62491e8c52cab019df9306",
       "max": 10,
       "style": "IPY_MODEL_487a73234d2a4352a5943dd90d9ff4f9",
       "value": 4
      }
     },
     "dae9c0e24edc4ea596397b93968899ab": {
      "model_module": "@jupyter-widgets/controls",
      "model_module_version": "1.0.0",
      "model_name": "VBoxModel",
      "state": {
       "_dom_classes": [
        "widget-interact"
       ],
       "children": [
        "IPY_MODEL_e085287e33394476ab53b2bfcbbb7856",
        "IPY_MODEL_7cdaa790477546ca92caa9a5877a8634"
       ],
       "layout": "IPY_MODEL_c7f9144e29e2454cb14cf28efbd749d1"
      }
     },
     "db28eccc9dee4c4ca31a22d7ad351418": {
      "model_module": "@jupyter-widgets/controls",
      "model_module_version": "1.0.0",
      "model_name": "TextModel",
      "state": {
       "layout": "IPY_MODEL_40fdafe5025e47819ae6503f0a8bd3a2",
       "style": "IPY_MODEL_576b39a33f5a4aa1b7848e403e51b2fd"
      }
     },
     "dbff5a0fd5df45bf8d3250fb305c6f67": {
      "model_module": "@jupyter-widgets/base",
      "model_module_version": "1.0.0",
      "model_name": "LayoutModel",
      "state": {}
     },
     "dc0b32c5a93246adbc20a858a581b6e5": {
      "model_module": "@jupyter-widgets/controls",
      "model_module_version": "1.0.0",
      "model_name": "DescriptionStyleModel",
      "state": {
       "description_width": ""
      }
     },
     "dc7a95f639604cc0bb64010fc173beac": {
      "model_module": "@jupyter-widgets/base",
      "model_module_version": "1.0.0",
      "model_name": "LayoutModel",
      "state": {}
     },
     "dca49f9b0c2a49c7b2f399cd9746f45c": {
      "model_module": "@jupyter-widgets/controls",
      "model_module_version": "1.0.0",
      "model_name": "BoxModel",
      "state": {
       "children": [
        "IPY_MODEL_950fe3c08a8f45a8b50c538f8fd77577",
        "IPY_MODEL_7b8992a20a804ebc8bb3d2004fa56613",
        "IPY_MODEL_a25cb015c329409ba6e03df07cc642fd",
        "IPY_MODEL_c693c87556424b9dbe8684e7cb80d236"
       ],
       "layout": "IPY_MODEL_b4904275edad4c84b63a8f8a99bbe121"
      }
     },
     "dd6a97d3e7584474a08276f4c82b8456": {
      "model_module": "@jupyter-widgets/base",
      "model_module_version": "1.0.0",
      "model_name": "LayoutModel",
      "state": {}
     },
     "dd6f7af3419d4376836bd545be19de40": {
      "model_module": "@jupyter-widgets/output",
      "model_module_version": "1.0.0",
      "model_name": "OutputModel",
      "state": {
       "layout": "IPY_MODEL_49896c57958a463aab57c7dc8260abcc",
       "outputs": [
        {
         "data": {
          "text/plain": "10"
         },
         "metadata": {},
         "output_type": "display_data"
        }
       ]
      }
     },
     "dda806b2a76e42139685a437b8ac1236": {
      "model_module": "@jupyter-widgets/base",
      "model_module_version": "1.0.0",
      "model_name": "LayoutModel",
      "state": {}
     },
     "de121ea704bc46cca54d864f8a0d62e4": {
      "model_module": "@jupyter-widgets/controls",
      "model_module_version": "1.0.0",
      "model_name": "TextModel",
      "state": {
       "description": "Domain to ping",
       "layout": "IPY_MODEL_231bf12285db47eb9d92a7cc576fd8f4",
       "style": "IPY_MODEL_431e7caa13ba4ebcade1efadac28aa6a",
       "value": "bing.com"
      }
     },
     "deb4fa3a9bd249058b4799055d0d74d8": {
      "model_module": "@jupyter-widgets/controls",
      "model_module_version": "1.0.0",
      "model_name": "FloatSliderModel",
      "state": {
       "description": "i",
       "layout": "IPY_MODEL_7c3d46eeb42948569403fa115f5ddfb3",
       "max": 10000000,
       "min": 100000,
       "step": 100000,
       "style": "IPY_MODEL_24f108b108674a3baadd91e20cd61b09",
       "value": 4400000
      }
     },
     "ded88a548db640d2af3cf41e5a9ec7c8": {
      "model_module": "@jupyter-widgets/base",
      "model_module_version": "1.0.0",
      "model_name": "LayoutModel",
      "state": {}
     },
     "df4a7495c3974970beb9e9aa50b16c57": {
      "model_module": "@jupyter-widgets/controls",
      "model_module_version": "1.0.0",
      "model_name": "DescriptionStyleModel",
      "state": {
       "description_width": ""
      }
     },
     "df739cdaeb5d4214b80d1493d3d27706": {
      "model_module": "@jupyter-widgets/controls",
      "model_module_version": "1.0.0",
      "model_name": "LabelModel",
      "state": {
       "layout": "IPY_MODEL_93de9ef3fc224edaac9a7cf0002a9e6e",
       "style": "IPY_MODEL_dc0b32c5a93246adbc20a858a581b6e5",
       "value": "Information"
      }
     },
     "df785d6f1f14464598f85335e3544f93": {
      "model_module": "@jupyter-widgets/controls",
      "model_module_version": "1.0.0",
      "model_name": "LabelModel",
      "state": {
       "layout": "IPY_MODEL_ea020adc7406457092e510002cfc0448",
       "style": "IPY_MODEL_9b2ad66bbcbc47ae9363920fdcfd6bbb",
       "value": "The values of range1 and range2 are synchronized"
      }
     },
     "df931a86a77740a18110284773f08ff2": {
      "model_module": "@jupyter-widgets/controls",
      "model_module_version": "1.0.0",
      "model_name": "SliderStyleModel",
      "state": {
       "description_width": ""
      }
     },
     "e0665599985543e996c1d05183dacd9b": {
      "model_module": "@jupyter-widgets/controls",
      "model_module_version": "1.0.0",
      "model_name": "SliderStyleModel",
      "state": {
       "description_width": ""
      }
     },
     "e069bdcfa4bd4ae89f871d5760c3b7d3": {
      "model_module": "@jupyter-widgets/base",
      "model_module_version": "1.0.0",
      "model_name": "LayoutModel",
      "state": {}
     },
     "e085287e33394476ab53b2bfcbbb7856": {
      "model_module": "@jupyter-widgets/controls",
      "model_module_version": "1.0.0",
      "model_name": "IntSliderModel",
      "state": {
       "description": "x",
       "layout": "IPY_MODEL_3bceee0145e14390a44bea1bea2aecda",
       "max": 30,
       "min": -10,
       "style": "IPY_MODEL_5d924d7ef07e4ed49c6e267eea3859a1",
       "value": 6
      }
     },
     "e09806b02177427e8949df562937cdc8": {
      "model_module": "@jupyter-widgets/base",
      "model_module_version": "1.0.0",
      "model_name": "LayoutModel",
      "state": {}
     },
     "e1b93132719c4bef860f93e08637910b": {
      "model_module": "@jupyter-widgets/base",
      "model_module_version": "1.0.0",
      "model_name": "LayoutModel",
      "state": {}
     },
     "e1c7f185fdba4c308a2beec6b1ec1843": {
      "model_module": "@jupyter-widgets/controls",
      "model_module_version": "1.0.0",
      "model_name": "SelectModel",
      "state": {
       "_options_labels": [
        "USA",
        "Russia"
       ],
       "description": "country",
       "index": 1,
       "layout": "IPY_MODEL_c953739c3a3d4426af7694074d967af0",
       "style": "IPY_MODEL_1d4fb44eae8b43a383e30ef4cac2c7fe"
      }
     },
     "e1f3c21fdc0743969eebb93f9b172276": {
      "model_module": "@jupyter-widgets/controls",
      "model_module_version": "1.0.0",
      "model_name": "LabelModel",
      "state": {
       "layout": "IPY_MODEL_d106dddfa110455894e3a293980fa371",
       "style": "IPY_MODEL_8d115b6d6f904bfcb30a026bc2479c4e",
       "value": "Ship size"
      }
     },
     "e258f2ca474048acb4a3eae4e08c777b": {
      "model_module": "@jupyter-widgets/base",
      "model_module_version": "1.0.0",
      "model_name": "LayoutModel",
      "state": {}
     },
     "e2e7d70607d5447bbb6f9a6befcf1c1d": {
      "model_module": "@jupyter-widgets/controls",
      "model_module_version": "1.0.0",
      "model_name": "SliderStyleModel",
      "state": {
       "description_width": ""
      }
     },
     "e38329d63d3040b0a68c2eb0f3015fb6": {
      "model_module": "@jupyter-widgets/controls",
      "model_module_version": "1.0.0",
      "model_name": "VBoxModel",
      "state": {
       "_dom_classes": [
        "widget-interact"
       ],
       "children": [
        "IPY_MODEL_5885d0e6e78f45f181fe70523516b71e",
        "IPY_MODEL_753975d7931e45499c89c5484d89333a"
       ],
       "layout": "IPY_MODEL_9e6889ec733f434fb400220164417a90"
      }
     },
     "e448db9b3b8748488752e05ce740234e": {
      "model_module": "@jupyter-widgets/base",
      "model_module_version": "1.0.0",
      "model_name": "LayoutModel",
      "state": {}
     },
     "e517067261a24200b3368e054dd49237": {
      "model_module": "@jupyter-widgets/base",
      "model_module_version": "1.0.0",
      "model_name": "LayoutModel",
      "state": {}
     },
     "e540620efb144b7e8b9683d281a5ec2a": {
      "model_module": "@jupyter-widgets/base",
      "model_module_version": "1.0.0",
      "model_name": "LayoutModel",
      "state": {}
     },
     "e6f2b1080f36479a88a730aa57a8fd7b": {
      "model_module": "@jupyter-widgets/controls",
      "model_module_version": "1.0.0",
      "model_name": "SliderStyleModel",
      "state": {
       "description_width": ""
      }
     },
     "e6fa213661f5457cac2e259b1723b572": {
      "model_module": "@jupyter-widgets/controls",
      "model_module_version": "1.0.0",
      "model_name": "VBoxModel",
      "state": {
       "_dom_classes": [
        "widget-interact"
       ],
       "layout": "IPY_MODEL_1cff741b586944edb3248322099935c1"
      }
     },
     "e7eb6473a4384b838464fd3640805395": {
      "model_module": "@jupyter-widgets/base",
      "model_module_version": "1.0.0",
      "model_name": "LayoutModel",
      "state": {}
     },
     "e853b7773f0b4d56a1137caaef2aa191": {
      "model_module": "@jupyter-widgets/controls",
      "model_module_version": "1.0.0",
      "model_name": "IntSliderModel",
      "state": {
       "description": "Temp",
       "layout": "IPY_MODEL_b033ee8d9336471682291a35c760dffb",
       "max": 10,
       "style": "IPY_MODEL_733d219a3bc145b1b29ca6ae183ef126",
       "value": 5
      }
     },
     "e8dccc23645b4f5797ba3b09a4dd3060": {
      "model_module": "@jupyter-widgets/controls",
      "model_module_version": "1.0.0",
      "model_name": "IntSliderModel",
      "state": {
       "continuous_update": false,
       "description": "Tbest:",
       "layout": "IPY_MODEL_d59d283ee4fa4f95867b1cc5a22a1a45",
       "max": 10,
       "style": "IPY_MODEL_1174d9d63ed445ac9538352b11c3f4cc",
       "value": 7
      }
     },
     "e91f2484e2fe4ca49b1e57a57b482e58": {
      "model_module": "@jupyter-widgets/controls",
      "model_module_version": "1.0.0",
      "model_name": "VBoxModel",
      "state": {
       "_dom_classes": [
        "widget-interact"
       ],
       "children": [
        "IPY_MODEL_9f3e2feeab9b4c88945a2df403ada0c4",
        "IPY_MODEL_cf243836e52f42f79faf3665509f646f"
       ],
       "layout": "IPY_MODEL_4843395f8ab949568336a796df40c31b"
      }
     },
     "ea020adc7406457092e510002cfc0448": {
      "model_module": "@jupyter-widgets/base",
      "model_module_version": "1.0.0",
      "model_name": "LayoutModel",
      "state": {}
     },
     "ebd3d7cf76834bd6a74c7c33948f985f": {
      "model_module": "@jupyter-widgets/base",
      "model_module_version": "1.0.0",
      "model_name": "LayoutModel",
      "state": {}
     },
     "ec041c740d8a4883b6ca7135e646f416": {
      "model_module": "@jupyter-widgets/base",
      "model_module_version": "1.0.0",
      "model_name": "LayoutModel",
      "state": {}
     },
     "eccab059b6fb4132960d7519a25b769c": {
      "model_module": "@jupyter-widgets/controls",
      "model_module_version": "1.0.0",
      "model_name": "SliderStyleModel",
      "state": {
       "description_width": ""
      }
     },
     "ed4a8f335db34ae8b1f13f6408c37ff8": {
      "model_module": "@jupyter-widgets/controls",
      "model_module_version": "1.0.0",
      "model_name": "IntSliderModel",
      "state": {
       "continuous_update": false,
       "description": "Test:",
       "layout": "IPY_MODEL_677500297aa842738ce2ea20abc9c7af",
       "max": 10,
       "style": "IPY_MODEL_8583de35f00e4219b31651fae5065607",
       "value": 7
      }
     },
     "eec2de4c4add4020896e9145b74d22ca": {
      "model_module": "@jupyter-widgets/controls",
      "model_module_version": "1.0.0",
      "model_name": "TextModel",
      "state": {
       "layout": "IPY_MODEL_fbb759c6b00248108c9135206952dfab",
       "style": "IPY_MODEL_d97dde8499c1494fbe590392a9978203"
      }
     },
     "eee8018eda8941aaa7b0d4366dcb4abc": {
      "model_module": "@jupyter-widgets/controls",
      "model_module_version": "1.0.0",
      "model_name": "TextModel",
      "state": {
       "layout": "IPY_MODEL_6936f03b090e45abae4be30d257ab820",
       "style": "IPY_MODEL_494d5b4629b04adf9d465fa7391e238b"
      }
     },
     "ef644da6fccc44249579120e0228b353": {
      "model_module": "@jupyter-widgets/base",
      "model_module_version": "1.0.0",
      "model_name": "LayoutModel",
      "state": {}
     },
     "efb03ada5cae4ca28b072afdecd11e29": {
      "model_module": "@jupyter-widgets/controls",
      "model_module_version": "1.0.0",
      "model_name": "FloatTextModel",
      "state": {
       "layout": "IPY_MODEL_02aed655931d4797a528290bf1f41093",
       "step": null,
       "style": "IPY_MODEL_20f2d778a82849c08ff4d05783fa799f"
      }
     },
     "f05ca5f65ba74f01a2e8826b31e7578b": {
      "model_module": "@jupyter-widgets/controls",
      "model_module_version": "1.0.0",
      "model_name": "VBoxModel",
      "state": {
       "_dom_classes": [
        "widget-interact"
       ],
       "children": [
        "IPY_MODEL_07d4d6c4a7ad4f43b21272d8b1690452",
        "IPY_MODEL_25f26ad464bb4031b45f389bcbfbe3dc"
       ],
       "layout": "IPY_MODEL_34919dd2421741ef949bc0c78889b399"
      }
     },
     "f10da1e5cd5346a78f9a7c86b941d227": {
      "model_module": "@jupyter-widgets/controls",
      "model_module_version": "1.0.0",
      "model_name": "SliderStyleModel",
      "state": {
       "description_width": ""
      }
     },
     "f1969d2450af46898a4ee11213cc7ab7": {
      "model_module": "@jupyter-widgets/base",
      "model_module_version": "1.0.0",
      "model_name": "LayoutModel",
      "state": {}
     },
     "f2d102fa57894c6b98ec7c068d274cff": {
      "model_module": "@jupyter-widgets/output",
      "model_module_version": "1.0.0",
      "model_name": "OutputModel",
      "state": {
       "layout": "IPY_MODEL_4884b93da1854a6fb6c8a1df3fe4e085",
       "outputs": [
        {
         "data": {
          "text/plain": "-2"
         },
         "metadata": {},
         "output_type": "display_data"
        }
       ]
      }
     },
     "f373371813e34595a3793c8d7bc8b813": {
      "model_module": "@jupyter-widgets/controls",
      "model_module_version": "1.0.0",
      "model_name": "IntSliderModel",
      "state": {
       "description": "Range 1",
       "layout": "IPY_MODEL_17294332669c4a168c8f675ed5cf17b8",
       "style": "IPY_MODEL_6559c589c4694746acc59321c286ce32",
       "value": 1
      }
     },
     "f415c641045c44ba8c38822bf9ae8509": {
      "model_module": "@jupyter-widgets/controls",
      "model_module_version": "1.0.0",
      "model_name": "DescriptionStyleModel",
      "state": {
       "description_width": ""
      }
     },
     "f417e261c248439aade3e7478e0b80f2": {
      "model_module": "@jupyter-widgets/base",
      "model_module_version": "1.0.0",
      "model_name": "LayoutModel",
      "state": {}
     },
     "f46af74662584bfba58bc68f32928b82": {
      "model_module": "@jupyter-widgets/base",
      "model_module_version": "1.0.0",
      "model_name": "LayoutModel",
      "state": {}
     },
     "f59f8fe25f304f73a85566af10446e02": {
      "model_module": "@jupyter-widgets/controls",
      "model_module_version": "1.0.0",
      "model_name": "LabelModel",
      "state": {
       "layout": "IPY_MODEL_ad81cd2c841b47bcac699d7b1ea865bc",
       "style": "IPY_MODEL_31cea6e5781449f59454d455266685bd",
       "value": "Egg style"
      }
     },
     "f5c02a137dc942f49d8bc5acfc2ba5da": {
      "model_module": "@jupyter-widgets/controls",
      "model_module_version": "1.0.0",
      "model_name": "SliderStyleModel",
      "state": {
       "description_width": ""
      }
     },
     "f5f14ff5e9d14a728da64ee731b3269e": {
      "model_module": "@jupyter-widgets/controls",
      "model_module_version": "1.0.0",
      "model_name": "SliderStyleModel",
      "state": {
       "description_width": ""
      }
     },
     "f5fbc32a7e104917a32018bef684a0a6": {
      "model_module": "@jupyter-widgets/controls",
      "model_module_version": "1.0.0",
      "model_name": "TextModel",
      "state": {
       "layout": "IPY_MODEL_797a05a2aaeb44f9a7e168b9f043b7cd",
       "style": "IPY_MODEL_19d022b125c94c5b935fe993e5ba4161"
      }
     },
     "f6ac5a4ba9444d1b81e178975238d50f": {
      "model_module": "@jupyter-widgets/controls",
      "model_module_version": "1.0.0",
      "model_name": "FloatSliderModel",
      "state": {
       "continuous_update": false,
       "description": "Test:",
       "layout": "IPY_MODEL_c46a5c64b7894903b2cccc5dbd2603ff",
       "max": 10,
       "readout_format": ".1f",
       "step": 0.1,
       "style": "IPY_MODEL_55294591f06a43c986d7187a3d7234c2",
       "value": 7.5
      }
     },
     "f7f99c120cf74d50ad81564eba4164e4": {
      "model_module": "@jupyter-widgets/base",
      "model_module_version": "1.0.0",
      "model_name": "LayoutModel",
      "state": {}
     },
     "f8afcc2293f34c8881ae934629cac79f": {
      "model_module": "@jupyter-widgets/base",
      "model_module_version": "1.0.0",
      "model_name": "LayoutModel",
      "state": {}
     },
     "f8c831421d994405b63067859c5c0173": {
      "model_module": "@jupyter-widgets/output",
      "model_module_version": "1.0.0",
      "model_name": "OutputModel",
      "state": {
       "layout": "IPY_MODEL_528e0e52dc6744379737787973fd712c",
       "outputs": [
        {
         "data": {
          "text/plain": "7"
         },
         "metadata": {},
         "output_type": "display_data"
        }
       ]
      }
     },
     "f904f5918ead4be6802ce0c0dea78fe9": {
      "model_module": "@jupyter-widgets/controls",
      "model_module_version": "1.0.0",
      "model_name": "SliderStyleModel",
      "state": {
       "description_width": ""
      }
     },
     "faa1d076c34d49f09da6786c430be15d": {
      "model_module": "@jupyter-widgets/base",
      "model_module_version": "1.0.0",
      "model_name": "LayoutModel",
      "state": {}
     },
     "faeef11f8e114069bb399d0355b3e8bf": {
      "model_module": "@jupyter-widgets/controls",
      "model_module_version": "1.0.0",
      "model_name": "LabelModel",
      "state": {
       "layout": "IPY_MODEL_f46af74662584bfba58bc68f32928b82",
       "style": "IPY_MODEL_0d184fa91c6041c59e5c5eb93f58d872",
       "value": "The values of slider1 and slider2 are synchronized"
      }
     },
     "fb11eedfad9c4eba8f365c9ac04cc3eb": {
      "model_module": "@jupyter-widgets/controls",
      "model_module_version": "1.0.0",
      "model_name": "DescriptionStyleModel",
      "state": {
       "description_width": ""
      }
     },
     "fbb759c6b00248108c9135206952dfab": {
      "model_module": "@jupyter-widgets/base",
      "model_module_version": "1.0.0",
      "model_name": "LayoutModel",
      "state": {}
     },
     "fc28401da5af48d8bc52d1706b54171e": {
      "model_module": "@jupyter-widgets/base",
      "model_module_version": "1.0.0",
      "model_name": "LayoutModel",
      "state": {}
     },
     "fcb1308767724e9ebe66ea1b005582fc": {
      "model_module": "@jupyter-widgets/base",
      "model_module_version": "1.0.0",
      "model_name": "LayoutModel",
      "state": {}
     },
     "fd5598159e9b4fdd9f548ca05c6ba1bb": {
      "model_module": "@jupyter-widgets/output",
      "model_module_version": "1.0.0",
      "model_name": "OutputModel",
      "state": {
       "layout": "IPY_MODEL_50e544e2d31046a3a8025223b26d2f30",
       "outputs": [
        {
         "data": {
          "text/plain": "46"
         },
         "metadata": {},
         "output_type": "display_data"
        }
       ]
      }
     },
     "fe4607a24f1044469c55a1f045379201": {
      "model_module": "@jupyter-widgets/controls",
      "model_module_version": "1.0.0",
      "model_name": "DescriptionStyleModel",
      "state": {
       "description_width": ""
      }
     },
     "fe62a51a06a34adead2e4fc4809f9a3d": {
      "model_module": "@jupyter-widgets/controls",
      "model_module_version": "1.0.0",
      "model_name": "TextareaModel",
      "state": {
       "layout": "IPY_MODEL_54df3cf367c34158af732010b4f460ca",
       "style": "IPY_MODEL_3c8b96a2da8d491c99862ed7715ab52b"
      }
     },
     "ff135baa288d4bb39138bcbc46969415": {
      "model_module": "@jupyter-widgets/output",
      "model_module_version": "1.0.0",
      "model_name": "OutputModel",
      "state": {
       "layout": "IPY_MODEL_34aaf316929245b58e28c2959514a639",
       "outputs": [
        {
         "data": {
          "text/plain": "(5, 20)"
         },
         "metadata": {},
         "output_type": "display_data"
        }
       ]
      }
     },
     "ff8c73f126f848fd945b996f2fb98f92": {
      "model_module": "@jupyter-widgets/controls",
      "model_module_version": "1.0.0",
      "model_name": "DescriptionStyleModel",
      "state": {
       "description_width": ""
      }
     }
    },
    "version_major": 2,
    "version_minor": 0
   }
  }
 },
 "nbformat": 4,
 "nbformat_minor": 2
}
